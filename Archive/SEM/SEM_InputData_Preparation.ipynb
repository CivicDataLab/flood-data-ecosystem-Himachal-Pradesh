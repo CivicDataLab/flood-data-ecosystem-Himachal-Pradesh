{
 "cells": [
  {
   "cell_type": "code",
   "execution_count": 3,
   "id": "4a906f8f",
   "metadata": {},
   "outputs": [],
   "source": [
    "import pandas as pd\n",
    "import pygsheets\n",
    "import regex as re"
   ]
  },
  {
   "cell_type": "code",
   "execution_count": 4,
   "id": "581182a4",
   "metadata": {},
   "outputs": [],
   "source": [
    "frims = pd.read_csv(r'RawInputData/frims_damages.csv')\n",
    "frims.crop_area_affected = frims.crop_area_affected.apply(lambda x: re.findall(r'\\d+\\.*\\d*',x)[0])\n",
    "frims.crop_area_affected = frims.crop_area_affected.astype(float)\n",
    "frims_5y = frims.groupby(['object_id'])[['population_affected','crop_area_affected',\n",
    "                                        'human_lives_lost','roads_dam','bridges_dam','embankment_total']].sum().reset_index()\n"
   ]
  },
  {
   "cell_type": "code",
   "execution_count": 5,
   "id": "afbbcd3a",
   "metadata": {},
   "outputs": [],
   "source": [
    "procurement = pd.read_csv(r'RawInputData/procurement.csv')\n",
    "cols = ['Count_Roads_Bridges_Embankments', 'Sum_Roads_Bridges_Embankments',\n",
    "       'Count_Erosion', 'Sum_Erosion', 'Count_IM', 'Sum_IM', 'Count_new_const',\n",
    "       'Sum_new_const', 'Count_repair_rest_imp', 'Sum_repair_rest_imp',\n",
    "       'Count_relief_preparation', 'Sum_relief_preparation', 'Count_goods',\n",
    "       'Sum_goods', 'Count_Total', 'Sum_Total', 'Count_SDRF', 'Sum_SDRF',\n",
    "       'Count_SOPD', 'Sum_SOPD', 'Count_CIDF', 'Sum_CIDF', 'Count_LTIF',\n",
    "       'Sum_LTIF', 'Count_RIDF', 'Sum_RIDF']\n",
    "procurement_5y = procurement.groupby(['object_id'])[cols].sum().reset_index()"
   ]
  },
  {
   "cell_type": "code",
   "execution_count": 6,
   "id": "b8d96b30",
   "metadata": {},
   "outputs": [],
   "source": [
    "infra_access = pd.read_csv(r'RawInputData/infra_access.csv')\n",
    "infra_access = infra_access.groupby('object_id')[['proximity_hosptial_rd', 'proximity_embankment_rd',\n",
    "       'proximity_rail_rd', 'proximity_local_rd', 'proximity_arterial_rd',\n",
    "       'ndbi']].median().reset_index()"
   ]
  },
  {
   "cell_type": "code",
   "execution_count": 7,
   "id": "c8018331",
   "metadata": {},
   "outputs": [],
   "source": [
    "demographicvulnerability = pd.read_csv(r'RawInputData/demographicvulnerability.csv')\n",
    "demographicvulnerability = demographicvulnerability.groupby('object_id')[['ind_ppp_UNadj', 'aged', 'young', 'percaay',\n",
    "       'deprived', 'nophone', 'noSanitation', 'nodrinkingWater',\n",
    "       'totLivestock']].median().reset_index()"
   ]
  },
  {
   "cell_type": "code",
   "execution_count": 8,
   "id": "3ec71d09",
   "metadata": {},
   "outputs": [],
   "source": [
    "floodproneness = pd.read_csv(r'RawInputData/floodproneness.csv')\n",
    "\n",
    "floodproneness = pd.get_dummies(floodproneness,\n",
    "                                      columns = ['assam_soil', 'assam_lith','landuse'],\n",
    "                                      dummy_na=False,\n",
    "                                      drop_first=True)\n",
    "\n",
    "\n",
    "cat_cols = ['assam_soil_loam, silt loam, silt, sandy loam',\n",
    "       'assam_soil_loamy sand, sand',\n",
    "       'assam_soil_rocky, other non-soil categories',\n",
    "       'assam_lith_neogene sedimentary rock',\n",
    "       'assam_lith_paleogene sedementary rock', 'assam_lith_paleozoic rock',\n",
    "       'assam_lith_quaternary sediments',\n",
    "       'assam_lith_tertiary sedimentary rocks',\n",
    "       'assam_lith_undeveloped precambrian rock', 'assam_lith_water',\n",
    "       'landuse_range land', 'landuse_vegetation', 'landuse_water','object_id']\n",
    "\n",
    "floodproneness_cat = floodproneness[cat_cols].groupby('object_id').agg(lambda x:x.value_counts().index[0])\n",
    "floodproneness_cat.columns = ['assam_soil_silt',\n",
    "       'assam_soil_loamysand',\n",
    "       'assam_soil_rocky',\n",
    "       'assam_lith_neogene',\n",
    "       'assam_lith_paleogene', 'assam_lith_paleozoic',\n",
    "       'assam_lith_quaternary',\n",
    "       'assam_lith_tertiary',\n",
    "       'assam_lith_undevelopedprecambrian', 'assam_lith_water',\n",
    "       'landuse_rangeland', 'landuse_vegetation', 'landuse_water']\n",
    "floodproneness_con = floodproneness.groupby('object_id')[['gmted_drainage_density_without_1',\n",
    "       'srtm_filled_dem', 'GCN250_ARCIII_average', 'Inundation', 'sum',\n",
    "       'assam_dist_from_major_rivers_updated_3857',\n",
    "       'strm_filled_slope_degrees', 'ndvi']].mean()\n",
    "\n",
    "floodproneness = pd.concat([floodproneness_con,floodproneness_cat],axis=1).reset_index()"
   ]
  },
  {
   "cell_type": "code",
   "execution_count": 9,
   "id": "bc92a67c",
   "metadata": {},
   "outputs": [],
   "source": [
    "consolidated_5y = floodproneness.merge(demographicvulnerability,on='object_id').\\\n",
    "        merge(infra_access,on='object_id').merge(frims_5y,on='object_id').merge(procurement_5y,on='object_id',how='left')"
   ]
  },
  {
   "cell_type": "code",
   "execution_count": 10,
   "id": "00216eb5",
   "metadata": {},
   "outputs": [],
   "source": [
    "consolidated_5y.to_csv('SEM_InputData/SEM_Input_Consolidated_5Years.csv',index=False)"
   ]
  },
  {
   "cell_type": "code",
   "execution_count": 11,
   "id": "6e562139",
   "metadata": {},
   "outputs": [],
   "source": [
    "google_client = pygsheets.authorize(service_file='idea-frm-500603810b1a.json')\n",
    "SEM_Input_ConsolidatedRC_google_sheet = google_client.open('SEM_Input_Consolidated')"
   ]
  },
  {
   "cell_type": "code",
   "execution_count": 12,
   "id": "5d70872d",
   "metadata": {},
   "outputs": [],
   "source": [
    "consolidated_5y_sheet = SEM_Input_ConsolidatedRC_google_sheet.worksheet('title','cum_5y')\n",
    "consolidated_5y_sheet.clear()\n",
    "consolidated_5y_sheet.set_dataframe(consolidated_5y, (1,1))"
   ]
  }
 ],
 "metadata": {
  "kernelspec": {
   "display_name": "Python 3 (ipykernel)",
   "language": "python",
   "name": "python3"
  },
  "language_info": {
   "codemirror_mode": {
    "name": "ipython",
    "version": 3
   },
   "file_extension": ".py",
   "mimetype": "text/x-python",
   "name": "python",
   "nbconvert_exporter": "python",
   "pygments_lexer": "ipython3",
   "version": "3.9.13"
  }
 },
 "nbformat": 4,
 "nbformat_minor": 5
}
