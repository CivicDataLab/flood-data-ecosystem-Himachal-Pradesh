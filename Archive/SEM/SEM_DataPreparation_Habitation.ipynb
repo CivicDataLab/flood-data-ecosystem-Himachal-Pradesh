{
 "cells": [
  {
   "cell_type": "code",
   "execution_count": 62,
   "id": "1b425e61",
   "metadata": {},
   "outputs": [],
   "source": [
    "import pandas as pd\n",
    "import os\n",
    "import glob\n",
    "import numpy as np\n",
    "import geopandas as gpd\n",
    "import regex as re\n",
    "import sklearn.neighbors._base\n",
    "import sys\n",
    "sys.modules['sklearn.neighbors.base'] = sklearn.neighbors._base\n",
    "from missingpy import MissForest"
   ]
  },
  {
   "cell_type": "code",
   "execution_count": 2,
   "id": "2d263db2",
   "metadata": {},
   "outputs": [],
   "source": [
    "raw_input = r\"RawInputData\"\n",
    "points_directory = r\"RawInputData/svm_points_dec\"\n",
    "sem_input = r\"SEM_InputData\""
   ]
  },
  {
   "cell_type": "code",
   "execution_count": 3,
   "id": "52d914d4",
   "metadata": {},
   "outputs": [],
   "source": [
    "assam_rcs_gdf = gpd.read_file(raw_input+r'/Assam_Revenue_Circles/assam_revenue_circle_nov2022.shp')"
   ]
  },
  {
   "cell_type": "code",
   "execution_count": 4,
   "id": "21d3fae7",
   "metadata": {},
   "outputs": [],
   "source": [
    "assam_habitations_gdf = gpd.read_file(raw_input+r'/Assam_habitation_geosadak/Habitation.shp')"
   ]
  },
  {
   "cell_type": "code",
   "execution_count": 5,
   "id": "13866d99",
   "metadata": {},
   "outputs": [],
   "source": [
    "assam_habitations_rc_gdf = gpd.sjoin(assam_rcs_gdf.to_crs('EPSG:4326'), assam_habitations_gdf.to_crs('EPSG:4326'),\n",
    "                  how='inner', predicate='contains')\n",
    "\n",
    "# Few Habitations are on border and are mapped to multiple reevnue circles. These are very few in number\n",
    "assam_habitations_rc_gdf = assam_habitations_rc_gdf.drop_duplicates(subset='HAB_ID')"
   ]
  },
  {
   "cell_type": "code",
   "execution_count": 6,
   "id": "06574689",
   "metadata": {},
   "outputs": [],
   "source": [
    "demography_pts_files = glob.glob(points_directory+r\"/demography_pts*\")\n",
    "demography_pts_dfs = []\n",
    "for file in demography_pts_files:\n",
    "    demography_pts_dfs.append(pd.read_csv(file).fillna(0))\n",
    "demography_pts_df = pd.concat(demography_pts_dfs).drop(['x','y','Unnamed: 0'],axis=1)\n",
    "demography_pts_df = demography_pts_df[demography_pts_df.yr>=2018]\n",
    "#convert NA to 0"
   ]
  },
  {
   "cell_type": "code",
   "execution_count": 7,
   "id": "77361d8f",
   "metadata": {},
   "outputs": [],
   "source": [
    "infrastructure_pts_files = glob.glob(points_directory+r\"/infrastructure_pts*\")\n",
    "infrastructure_pts_dfs = []\n",
    "for file in infrastructure_pts_files:\n",
    "    infrastructure_pts_dfs.append(pd.read_csv(file).fillna(0))\n",
    "infrastructure_pts_df = pd.concat(infrastructure_pts_dfs).drop(['x','y','Unnamed: 0'],axis=1)\n",
    "infrastructure_pts_df = infrastructure_pts_df[infrastructure_pts_df.yr>=2018]\n",
    "#convert NA to 0"
   ]
  },
  {
   "cell_type": "code",
   "execution_count": 8,
   "id": "9f1bf66a",
   "metadata": {},
   "outputs": [],
   "source": [
    "new_built_pts_files = glob.glob(points_directory+r\"/new_built_pts*\")\n",
    "new_built_pts_dfs = []\n",
    "for file in new_built_pts_files:\n",
    "    new_built_pts_dfs.append(pd.read_csv(file))\n",
    "new_built_pts_df = pd.concat(new_built_pts_dfs).drop(['x','y','Unnamed: 0'],axis=1)"
   ]
  },
  {
   "cell_type": "code",
   "execution_count": 9,
   "id": "20bffcae",
   "metadata": {},
   "outputs": [],
   "source": [
    "new_drnDens_pts_files = glob.glob(points_directory+r\"/new_drnDens_pts*\")\n",
    "new_drnDens_pts_dfs = []\n",
    "for file in new_drnDens_pts_files:\n",
    "    new_drnDens_pts_dfs.append(pd.read_csv(file))\n",
    "new_drnDens_pts_df = pd.concat(new_drnDens_pts_dfs).drop(['x','y','Unnamed: 0'],axis=1)"
   ]
  },
  {
   "cell_type": "code",
   "execution_count": 10,
   "id": "a47d759f",
   "metadata": {},
   "outputs": [],
   "source": [
    "new_elv_pts_files = glob.glob(points_directory+r\"/new_elv_pts*\")\n",
    "new_elv_pts_dfs = []\n",
    "for file in new_elv_pts_files:\n",
    "    new_elv_pts_dfs.append(pd.read_csv(file))\n",
    "new_elv_pts_df = pd.concat(new_elv_pts_dfs).drop(['x','y','Unnamed: 0'],axis=1)"
   ]
  },
  {
   "cell_type": "code",
   "execution_count": 11,
   "id": "6253c115",
   "metadata": {},
   "outputs": [],
   "source": [
    "new_gcn_pts_files = glob.glob(points_directory+r\"/new_gcn_pts*\")\n",
    "new_gcn_pts_dfs = []\n",
    "for file in new_gcn_pts_files:\n",
    "    new_gcn_pts_dfs.append(pd.read_csv(file))\n",
    "new_gcn_pts_df = pd.concat(new_gcn_pts_dfs).drop(['x','y','Unnamed: 0'],axis=1)"
   ]
  },
  {
   "cell_type": "code",
   "execution_count": 12,
   "id": "f1057d8c",
   "metadata": {},
   "outputs": [],
   "source": [
    "new_highfld_pts_files = glob.glob(points_directory+r\"/new_highfld_01_pts*\")\n",
    "new_highfld_pts_dfs = []\n",
    "for file in new_highfld_pts_files:\n",
    "    new_highfld_pts_dfs.append(pd.read_csv(file))\n",
    "new_highfld_pts_df = pd.concat(new_highfld_pts_dfs).drop(['x','y','Unnamed: 0'],axis=1)\n",
    "#Need not take in the model."
   ]
  },
  {
   "cell_type": "code",
   "execution_count": 13,
   "id": "64d2324e",
   "metadata": {},
   "outputs": [],
   "source": [
    "new_inundation_pts_files = glob.glob(points_directory+r\"/new_inundation_map_pts*\")\n",
    "new_inundation_pts_dfs = []\n",
    "for file in new_inundation_pts_files:\n",
    "    new_inundation_pts_dfs.append(pd.read_csv(file).fillna(0))\n",
    "new_inundation_pts_df = pd.concat(new_inundation_pts_dfs).drop(['x','y','Unnamed: 0'],axis=1)\n",
    "#convert NA to 0"
   ]
  },
  {
   "cell_type": "code",
   "execution_count": 14,
   "id": "122b4890",
   "metadata": {},
   "outputs": [],
   "source": [
    "new_lu_pts_files = glob.glob(points_directory+r\"/new_lu_pts*\")\n",
    "new_lu_pts_dfs = []\n",
    "for file in new_lu_pts_files:\n",
    "    new_lu_pts_dfs.append(pd.read_csv(file))\n",
    "new_lu_pts_df = pd.concat(new_lu_pts_dfs).drop(['x','y','Unnamed: 0'],axis=1)"
   ]
  },
  {
   "cell_type": "code",
   "execution_count": 15,
   "id": "0c6df468",
   "metadata": {},
   "outputs": [],
   "source": [
    "new_rain_pts_files = glob.glob(points_directory+r\"/new_rain_pts*\")\n",
    "new_rain_pts_dfs = []\n",
    "for file in new_rain_pts_files:\n",
    "    new_rain_pts_dfs.append(pd.read_csv(file))\n",
    "new_rain_pts_df = pd.concat(new_rain_pts_dfs).drop(['x','y','Unnamed: 0'],axis=1)"
   ]
  },
  {
   "cell_type": "code",
   "execution_count": 16,
   "id": "6fd42e13",
   "metadata": {},
   "outputs": [],
   "source": [
    "new_rivdist_pts_files = glob.glob(points_directory+r\"/new_rivdist_pts*\")\n",
    "new_rivdist_pts_dfs = []\n",
    "for file in new_rivdist_pts_files:\n",
    "    new_rivdist_pts_dfs.append(pd.read_csv(file))\n",
    "new_rivdist_pts_df = pd.concat(new_rivdist_pts_dfs).drop(['x','y','Unnamed: 0'],axis=1)"
   ]
  },
  {
   "cell_type": "code",
   "execution_count": 17,
   "id": "6b3f4250",
   "metadata": {},
   "outputs": [],
   "source": [
    "new_slope_pts_files = glob.glob(points_directory+r\"/new_slope_pts*\")\n",
    "new_slope_pts_dfs = []\n",
    "for file in new_slope_pts_files:\n",
    "    new_slope_pts_dfs.append(pd.read_csv(file))\n",
    "new_slope_pts_df = pd.concat(new_slope_pts_dfs).drop(['x','y','Unnamed: 0'],axis=1)"
   ]
  },
  {
   "cell_type": "code",
   "execution_count": 18,
   "id": "3e95d2e6",
   "metadata": {},
   "outputs": [],
   "source": [
    "new_soil_pts_files = glob.glob(points_directory+r\"/new_soil_pts*\")\n",
    "new_soil_pts_dfs = []\n",
    "for file in new_soil_pts_files:\n",
    "    new_soil_pts_dfs.append(pd.read_csv(file))\n",
    "new_soil_pts_df = pd.concat(new_soil_pts_dfs).drop(['x','y','Unnamed: 0'],axis=1)"
   ]
  },
  {
   "cell_type": "code",
   "execution_count": 19,
   "id": "a3244ad2",
   "metadata": {},
   "outputs": [],
   "source": [
    "new_veg_pts_files = glob.glob(points_directory+r\"/new_veg_pts*\")\n",
    "new_veg_pts_dfs = []\n",
    "for file in new_veg_pts_files:\n",
    "    new_veg_pts_dfs.append(pd.read_csv(file))\n",
    "new_veg_pts_df = pd.concat(new_veg_pts_dfs).drop(['x','y','Unnamed: 0'],axis=1)\n"
   ]
  },
  {
   "cell_type": "code",
   "execution_count": 20,
   "id": "b9e46e3f",
   "metadata": {},
   "outputs": [],
   "source": [
    "new_lith_pts_files = glob.glob(points_directory+r\"/new_lith_pts*\")\n",
    "new_lith_pts_dfs = []\n",
    "for file in new_lith_pts_files:\n",
    "    new_lith_pts_dfs.append(pd.read_csv(file))\n",
    "new_lith_pts_df = pd.concat(new_lith_pts_dfs).drop(['x','y','Unnamed: 0'],axis=1)"
   ]
  },
  {
   "cell_type": "code",
   "execution_count": 21,
   "id": "1ac600ad",
   "metadata": {},
   "outputs": [],
   "source": [
    "list_dfs = [demography_pts_df, infrastructure_pts_df, new_built_pts_df, new_drnDens_pts_df, new_elv_pts_df, new_gcn_pts_df,\n",
    "            new_inundation_pts_df, new_lu_pts_df, new_rain_pts_df, new_rivdist_pts_df, new_slope_pts_df, new_soil_pts_df,\n",
    "            new_veg_pts_df, new_lith_pts_df]\n",
    "\n",
    "MASTER = pd.concat(list_dfs, axis=1)\n",
    "MASTER = MASTER.loc[:,~MASTER.columns.duplicated()].copy()\n",
    "MASTER= MASTER.replace('U/A', np.nan)\n",
    "MASTER= MASTER.astype(float)\n",
    "MASTER['HAB_ID'] = assam_habitations_gdf['HAB_ID']\n",
    "MASTER = MASTER.drop('ID',axis=1)"
   ]
  },
  {
   "cell_type": "code",
   "execution_count": 22,
   "id": "c79d6972",
   "metadata": {},
   "outputs": [],
   "source": [
    "MASTER = MASTER.merge(assam_habitations_rc_gdf[['revenue_cr','object_id','HAB_ID','TOT_POPULA']])"
   ]
  },
  {
   "cell_type": "code",
   "execution_count": 23,
   "id": "dd0625d4",
   "metadata": {},
   "outputs": [],
   "source": [
    "frims = pd.read_csv(raw_input+r'/frims_damages.csv')\n",
    "frims.crop_area_affected = frims.crop_area_affected.apply(lambda x: re.findall(r'\\d+\\.*\\d*',x)[0])\n",
    "frims.crop_area_affected = frims.crop_area_affected.astype(float)\n",
    "#Only few damages details are available from 2018\n",
    "frims_rc = frims.groupby(['object_id','yr'])[['population_affected','crop_area_affected',\n",
    "                                         'human_lives_lost','roads_dam','bridges_dam',\n",
    "                                         'embankment_total']].sum().reset_index()"
   ]
  },
  {
   "cell_type": "code",
   "execution_count": 24,
   "id": "5198dc04",
   "metadata": {},
   "outputs": [],
   "source": [
    "MASTER_FRIMS = MASTER.merge(frims_rc,on=['object_id','yr'])"
   ]
  },
  {
   "cell_type": "code",
   "execution_count": null,
   "id": "905b060e",
   "metadata": {},
   "outputs": [],
   "source": [
    "## To distribute damages based on Habitation Population\n",
    "#frims_per_habitation_dfs = []\n",
    "#HAB_ID = MASTER_FRIMS.groupby(['object_id','yr']).apply(lambda x: x['HAB_ID']).reset_index().drop('level_2',axis=1)\n",
    "#HAB_ID.columns = ['object_id','yr','HAB_ID']\n",
    "#frims_per_habitation_dfs.append(HAB_ID)\n",
    "\n",
    "#for col in ['population_affected','human_lives_lost', 'roads_dam', 'bridges_dam', 'embankment_total']:\n",
    " #   damages_per_habitation = MASTER_FRIMS.groupby(['object_id','yr']).apply(lambda x: x[col]*x['TOT_POPULA']/x['TOT_POPULA'].sum()).reset_index().drop('level_2',axis=1)\n",
    "  #  damages_per_habitation.columns = ['object_id','yr', col]\n",
    "   # frims_per_habitation_dfs.append(damages_per_habitation)\n",
    "    \n",
    "#MASTER_FRIMS = pd.concat(frims_per_habitation_dfs,axis=1)\n",
    "#MASTER_FRIMS = MASTER_FRIMS.loc[:,~MASTER_FRIMS.columns.duplicated()].copy()\n",
    "#MASTER_FRIMS = MASTER.merge(MASTER_FRIMS.drop('object_id', axis=1),on=['HAB_ID','yr'])"
   ]
  },
  {
   "cell_type": "code",
   "execution_count": 25,
   "id": "08763a2b",
   "metadata": {},
   "outputs": [],
   "source": [
    "procurement = pd.read_csv(raw_input+r'/procurement.csv')\n",
    "cols = ['Count_Roads_Bridges_Embankments', 'Sum_Roads_Bridges_Embankments',\n",
    "       'Count_Erosion', 'Sum_Erosion', 'Count_IM', 'Sum_IM', 'Count_new_const',\n",
    "       'Sum_new_const', 'Count_repair_rest_imp', 'Sum_repair_rest_imp',\n",
    "       'Count_relief_preparation', 'Sum_relief_preparation', 'Count_goods',\n",
    "       'Sum_goods', 'Count_Total', 'Sum_Total', 'Count_SDRF', 'Sum_SDRF',\n",
    "       'Count_SOPD', 'Sum_SOPD', 'Count_CIDF', 'Sum_CIDF', 'Count_LTIF',\n",
    "       'Sum_LTIF', 'Count_RIDF', 'Sum_RIDF']\n",
    "procurement_rc = procurement.groupby(['object_id','yr'])[cols].sum().reset_index()\n",
    "#Not every revenue circle has procurement done."
   ]
  },
  {
   "cell_type": "code",
   "execution_count": 26,
   "id": "5be87eb7",
   "metadata": {},
   "outputs": [],
   "source": [
    "MASTER_PROC = MASTER_FRIMS.merge(procurement_rc, on=['object_id','yr'],how='left')\n",
    "#Not every revenue circle has procurement done."
   ]
  },
  {
   "cell_type": "code",
   "execution_count": null,
   "id": "3a324053",
   "metadata": {},
   "outputs": [],
   "source": [
    "## Top distribute damages based on Habitation Population\n",
    "#procurement_per_habitation_dfs = []\n",
    "#HAB_ID = MASTER_PROC.groupby(['object_id','yr']).apply(lambda x: x['HAB_ID']).reset_index().drop('level_2',axis=1)\n",
    "#HAB_ID.columns = ['object_id','yr','HAB_ID']\n",
    "#procurement_per_habitation_dfs.append(HAB_ID)\n",
    "\n",
    "#for col in cols:\n",
    " #   proc_per_habitation = MASTER_PROC.groupby(['object_id','yr']).apply(lambda x: x[col]*x['TOT_POPULA']/x['TOT_POPULA'].sum()).reset_index().drop('level_2',axis=1)\n",
    "  #  proc_per_habitation.columns = ['object_id','yr', col]\n",
    "   # procurement_per_habitation_dfs.append(proc_per_habitation)\n",
    "\n",
    "#MASTER_PROC = pd.concat(procurement_per_habitation_dfs,axis=1)\n",
    "#MASTER_PROC = MASTER_PROC.loc[:,~MASTER_PROC.columns.duplicated()].copy()\n",
    "\n",
    "#MASTER_PROC = MASTER.merge(MASTER_PROC.drop('object_id', axis=1),on=['HAB_ID','yr'])"
   ]
  },
  {
   "cell_type": "code",
   "execution_count": 27,
   "id": "da5844c8",
   "metadata": {},
   "outputs": [],
   "source": [
    "MASTER_PROC.to_csv(sem_input+r'/SEM_Input_HabitationLevel_yearly.csv',index=False)"
   ]
  },
  {
   "cell_type": "code",
   "execution_count": 73,
   "id": "0ad88955",
   "metadata": {},
   "outputs": [],
   "source": [
    "lu_dict = {1: \"water\",\n",
    "           2: \"vegetation\",\n",
    "           3: \"built\",\n",
    "           4: \"range land\",\n",
    "           5: \"bare ground\"}\n",
    "\n",
    "soil_dict = {56: \"clay, loamy clay, sandy clay, silty clay\",\n",
    "            254: \"rocky, other non-soil categories\",\n",
    "            255: \"loamy sand, sand\",\n",
    "            230:\"loam, silt loam, silt, sandy loam\"}\n",
    "\n",
    "lith_dict = {1:\"water\",\n",
    "             2:\"metamorphic, mesozoic and paleozoic intusive\",\n",
    "             3:\"neogene sedimentary rock\",\n",
    "             4:\"undeveloped precambrian rock\",\n",
    "             5:\"paleogene sedementary rock\",\n",
    "             6:\"paleozoic rock\",\n",
    "             7:\"quaternary sediments\",\n",
    "             8:\"tertiary sedimentary rocks\"}"
   ]
  },
  {
   "cell_type": "code",
   "execution_count": 74,
   "id": "73d5fbe2",
   "metadata": {},
   "outputs": [],
   "source": [
    "MASTER_PROC = MASTER_PROC.replace({\"assam_soil\": soil_dict,\n",
    "                             \"assam_lith\":lith_dict,\n",
    "                            \"land use\":lu_dict})"
   ]
  },
  {
   "cell_type": "code",
   "execution_count": 75,
   "id": "c3958c23",
   "metadata": {},
   "outputs": [],
   "source": [
    "#RF IMPUTATION\n",
    "one_hot_encoded_data = pd.get_dummies(MASTER_PROC, columns = ['assam_soil', 'assam_lith','land use'],\n",
    "                                     dummy_na=True,drop_first=True)\n",
    "\n",
    "# Ensuring OHE data represents Null values.\n",
    "one_hot_encoded_data.loc[one_hot_encoded_data.assam_soil_nan == 1,\n",
    "\n",
    "                         [  # \"assam_soil_clay, loamy clay, sandy clay, silty clay\", reference\n",
    "                             \"assam_soil_loamy sand, sand\",\n",
    "                             \"assam_soil_rocky, other non-soil categories\",\n",
    "                             \"assam_soil_loam, silt loam, silt, sandy loam\"]] = np.nan\n",
    "\n",
    "del one_hot_encoded_data[\"assam_soil_nan\"]\n",
    "\n",
    "one_hot_encoded_data.loc[one_hot_encoded_data.assam_lith_nan == 1,\n",
    "\n",
    "                         [  # \"assam_lith_metamorphic, mesozoic and paleozoic intusive\", reference\n",
    "                             \"assam_lith_neogene sedimentary rock\",\n",
    "                             \"assam_lith_paleogene sedementary rock\",\n",
    "                             \"assam_lith_paleozoic rock\",\n",
    "                             \"assam_lith_undeveloped precambrian rock\",\n",
    "                             \"assam_lith_quaternary sediments\",\n",
    "                             \"assam_lith_tertiary sedimentary rocks\",\n",
    "                             \"assam_lith_water\"\n",
    "                         ]] = np.nan\n",
    "\n",
    "del one_hot_encoded_data[\"assam_lith_nan\"]\n",
    "\n",
    "one_hot_encoded_data.loc[one_hot_encoded_data['land use_nan'] == 1,\n",
    "\n",
    "                         [  # \"land use_bare ground\",reference\n",
    "                             \"land use_built\",\n",
    "                             \"land use_range land\",\n",
    "                             \"land use_vegetation\",\n",
    "                             \"land use_water\"\n",
    "                         ]] = np.nan\n",
    "\n",
    "del one_hot_encoded_data[\"land use_nan\"]"
   ]
  },
  {
   "cell_type": "code",
   "execution_count": 76,
   "id": "610431ed",
   "metadata": {},
   "outputs": [],
   "source": [
    "X = one_hot_encoded_data.drop(['object_id', 'HAB_ID', 'revenue_cr'],axis=1)\n",
    "X = X.replace('U/A', np.nan)"
   ]
  },
  {
   "cell_type": "code",
   "execution_count": 88,
   "id": "a888e1e6",
   "metadata": {},
   "outputs": [
    {
     "name": "stderr",
     "output_type": "stream",
     "text": [
      "/home/ubuntu/anaconda3/lib/python3.9/site-packages/missingpy/missforest.py:475: FutureWarning: Unlike other reduction functions (e.g. `skew`, `kurtosis`), the default behavior of `mode` typically preserves the axis it acts along. In SciPy 1.11.0, this behavior will change: the default value of `keepdims` will become False, the `axis` over which the statistic is taken will be eliminated, and the value None will no longer be accepted. Set `keepdims` to True or False to avoid this warning.\n",
      "  col_modes = mode(\n",
      "/home/ubuntu/anaconda3/lib/python3.9/site-packages/sklearn/ensemble/_forest.py:396: FutureWarning: Criterion 'mse' was deprecated in v1.0 and will be removed in version 1.2. Use `criterion='squared_error'` which is equivalent.\n",
      "  warn(\n",
      "/home/ubuntu/anaconda3/lib/python3.9/site-packages/sklearn/ensemble/_forest.py:396: FutureWarning: Criterion 'mse' was deprecated in v1.0 and will be removed in version 1.2. Use `criterion='squared_error'` which is equivalent.\n",
      "  warn(\n",
      "/home/ubuntu/anaconda3/lib/python3.9/site-packages/sklearn/ensemble/_forest.py:396: FutureWarning: Criterion 'mse' was deprecated in v1.0 and will be removed in version 1.2. Use `criterion='squared_error'` which is equivalent.\n",
      "  warn(\n",
      "/home/ubuntu/anaconda3/lib/python3.9/site-packages/sklearn/ensemble/_forest.py:396: FutureWarning: Criterion 'mse' was deprecated in v1.0 and will be removed in version 1.2. Use `criterion='squared_error'` which is equivalent.\n",
      "  warn(\n",
      "/home/ubuntu/anaconda3/lib/python3.9/site-packages/sklearn/ensemble/_forest.py:396: FutureWarning: Criterion 'mse' was deprecated in v1.0 and will be removed in version 1.2. Use `criterion='squared_error'` which is equivalent.\n",
      "  warn(\n",
      "/home/ubuntu/anaconda3/lib/python3.9/site-packages/sklearn/ensemble/_forest.py:396: FutureWarning: Criterion 'mse' was deprecated in v1.0 and will be removed in version 1.2. Use `criterion='squared_error'` which is equivalent.\n",
      "  warn(\n",
      "/home/ubuntu/anaconda3/lib/python3.9/site-packages/sklearn/ensemble/_forest.py:396: FutureWarning: Criterion 'mse' was deprecated in v1.0 and will be removed in version 1.2. Use `criterion='squared_error'` which is equivalent.\n",
      "  warn(\n",
      "/home/ubuntu/anaconda3/lib/python3.9/site-packages/sklearn/ensemble/_forest.py:396: FutureWarning: Criterion 'mse' was deprecated in v1.0 and will be removed in version 1.2. Use `criterion='squared_error'` which is equivalent.\n",
      "  warn(\n",
      "/home/ubuntu/anaconda3/lib/python3.9/site-packages/sklearn/ensemble/_forest.py:396: FutureWarning: Criterion 'mse' was deprecated in v1.0 and will be removed in version 1.2. Use `criterion='squared_error'` which is equivalent.\n",
      "  warn(\n",
      "/home/ubuntu/anaconda3/lib/python3.9/site-packages/sklearn/ensemble/_forest.py:396: FutureWarning: Criterion 'mse' was deprecated in v1.0 and will be removed in version 1.2. Use `criterion='squared_error'` which is equivalent.\n",
      "  warn(\n",
      "/home/ubuntu/anaconda3/lib/python3.9/site-packages/sklearn/ensemble/_forest.py:396: FutureWarning: Criterion 'mse' was deprecated in v1.0 and will be removed in version 1.2. Use `criterion='squared_error'` which is equivalent.\n",
      "  warn(\n",
      "/home/ubuntu/anaconda3/lib/python3.9/site-packages/sklearn/ensemble/_forest.py:396: FutureWarning: Criterion 'mse' was deprecated in v1.0 and will be removed in version 1.2. Use `criterion='squared_error'` which is equivalent.\n",
      "  warn(\n",
      "/home/ubuntu/anaconda3/lib/python3.9/site-packages/sklearn/ensemble/_forest.py:396: FutureWarning: Criterion 'mse' was deprecated in v1.0 and will be removed in version 1.2. Use `criterion='squared_error'` which is equivalent.\n",
      "  warn(\n",
      "/home/ubuntu/anaconda3/lib/python3.9/site-packages/sklearn/ensemble/_forest.py:396: FutureWarning: Criterion 'mse' was deprecated in v1.0 and will be removed in version 1.2. Use `criterion='squared_error'` which is equivalent.\n",
      "  warn(\n",
      "/home/ubuntu/anaconda3/lib/python3.9/site-packages/sklearn/ensemble/_forest.py:396: FutureWarning: Criterion 'mse' was deprecated in v1.0 and will be removed in version 1.2. Use `criterion='squared_error'` which is equivalent.\n",
      "  warn(\n",
      "/home/ubuntu/anaconda3/lib/python3.9/site-packages/sklearn/ensemble/_forest.py:396: FutureWarning: Criterion 'mse' was deprecated in v1.0 and will be removed in version 1.2. Use `criterion='squared_error'` which is equivalent.\n",
      "  warn(\n",
      "/home/ubuntu/anaconda3/lib/python3.9/site-packages/sklearn/ensemble/_forest.py:396: FutureWarning: Criterion 'mse' was deprecated in v1.0 and will be removed in version 1.2. Use `criterion='squared_error'` which is equivalent.\n",
      "  warn(\n",
      "/home/ubuntu/anaconda3/lib/python3.9/site-packages/sklearn/ensemble/_forest.py:396: FutureWarning: Criterion 'mse' was deprecated in v1.0 and will be removed in version 1.2. Use `criterion='squared_error'` which is equivalent.\n",
      "  warn(\n",
      "/home/ubuntu/anaconda3/lib/python3.9/site-packages/sklearn/ensemble/_forest.py:396: FutureWarning: Criterion 'mse' was deprecated in v1.0 and will be removed in version 1.2. Use `criterion='squared_error'` which is equivalent.\n",
      "  warn(\n",
      "/home/ubuntu/anaconda3/lib/python3.9/site-packages/sklearn/ensemble/_forest.py:396: FutureWarning: Criterion 'mse' was deprecated in v1.0 and will be removed in version 1.2. Use `criterion='squared_error'` which is equivalent.\n",
      "  warn(\n",
      "/home/ubuntu/anaconda3/lib/python3.9/site-packages/sklearn/ensemble/_forest.py:396: FutureWarning: Criterion 'mse' was deprecated in v1.0 and will be removed in version 1.2. Use `criterion='squared_error'` which is equivalent.\n",
      "  warn(\n",
      "/home/ubuntu/anaconda3/lib/python3.9/site-packages/sklearn/ensemble/_forest.py:396: FutureWarning: Criterion 'mse' was deprecated in v1.0 and will be removed in version 1.2. Use `criterion='squared_error'` which is equivalent.\n",
      "  warn(\n",
      "/home/ubuntu/anaconda3/lib/python3.9/site-packages/sklearn/ensemble/_forest.py:396: FutureWarning: Criterion 'mse' was deprecated in v1.0 and will be removed in version 1.2. Use `criterion='squared_error'` which is equivalent.\n",
      "  warn(\n",
      "/home/ubuntu/anaconda3/lib/python3.9/site-packages/sklearn/ensemble/_forest.py:396: FutureWarning: Criterion 'mse' was deprecated in v1.0 and will be removed in version 1.2. Use `criterion='squared_error'` which is equivalent.\n",
      "  warn(\n",
      "/home/ubuntu/anaconda3/lib/python3.9/site-packages/sklearn/ensemble/_forest.py:396: FutureWarning: Criterion 'mse' was deprecated in v1.0 and will be removed in version 1.2. Use `criterion='squared_error'` which is equivalent.\n",
      "  warn(\n",
      "/home/ubuntu/anaconda3/lib/python3.9/site-packages/sklearn/ensemble/_forest.py:396: FutureWarning: Criterion 'mse' was deprecated in v1.0 and will be removed in version 1.2. Use `criterion='squared_error'` which is equivalent.\n",
      "  warn(\n",
      "/home/ubuntu/anaconda3/lib/python3.9/site-packages/sklearn/ensemble/_forest.py:396: FutureWarning: Criterion 'mse' was deprecated in v1.0 and will be removed in version 1.2. Use `criterion='squared_error'` which is equivalent.\n",
      "  warn(\n",
      "/home/ubuntu/anaconda3/lib/python3.9/site-packages/sklearn/ensemble/_forest.py:396: FutureWarning: Criterion 'mse' was deprecated in v1.0 and will be removed in version 1.2. Use `criterion='squared_error'` which is equivalent.\n",
      "  warn(\n",
      "/home/ubuntu/anaconda3/lib/python3.9/site-packages/sklearn/ensemble/_forest.py:396: FutureWarning: Criterion 'mse' was deprecated in v1.0 and will be removed in version 1.2. Use `criterion='squared_error'` which is equivalent.\n",
      "  warn(\n",
      "/home/ubuntu/anaconda3/lib/python3.9/site-packages/sklearn/ensemble/_forest.py:396: FutureWarning: Criterion 'mse' was deprecated in v1.0 and will be removed in version 1.2. Use `criterion='squared_error'` which is equivalent.\n",
      "  warn(\n"
     ]
    },
    {
     "name": "stdout",
     "output_type": "stream",
     "text": [
      "Iteration: 0\n"
     ]
    },
    {
     "name": "stderr",
     "output_type": "stream",
     "text": [
      "/home/ubuntu/anaconda3/lib/python3.9/site-packages/sklearn/ensemble/_forest.py:396: FutureWarning: Criterion 'mse' was deprecated in v1.0 and will be removed in version 1.2. Use `criterion='squared_error'` which is equivalent.\n",
      "  warn(\n",
      "/home/ubuntu/anaconda3/lib/python3.9/site-packages/sklearn/ensemble/_forest.py:396: FutureWarning: Criterion 'mse' was deprecated in v1.0 and will be removed in version 1.2. Use `criterion='squared_error'` which is equivalent.\n",
      "  warn(\n",
      "/home/ubuntu/anaconda3/lib/python3.9/site-packages/sklearn/ensemble/_forest.py:396: FutureWarning: Criterion 'mse' was deprecated in v1.0 and will be removed in version 1.2. Use `criterion='squared_error'` which is equivalent.\n",
      "  warn(\n",
      "/home/ubuntu/anaconda3/lib/python3.9/site-packages/sklearn/ensemble/_forest.py:396: FutureWarning: Criterion 'mse' was deprecated in v1.0 and will be removed in version 1.2. Use `criterion='squared_error'` which is equivalent.\n",
      "  warn(\n",
      "/home/ubuntu/anaconda3/lib/python3.9/site-packages/sklearn/ensemble/_forest.py:396: FutureWarning: Criterion 'mse' was deprecated in v1.0 and will be removed in version 1.2. Use `criterion='squared_error'` which is equivalent.\n",
      "  warn(\n",
      "/home/ubuntu/anaconda3/lib/python3.9/site-packages/sklearn/ensemble/_forest.py:396: FutureWarning: Criterion 'mse' was deprecated in v1.0 and will be removed in version 1.2. Use `criterion='squared_error'` which is equivalent.\n",
      "  warn(\n",
      "/home/ubuntu/anaconda3/lib/python3.9/site-packages/sklearn/ensemble/_forest.py:396: FutureWarning: Criterion 'mse' was deprecated in v1.0 and will be removed in version 1.2. Use `criterion='squared_error'` which is equivalent.\n",
      "  warn(\n",
      "/home/ubuntu/anaconda3/lib/python3.9/site-packages/sklearn/ensemble/_forest.py:396: FutureWarning: Criterion 'mse' was deprecated in v1.0 and will be removed in version 1.2. Use `criterion='squared_error'` which is equivalent.\n",
      "  warn(\n",
      "/home/ubuntu/anaconda3/lib/python3.9/site-packages/sklearn/ensemble/_forest.py:396: FutureWarning: Criterion 'mse' was deprecated in v1.0 and will be removed in version 1.2. Use `criterion='squared_error'` which is equivalent.\n",
      "  warn(\n",
      "/home/ubuntu/anaconda3/lib/python3.9/site-packages/sklearn/ensemble/_forest.py:396: FutureWarning: Criterion 'mse' was deprecated in v1.0 and will be removed in version 1.2. Use `criterion='squared_error'` which is equivalent.\n",
      "  warn(\n",
      "/home/ubuntu/anaconda3/lib/python3.9/site-packages/sklearn/ensemble/_forest.py:396: FutureWarning: Criterion 'mse' was deprecated in v1.0 and will be removed in version 1.2. Use `criterion='squared_error'` which is equivalent.\n",
      "  warn(\n",
      "/home/ubuntu/anaconda3/lib/python3.9/site-packages/sklearn/ensemble/_forest.py:396: FutureWarning: Criterion 'mse' was deprecated in v1.0 and will be removed in version 1.2. Use `criterion='squared_error'` which is equivalent.\n",
      "  warn(\n",
      "/home/ubuntu/anaconda3/lib/python3.9/site-packages/sklearn/ensemble/_forest.py:396: FutureWarning: Criterion 'mse' was deprecated in v1.0 and will be removed in version 1.2. Use `criterion='squared_error'` which is equivalent.\n",
      "  warn(\n",
      "/home/ubuntu/anaconda3/lib/python3.9/site-packages/sklearn/ensemble/_forest.py:396: FutureWarning: Criterion 'mse' was deprecated in v1.0 and will be removed in version 1.2. Use `criterion='squared_error'` which is equivalent.\n",
      "  warn(\n",
      "/home/ubuntu/anaconda3/lib/python3.9/site-packages/sklearn/ensemble/_forest.py:396: FutureWarning: Criterion 'mse' was deprecated in v1.0 and will be removed in version 1.2. Use `criterion='squared_error'` which is equivalent.\n",
      "  warn(\n",
      "/home/ubuntu/anaconda3/lib/python3.9/site-packages/sklearn/ensemble/_forest.py:396: FutureWarning: Criterion 'mse' was deprecated in v1.0 and will be removed in version 1.2. Use `criterion='squared_error'` which is equivalent.\n",
      "  warn(\n",
      "/home/ubuntu/anaconda3/lib/python3.9/site-packages/sklearn/ensemble/_forest.py:396: FutureWarning: Criterion 'mse' was deprecated in v1.0 and will be removed in version 1.2. Use `criterion='squared_error'` which is equivalent.\n",
      "  warn(\n",
      "/home/ubuntu/anaconda3/lib/python3.9/site-packages/sklearn/ensemble/_forest.py:396: FutureWarning: Criterion 'mse' was deprecated in v1.0 and will be removed in version 1.2. Use `criterion='squared_error'` which is equivalent.\n",
      "  warn(\n",
      "/home/ubuntu/anaconda3/lib/python3.9/site-packages/sklearn/ensemble/_forest.py:396: FutureWarning: Criterion 'mse' was deprecated in v1.0 and will be removed in version 1.2. Use `criterion='squared_error'` which is equivalent.\n",
      "  warn(\n",
      "/home/ubuntu/anaconda3/lib/python3.9/site-packages/sklearn/ensemble/_forest.py:396: FutureWarning: Criterion 'mse' was deprecated in v1.0 and will be removed in version 1.2. Use `criterion='squared_error'` which is equivalent.\n",
      "  warn(\n",
      "/home/ubuntu/anaconda3/lib/python3.9/site-packages/sklearn/ensemble/_forest.py:396: FutureWarning: Criterion 'mse' was deprecated in v1.0 and will be removed in version 1.2. Use `criterion='squared_error'` which is equivalent.\n",
      "  warn(\n",
      "/home/ubuntu/anaconda3/lib/python3.9/site-packages/sklearn/ensemble/_forest.py:396: FutureWarning: Criterion 'mse' was deprecated in v1.0 and will be removed in version 1.2. Use `criterion='squared_error'` which is equivalent.\n",
      "  warn(\n",
      "/home/ubuntu/anaconda3/lib/python3.9/site-packages/sklearn/ensemble/_forest.py:396: FutureWarning: Criterion 'mse' was deprecated in v1.0 and will be removed in version 1.2. Use `criterion='squared_error'` which is equivalent.\n",
      "  warn(\n",
      "/home/ubuntu/anaconda3/lib/python3.9/site-packages/sklearn/ensemble/_forest.py:396: FutureWarning: Criterion 'mse' was deprecated in v1.0 and will be removed in version 1.2. Use `criterion='squared_error'` which is equivalent.\n",
      "  warn(\n",
      "/home/ubuntu/anaconda3/lib/python3.9/site-packages/sklearn/ensemble/_forest.py:396: FutureWarning: Criterion 'mse' was deprecated in v1.0 and will be removed in version 1.2. Use `criterion='squared_error'` which is equivalent.\n",
      "  warn(\n",
      "/home/ubuntu/anaconda3/lib/python3.9/site-packages/sklearn/ensemble/_forest.py:396: FutureWarning: Criterion 'mse' was deprecated in v1.0 and will be removed in version 1.2. Use `criterion='squared_error'` which is equivalent.\n",
      "  warn(\n",
      "/home/ubuntu/anaconda3/lib/python3.9/site-packages/sklearn/ensemble/_forest.py:396: FutureWarning: Criterion 'mse' was deprecated in v1.0 and will be removed in version 1.2. Use `criterion='squared_error'` which is equivalent.\n",
      "  warn(\n",
      "/home/ubuntu/anaconda3/lib/python3.9/site-packages/sklearn/ensemble/_forest.py:396: FutureWarning: Criterion 'mse' was deprecated in v1.0 and will be removed in version 1.2. Use `criterion='squared_error'` which is equivalent.\n",
      "  warn(\n",
      "/home/ubuntu/anaconda3/lib/python3.9/site-packages/sklearn/ensemble/_forest.py:396: FutureWarning: Criterion 'mse' was deprecated in v1.0 and will be removed in version 1.2. Use `criterion='squared_error'` which is equivalent.\n",
      "  warn(\n",
      "/home/ubuntu/anaconda3/lib/python3.9/site-packages/sklearn/ensemble/_forest.py:396: FutureWarning: Criterion 'mse' was deprecated in v1.0 and will be removed in version 1.2. Use `criterion='squared_error'` which is equivalent.\n",
      "  warn(\n"
     ]
    },
    {
     "name": "stdout",
     "output_type": "stream",
     "text": [
      "Iteration: 1\n"
     ]
    },
    {
     "name": "stderr",
     "output_type": "stream",
     "text": [
      "/home/ubuntu/anaconda3/lib/python3.9/site-packages/sklearn/ensemble/_forest.py:396: FutureWarning: Criterion 'mse' was deprecated in v1.0 and will be removed in version 1.2. Use `criterion='squared_error'` which is equivalent.\n",
      "  warn(\n",
      "/home/ubuntu/anaconda3/lib/python3.9/site-packages/sklearn/ensemble/_forest.py:396: FutureWarning: Criterion 'mse' was deprecated in v1.0 and will be removed in version 1.2. Use `criterion='squared_error'` which is equivalent.\n",
      "  warn(\n",
      "/home/ubuntu/anaconda3/lib/python3.9/site-packages/sklearn/ensemble/_forest.py:396: FutureWarning: Criterion 'mse' was deprecated in v1.0 and will be removed in version 1.2. Use `criterion='squared_error'` which is equivalent.\n",
      "  warn(\n",
      "/home/ubuntu/anaconda3/lib/python3.9/site-packages/sklearn/ensemble/_forest.py:396: FutureWarning: Criterion 'mse' was deprecated in v1.0 and will be removed in version 1.2. Use `criterion='squared_error'` which is equivalent.\n",
      "  warn(\n",
      "/home/ubuntu/anaconda3/lib/python3.9/site-packages/sklearn/ensemble/_forest.py:396: FutureWarning: Criterion 'mse' was deprecated in v1.0 and will be removed in version 1.2. Use `criterion='squared_error'` which is equivalent.\n",
      "  warn(\n",
      "/home/ubuntu/anaconda3/lib/python3.9/site-packages/sklearn/ensemble/_forest.py:396: FutureWarning: Criterion 'mse' was deprecated in v1.0 and will be removed in version 1.2. Use `criterion='squared_error'` which is equivalent.\n",
      "  warn(\n",
      "/home/ubuntu/anaconda3/lib/python3.9/site-packages/sklearn/ensemble/_forest.py:396: FutureWarning: Criterion 'mse' was deprecated in v1.0 and will be removed in version 1.2. Use `criterion='squared_error'` which is equivalent.\n",
      "  warn(\n",
      "/home/ubuntu/anaconda3/lib/python3.9/site-packages/sklearn/ensemble/_forest.py:396: FutureWarning: Criterion 'mse' was deprecated in v1.0 and will be removed in version 1.2. Use `criterion='squared_error'` which is equivalent.\n",
      "  warn(\n",
      "/home/ubuntu/anaconda3/lib/python3.9/site-packages/sklearn/ensemble/_forest.py:396: FutureWarning: Criterion 'mse' was deprecated in v1.0 and will be removed in version 1.2. Use `criterion='squared_error'` which is equivalent.\n",
      "  warn(\n",
      "/home/ubuntu/anaconda3/lib/python3.9/site-packages/sklearn/ensemble/_forest.py:396: FutureWarning: Criterion 'mse' was deprecated in v1.0 and will be removed in version 1.2. Use `criterion='squared_error'` which is equivalent.\n",
      "  warn(\n",
      "/home/ubuntu/anaconda3/lib/python3.9/site-packages/sklearn/ensemble/_forest.py:396: FutureWarning: Criterion 'mse' was deprecated in v1.0 and will be removed in version 1.2. Use `criterion='squared_error'` which is equivalent.\n",
      "  warn(\n",
      "/home/ubuntu/anaconda3/lib/python3.9/site-packages/sklearn/ensemble/_forest.py:396: FutureWarning: Criterion 'mse' was deprecated in v1.0 and will be removed in version 1.2. Use `criterion='squared_error'` which is equivalent.\n",
      "  warn(\n",
      "/home/ubuntu/anaconda3/lib/python3.9/site-packages/sklearn/ensemble/_forest.py:396: FutureWarning: Criterion 'mse' was deprecated in v1.0 and will be removed in version 1.2. Use `criterion='squared_error'` which is equivalent.\n",
      "  warn(\n",
      "/home/ubuntu/anaconda3/lib/python3.9/site-packages/sklearn/ensemble/_forest.py:396: FutureWarning: Criterion 'mse' was deprecated in v1.0 and will be removed in version 1.2. Use `criterion='squared_error'` which is equivalent.\n",
      "  warn(\n",
      "/home/ubuntu/anaconda3/lib/python3.9/site-packages/sklearn/ensemble/_forest.py:396: FutureWarning: Criterion 'mse' was deprecated in v1.0 and will be removed in version 1.2. Use `criterion='squared_error'` which is equivalent.\n",
      "  warn(\n",
      "/home/ubuntu/anaconda3/lib/python3.9/site-packages/sklearn/ensemble/_forest.py:396: FutureWarning: Criterion 'mse' was deprecated in v1.0 and will be removed in version 1.2. Use `criterion='squared_error'` which is equivalent.\n",
      "  warn(\n",
      "/home/ubuntu/anaconda3/lib/python3.9/site-packages/sklearn/ensemble/_forest.py:396: FutureWarning: Criterion 'mse' was deprecated in v1.0 and will be removed in version 1.2. Use `criterion='squared_error'` which is equivalent.\n",
      "  warn(\n",
      "/home/ubuntu/anaconda3/lib/python3.9/site-packages/sklearn/ensemble/_forest.py:396: FutureWarning: Criterion 'mse' was deprecated in v1.0 and will be removed in version 1.2. Use `criterion='squared_error'` which is equivalent.\n",
      "  warn(\n",
      "/home/ubuntu/anaconda3/lib/python3.9/site-packages/sklearn/ensemble/_forest.py:396: FutureWarning: Criterion 'mse' was deprecated in v1.0 and will be removed in version 1.2. Use `criterion='squared_error'` which is equivalent.\n",
      "  warn(\n",
      "/home/ubuntu/anaconda3/lib/python3.9/site-packages/sklearn/ensemble/_forest.py:396: FutureWarning: Criterion 'mse' was deprecated in v1.0 and will be removed in version 1.2. Use `criterion='squared_error'` which is equivalent.\n",
      "  warn(\n",
      "/home/ubuntu/anaconda3/lib/python3.9/site-packages/sklearn/ensemble/_forest.py:396: FutureWarning: Criterion 'mse' was deprecated in v1.0 and will be removed in version 1.2. Use `criterion='squared_error'` which is equivalent.\n",
      "  warn(\n",
      "/home/ubuntu/anaconda3/lib/python3.9/site-packages/sklearn/ensemble/_forest.py:396: FutureWarning: Criterion 'mse' was deprecated in v1.0 and will be removed in version 1.2. Use `criterion='squared_error'` which is equivalent.\n",
      "  warn(\n",
      "/home/ubuntu/anaconda3/lib/python3.9/site-packages/sklearn/ensemble/_forest.py:396: FutureWarning: Criterion 'mse' was deprecated in v1.0 and will be removed in version 1.2. Use `criterion='squared_error'` which is equivalent.\n",
      "  warn(\n",
      "/home/ubuntu/anaconda3/lib/python3.9/site-packages/sklearn/ensemble/_forest.py:396: FutureWarning: Criterion 'mse' was deprecated in v1.0 and will be removed in version 1.2. Use `criterion='squared_error'` which is equivalent.\n",
      "  warn(\n",
      "/home/ubuntu/anaconda3/lib/python3.9/site-packages/sklearn/ensemble/_forest.py:396: FutureWarning: Criterion 'mse' was deprecated in v1.0 and will be removed in version 1.2. Use `criterion='squared_error'` which is equivalent.\n",
      "  warn(\n",
      "/home/ubuntu/anaconda3/lib/python3.9/site-packages/sklearn/ensemble/_forest.py:396: FutureWarning: Criterion 'mse' was deprecated in v1.0 and will be removed in version 1.2. Use `criterion='squared_error'` which is equivalent.\n",
      "  warn(\n",
      "/home/ubuntu/anaconda3/lib/python3.9/site-packages/sklearn/ensemble/_forest.py:396: FutureWarning: Criterion 'mse' was deprecated in v1.0 and will be removed in version 1.2. Use `criterion='squared_error'` which is equivalent.\n",
      "  warn(\n",
      "/home/ubuntu/anaconda3/lib/python3.9/site-packages/sklearn/ensemble/_forest.py:396: FutureWarning: Criterion 'mse' was deprecated in v1.0 and will be removed in version 1.2. Use `criterion='squared_error'` which is equivalent.\n",
      "  warn(\n",
      "/home/ubuntu/anaconda3/lib/python3.9/site-packages/sklearn/ensemble/_forest.py:396: FutureWarning: Criterion 'mse' was deprecated in v1.0 and will be removed in version 1.2. Use `criterion='squared_error'` which is equivalent.\n",
      "  warn(\n",
      "/home/ubuntu/anaconda3/lib/python3.9/site-packages/sklearn/ensemble/_forest.py:396: FutureWarning: Criterion 'mse' was deprecated in v1.0 and will be removed in version 1.2. Use `criterion='squared_error'` which is equivalent.\n",
      "  warn(\n"
     ]
    },
    {
     "name": "stdout",
     "output_type": "stream",
     "text": [
      "Iteration: 2\n"
     ]
    },
    {
     "name": "stderr",
     "output_type": "stream",
     "text": [
      "/home/ubuntu/anaconda3/lib/python3.9/site-packages/sklearn/ensemble/_forest.py:396: FutureWarning: Criterion 'mse' was deprecated in v1.0 and will be removed in version 1.2. Use `criterion='squared_error'` which is equivalent.\n",
      "  warn(\n",
      "/home/ubuntu/anaconda3/lib/python3.9/site-packages/sklearn/ensemble/_forest.py:396: FutureWarning: Criterion 'mse' was deprecated in v1.0 and will be removed in version 1.2. Use `criterion='squared_error'` which is equivalent.\n",
      "  warn(\n",
      "/home/ubuntu/anaconda3/lib/python3.9/site-packages/sklearn/ensemble/_forest.py:396: FutureWarning: Criterion 'mse' was deprecated in v1.0 and will be removed in version 1.2. Use `criterion='squared_error'` which is equivalent.\n",
      "  warn(\n",
      "/home/ubuntu/anaconda3/lib/python3.9/site-packages/sklearn/ensemble/_forest.py:396: FutureWarning: Criterion 'mse' was deprecated in v1.0 and will be removed in version 1.2. Use `criterion='squared_error'` which is equivalent.\n",
      "  warn(\n",
      "/home/ubuntu/anaconda3/lib/python3.9/site-packages/sklearn/ensemble/_forest.py:396: FutureWarning: Criterion 'mse' was deprecated in v1.0 and will be removed in version 1.2. Use `criterion='squared_error'` which is equivalent.\n",
      "  warn(\n",
      "/home/ubuntu/anaconda3/lib/python3.9/site-packages/sklearn/ensemble/_forest.py:396: FutureWarning: Criterion 'mse' was deprecated in v1.0 and will be removed in version 1.2. Use `criterion='squared_error'` which is equivalent.\n",
      "  warn(\n",
      "/home/ubuntu/anaconda3/lib/python3.9/site-packages/sklearn/ensemble/_forest.py:396: FutureWarning: Criterion 'mse' was deprecated in v1.0 and will be removed in version 1.2. Use `criterion='squared_error'` which is equivalent.\n",
      "  warn(\n",
      "/home/ubuntu/anaconda3/lib/python3.9/site-packages/sklearn/ensemble/_forest.py:396: FutureWarning: Criterion 'mse' was deprecated in v1.0 and will be removed in version 1.2. Use `criterion='squared_error'` which is equivalent.\n",
      "  warn(\n",
      "/home/ubuntu/anaconda3/lib/python3.9/site-packages/sklearn/ensemble/_forest.py:396: FutureWarning: Criterion 'mse' was deprecated in v1.0 and will be removed in version 1.2. Use `criterion='squared_error'` which is equivalent.\n",
      "  warn(\n",
      "/home/ubuntu/anaconda3/lib/python3.9/site-packages/sklearn/ensemble/_forest.py:396: FutureWarning: Criterion 'mse' was deprecated in v1.0 and will be removed in version 1.2. Use `criterion='squared_error'` which is equivalent.\n",
      "  warn(\n",
      "/home/ubuntu/anaconda3/lib/python3.9/site-packages/sklearn/ensemble/_forest.py:396: FutureWarning: Criterion 'mse' was deprecated in v1.0 and will be removed in version 1.2. Use `criterion='squared_error'` which is equivalent.\n",
      "  warn(\n",
      "/home/ubuntu/anaconda3/lib/python3.9/site-packages/sklearn/ensemble/_forest.py:396: FutureWarning: Criterion 'mse' was deprecated in v1.0 and will be removed in version 1.2. Use `criterion='squared_error'` which is equivalent.\n",
      "  warn(\n",
      "/home/ubuntu/anaconda3/lib/python3.9/site-packages/sklearn/ensemble/_forest.py:396: FutureWarning: Criterion 'mse' was deprecated in v1.0 and will be removed in version 1.2. Use `criterion='squared_error'` which is equivalent.\n",
      "  warn(\n",
      "/home/ubuntu/anaconda3/lib/python3.9/site-packages/sklearn/ensemble/_forest.py:396: FutureWarning: Criterion 'mse' was deprecated in v1.0 and will be removed in version 1.2. Use `criterion='squared_error'` which is equivalent.\n",
      "  warn(\n",
      "/home/ubuntu/anaconda3/lib/python3.9/site-packages/sklearn/ensemble/_forest.py:396: FutureWarning: Criterion 'mse' was deprecated in v1.0 and will be removed in version 1.2. Use `criterion='squared_error'` which is equivalent.\n",
      "  warn(\n",
      "/home/ubuntu/anaconda3/lib/python3.9/site-packages/sklearn/ensemble/_forest.py:396: FutureWarning: Criterion 'mse' was deprecated in v1.0 and will be removed in version 1.2. Use `criterion='squared_error'` which is equivalent.\n",
      "  warn(\n",
      "/home/ubuntu/anaconda3/lib/python3.9/site-packages/sklearn/ensemble/_forest.py:396: FutureWarning: Criterion 'mse' was deprecated in v1.0 and will be removed in version 1.2. Use `criterion='squared_error'` which is equivalent.\n",
      "  warn(\n",
      "/home/ubuntu/anaconda3/lib/python3.9/site-packages/sklearn/ensemble/_forest.py:396: FutureWarning: Criterion 'mse' was deprecated in v1.0 and will be removed in version 1.2. Use `criterion='squared_error'` which is equivalent.\n",
      "  warn(\n",
      "/home/ubuntu/anaconda3/lib/python3.9/site-packages/sklearn/ensemble/_forest.py:396: FutureWarning: Criterion 'mse' was deprecated in v1.0 and will be removed in version 1.2. Use `criterion='squared_error'` which is equivalent.\n",
      "  warn(\n",
      "/home/ubuntu/anaconda3/lib/python3.9/site-packages/sklearn/ensemble/_forest.py:396: FutureWarning: Criterion 'mse' was deprecated in v1.0 and will be removed in version 1.2. Use `criterion='squared_error'` which is equivalent.\n",
      "  warn(\n",
      "/home/ubuntu/anaconda3/lib/python3.9/site-packages/sklearn/ensemble/_forest.py:396: FutureWarning: Criterion 'mse' was deprecated in v1.0 and will be removed in version 1.2. Use `criterion='squared_error'` which is equivalent.\n",
      "  warn(\n",
      "/home/ubuntu/anaconda3/lib/python3.9/site-packages/sklearn/ensemble/_forest.py:396: FutureWarning: Criterion 'mse' was deprecated in v1.0 and will be removed in version 1.2. Use `criterion='squared_error'` which is equivalent.\n",
      "  warn(\n",
      "/home/ubuntu/anaconda3/lib/python3.9/site-packages/sklearn/ensemble/_forest.py:396: FutureWarning: Criterion 'mse' was deprecated in v1.0 and will be removed in version 1.2. Use `criterion='squared_error'` which is equivalent.\n",
      "  warn(\n",
      "/home/ubuntu/anaconda3/lib/python3.9/site-packages/sklearn/ensemble/_forest.py:396: FutureWarning: Criterion 'mse' was deprecated in v1.0 and will be removed in version 1.2. Use `criterion='squared_error'` which is equivalent.\n",
      "  warn(\n",
      "/home/ubuntu/anaconda3/lib/python3.9/site-packages/sklearn/ensemble/_forest.py:396: FutureWarning: Criterion 'mse' was deprecated in v1.0 and will be removed in version 1.2. Use `criterion='squared_error'` which is equivalent.\n",
      "  warn(\n",
      "/home/ubuntu/anaconda3/lib/python3.9/site-packages/sklearn/ensemble/_forest.py:396: FutureWarning: Criterion 'mse' was deprecated in v1.0 and will be removed in version 1.2. Use `criterion='squared_error'` which is equivalent.\n",
      "  warn(\n",
      "/home/ubuntu/anaconda3/lib/python3.9/site-packages/sklearn/ensemble/_forest.py:396: FutureWarning: Criterion 'mse' was deprecated in v1.0 and will be removed in version 1.2. Use `criterion='squared_error'` which is equivalent.\n",
      "  warn(\n",
      "/home/ubuntu/anaconda3/lib/python3.9/site-packages/sklearn/ensemble/_forest.py:396: FutureWarning: Criterion 'mse' was deprecated in v1.0 and will be removed in version 1.2. Use `criterion='squared_error'` which is equivalent.\n",
      "  warn(\n",
      "/home/ubuntu/anaconda3/lib/python3.9/site-packages/sklearn/ensemble/_forest.py:396: FutureWarning: Criterion 'mse' was deprecated in v1.0 and will be removed in version 1.2. Use `criterion='squared_error'` which is equivalent.\n",
      "  warn(\n",
      "/home/ubuntu/anaconda3/lib/python3.9/site-packages/sklearn/ensemble/_forest.py:396: FutureWarning: Criterion 'mse' was deprecated in v1.0 and will be removed in version 1.2. Use `criterion='squared_error'` which is equivalent.\n",
      "  warn(\n"
     ]
    },
    {
     "name": "stdout",
     "output_type": "stream",
     "text": [
      "Iteration: 3\n"
     ]
    },
    {
     "name": "stderr",
     "output_type": "stream",
     "text": [
      "/home/ubuntu/anaconda3/lib/python3.9/site-packages/sklearn/ensemble/_forest.py:396: FutureWarning: Criterion 'mse' was deprecated in v1.0 and will be removed in version 1.2. Use `criterion='squared_error'` which is equivalent.\n",
      "  warn(\n",
      "/home/ubuntu/anaconda3/lib/python3.9/site-packages/sklearn/ensemble/_forest.py:396: FutureWarning: Criterion 'mse' was deprecated in v1.0 and will be removed in version 1.2. Use `criterion='squared_error'` which is equivalent.\n",
      "  warn(\n",
      "/home/ubuntu/anaconda3/lib/python3.9/site-packages/sklearn/ensemble/_forest.py:396: FutureWarning: Criterion 'mse' was deprecated in v1.0 and will be removed in version 1.2. Use `criterion='squared_error'` which is equivalent.\n",
      "  warn(\n",
      "/home/ubuntu/anaconda3/lib/python3.9/site-packages/sklearn/ensemble/_forest.py:396: FutureWarning: Criterion 'mse' was deprecated in v1.0 and will be removed in version 1.2. Use `criterion='squared_error'` which is equivalent.\n",
      "  warn(\n",
      "/home/ubuntu/anaconda3/lib/python3.9/site-packages/sklearn/ensemble/_forest.py:396: FutureWarning: Criterion 'mse' was deprecated in v1.0 and will be removed in version 1.2. Use `criterion='squared_error'` which is equivalent.\n",
      "  warn(\n",
      "/home/ubuntu/anaconda3/lib/python3.9/site-packages/sklearn/ensemble/_forest.py:396: FutureWarning: Criterion 'mse' was deprecated in v1.0 and will be removed in version 1.2. Use `criterion='squared_error'` which is equivalent.\n",
      "  warn(\n",
      "/home/ubuntu/anaconda3/lib/python3.9/site-packages/sklearn/ensemble/_forest.py:396: FutureWarning: Criterion 'mse' was deprecated in v1.0 and will be removed in version 1.2. Use `criterion='squared_error'` which is equivalent.\n",
      "  warn(\n",
      "/home/ubuntu/anaconda3/lib/python3.9/site-packages/sklearn/ensemble/_forest.py:396: FutureWarning: Criterion 'mse' was deprecated in v1.0 and will be removed in version 1.2. Use `criterion='squared_error'` which is equivalent.\n",
      "  warn(\n",
      "/home/ubuntu/anaconda3/lib/python3.9/site-packages/sklearn/ensemble/_forest.py:396: FutureWarning: Criterion 'mse' was deprecated in v1.0 and will be removed in version 1.2. Use `criterion='squared_error'` which is equivalent.\n",
      "  warn(\n",
      "/home/ubuntu/anaconda3/lib/python3.9/site-packages/sklearn/ensemble/_forest.py:396: FutureWarning: Criterion 'mse' was deprecated in v1.0 and will be removed in version 1.2. Use `criterion='squared_error'` which is equivalent.\n",
      "  warn(\n",
      "/home/ubuntu/anaconda3/lib/python3.9/site-packages/sklearn/ensemble/_forest.py:396: FutureWarning: Criterion 'mse' was deprecated in v1.0 and will be removed in version 1.2. Use `criterion='squared_error'` which is equivalent.\n",
      "  warn(\n",
      "/home/ubuntu/anaconda3/lib/python3.9/site-packages/sklearn/ensemble/_forest.py:396: FutureWarning: Criterion 'mse' was deprecated in v1.0 and will be removed in version 1.2. Use `criterion='squared_error'` which is equivalent.\n",
      "  warn(\n",
      "/home/ubuntu/anaconda3/lib/python3.9/site-packages/sklearn/ensemble/_forest.py:396: FutureWarning: Criterion 'mse' was deprecated in v1.0 and will be removed in version 1.2. Use `criterion='squared_error'` which is equivalent.\n",
      "  warn(\n",
      "/home/ubuntu/anaconda3/lib/python3.9/site-packages/sklearn/ensemble/_forest.py:396: FutureWarning: Criterion 'mse' was deprecated in v1.0 and will be removed in version 1.2. Use `criterion='squared_error'` which is equivalent.\n",
      "  warn(\n",
      "/home/ubuntu/anaconda3/lib/python3.9/site-packages/sklearn/ensemble/_forest.py:396: FutureWarning: Criterion 'mse' was deprecated in v1.0 and will be removed in version 1.2. Use `criterion='squared_error'` which is equivalent.\n",
      "  warn(\n",
      "/home/ubuntu/anaconda3/lib/python3.9/site-packages/sklearn/ensemble/_forest.py:396: FutureWarning: Criterion 'mse' was deprecated in v1.0 and will be removed in version 1.2. Use `criterion='squared_error'` which is equivalent.\n",
      "  warn(\n",
      "/home/ubuntu/anaconda3/lib/python3.9/site-packages/sklearn/ensemble/_forest.py:396: FutureWarning: Criterion 'mse' was deprecated in v1.0 and will be removed in version 1.2. Use `criterion='squared_error'` which is equivalent.\n",
      "  warn(\n",
      "/home/ubuntu/anaconda3/lib/python3.9/site-packages/sklearn/ensemble/_forest.py:396: FutureWarning: Criterion 'mse' was deprecated in v1.0 and will be removed in version 1.2. Use `criterion='squared_error'` which is equivalent.\n",
      "  warn(\n",
      "/home/ubuntu/anaconda3/lib/python3.9/site-packages/sklearn/ensemble/_forest.py:396: FutureWarning: Criterion 'mse' was deprecated in v1.0 and will be removed in version 1.2. Use `criterion='squared_error'` which is equivalent.\n",
      "  warn(\n",
      "/home/ubuntu/anaconda3/lib/python3.9/site-packages/sklearn/ensemble/_forest.py:396: FutureWarning: Criterion 'mse' was deprecated in v1.0 and will be removed in version 1.2. Use `criterion='squared_error'` which is equivalent.\n",
      "  warn(\n",
      "/home/ubuntu/anaconda3/lib/python3.9/site-packages/sklearn/ensemble/_forest.py:396: FutureWarning: Criterion 'mse' was deprecated in v1.0 and will be removed in version 1.2. Use `criterion='squared_error'` which is equivalent.\n",
      "  warn(\n",
      "/home/ubuntu/anaconda3/lib/python3.9/site-packages/sklearn/ensemble/_forest.py:396: FutureWarning: Criterion 'mse' was deprecated in v1.0 and will be removed in version 1.2. Use `criterion='squared_error'` which is equivalent.\n",
      "  warn(\n",
      "/home/ubuntu/anaconda3/lib/python3.9/site-packages/sklearn/ensemble/_forest.py:396: FutureWarning: Criterion 'mse' was deprecated in v1.0 and will be removed in version 1.2. Use `criterion='squared_error'` which is equivalent.\n",
      "  warn(\n",
      "/home/ubuntu/anaconda3/lib/python3.9/site-packages/sklearn/ensemble/_forest.py:396: FutureWarning: Criterion 'mse' was deprecated in v1.0 and will be removed in version 1.2. Use `criterion='squared_error'` which is equivalent.\n",
      "  warn(\n",
      "/home/ubuntu/anaconda3/lib/python3.9/site-packages/sklearn/ensemble/_forest.py:396: FutureWarning: Criterion 'mse' was deprecated in v1.0 and will be removed in version 1.2. Use `criterion='squared_error'` which is equivalent.\n",
      "  warn(\n",
      "/home/ubuntu/anaconda3/lib/python3.9/site-packages/sklearn/ensemble/_forest.py:396: FutureWarning: Criterion 'mse' was deprecated in v1.0 and will be removed in version 1.2. Use `criterion='squared_error'` which is equivalent.\n",
      "  warn(\n",
      "/home/ubuntu/anaconda3/lib/python3.9/site-packages/sklearn/ensemble/_forest.py:396: FutureWarning: Criterion 'mse' was deprecated in v1.0 and will be removed in version 1.2. Use `criterion='squared_error'` which is equivalent.\n",
      "  warn(\n",
      "/home/ubuntu/anaconda3/lib/python3.9/site-packages/sklearn/ensemble/_forest.py:396: FutureWarning: Criterion 'mse' was deprecated in v1.0 and will be removed in version 1.2. Use `criterion='squared_error'` which is equivalent.\n",
      "  warn(\n",
      "/home/ubuntu/anaconda3/lib/python3.9/site-packages/sklearn/ensemble/_forest.py:396: FutureWarning: Criterion 'mse' was deprecated in v1.0 and will be removed in version 1.2. Use `criterion='squared_error'` which is equivalent.\n",
      "  warn(\n",
      "/home/ubuntu/anaconda3/lib/python3.9/site-packages/sklearn/ensemble/_forest.py:396: FutureWarning: Criterion 'mse' was deprecated in v1.0 and will be removed in version 1.2. Use `criterion='squared_error'` which is equivalent.\n",
      "  warn(\n"
     ]
    },
    {
     "name": "stdout",
     "output_type": "stream",
     "text": [
      "Iteration: 4\n"
     ]
    },
    {
     "name": "stderr",
     "output_type": "stream",
     "text": [
      "/home/ubuntu/anaconda3/lib/python3.9/site-packages/sklearn/ensemble/_forest.py:396: FutureWarning: Criterion 'mse' was deprecated in v1.0 and will be removed in version 1.2. Use `criterion='squared_error'` which is equivalent.\n",
      "  warn(\n",
      "/home/ubuntu/anaconda3/lib/python3.9/site-packages/sklearn/ensemble/_forest.py:396: FutureWarning: Criterion 'mse' was deprecated in v1.0 and will be removed in version 1.2. Use `criterion='squared_error'` which is equivalent.\n",
      "  warn(\n",
      "/home/ubuntu/anaconda3/lib/python3.9/site-packages/sklearn/ensemble/_forest.py:396: FutureWarning: Criterion 'mse' was deprecated in v1.0 and will be removed in version 1.2. Use `criterion='squared_error'` which is equivalent.\n",
      "  warn(\n",
      "/home/ubuntu/anaconda3/lib/python3.9/site-packages/sklearn/ensemble/_forest.py:396: FutureWarning: Criterion 'mse' was deprecated in v1.0 and will be removed in version 1.2. Use `criterion='squared_error'` which is equivalent.\n",
      "  warn(\n",
      "/home/ubuntu/anaconda3/lib/python3.9/site-packages/sklearn/ensemble/_forest.py:396: FutureWarning: Criterion 'mse' was deprecated in v1.0 and will be removed in version 1.2. Use `criterion='squared_error'` which is equivalent.\n",
      "  warn(\n",
      "/home/ubuntu/anaconda3/lib/python3.9/site-packages/sklearn/ensemble/_forest.py:396: FutureWarning: Criterion 'mse' was deprecated in v1.0 and will be removed in version 1.2. Use `criterion='squared_error'` which is equivalent.\n",
      "  warn(\n",
      "/home/ubuntu/anaconda3/lib/python3.9/site-packages/sklearn/ensemble/_forest.py:396: FutureWarning: Criterion 'mse' was deprecated in v1.0 and will be removed in version 1.2. Use `criterion='squared_error'` which is equivalent.\n",
      "  warn(\n",
      "/home/ubuntu/anaconda3/lib/python3.9/site-packages/sklearn/ensemble/_forest.py:396: FutureWarning: Criterion 'mse' was deprecated in v1.0 and will be removed in version 1.2. Use `criterion='squared_error'` which is equivalent.\n",
      "  warn(\n",
      "/home/ubuntu/anaconda3/lib/python3.9/site-packages/sklearn/ensemble/_forest.py:396: FutureWarning: Criterion 'mse' was deprecated in v1.0 and will be removed in version 1.2. Use `criterion='squared_error'` which is equivalent.\n",
      "  warn(\n",
      "/home/ubuntu/anaconda3/lib/python3.9/site-packages/sklearn/ensemble/_forest.py:396: FutureWarning: Criterion 'mse' was deprecated in v1.0 and will be removed in version 1.2. Use `criterion='squared_error'` which is equivalent.\n",
      "  warn(\n",
      "/home/ubuntu/anaconda3/lib/python3.9/site-packages/sklearn/ensemble/_forest.py:396: FutureWarning: Criterion 'mse' was deprecated in v1.0 and will be removed in version 1.2. Use `criterion='squared_error'` which is equivalent.\n",
      "  warn(\n",
      "/home/ubuntu/anaconda3/lib/python3.9/site-packages/sklearn/ensemble/_forest.py:396: FutureWarning: Criterion 'mse' was deprecated in v1.0 and will be removed in version 1.2. Use `criterion='squared_error'` which is equivalent.\n",
      "  warn(\n",
      "/home/ubuntu/anaconda3/lib/python3.9/site-packages/sklearn/ensemble/_forest.py:396: FutureWarning: Criterion 'mse' was deprecated in v1.0 and will be removed in version 1.2. Use `criterion='squared_error'` which is equivalent.\n",
      "  warn(\n",
      "/home/ubuntu/anaconda3/lib/python3.9/site-packages/sklearn/ensemble/_forest.py:396: FutureWarning: Criterion 'mse' was deprecated in v1.0 and will be removed in version 1.2. Use `criterion='squared_error'` which is equivalent.\n",
      "  warn(\n",
      "/home/ubuntu/anaconda3/lib/python3.9/site-packages/sklearn/ensemble/_forest.py:396: FutureWarning: Criterion 'mse' was deprecated in v1.0 and will be removed in version 1.2. Use `criterion='squared_error'` which is equivalent.\n",
      "  warn(\n",
      "/home/ubuntu/anaconda3/lib/python3.9/site-packages/sklearn/ensemble/_forest.py:396: FutureWarning: Criterion 'mse' was deprecated in v1.0 and will be removed in version 1.2. Use `criterion='squared_error'` which is equivalent.\n",
      "  warn(\n",
      "/home/ubuntu/anaconda3/lib/python3.9/site-packages/sklearn/ensemble/_forest.py:396: FutureWarning: Criterion 'mse' was deprecated in v1.0 and will be removed in version 1.2. Use `criterion='squared_error'` which is equivalent.\n",
      "  warn(\n",
      "/home/ubuntu/anaconda3/lib/python3.9/site-packages/sklearn/ensemble/_forest.py:396: FutureWarning: Criterion 'mse' was deprecated in v1.0 and will be removed in version 1.2. Use `criterion='squared_error'` which is equivalent.\n",
      "  warn(\n",
      "/home/ubuntu/anaconda3/lib/python3.9/site-packages/sklearn/ensemble/_forest.py:396: FutureWarning: Criterion 'mse' was deprecated in v1.0 and will be removed in version 1.2. Use `criterion='squared_error'` which is equivalent.\n",
      "  warn(\n",
      "/home/ubuntu/anaconda3/lib/python3.9/site-packages/sklearn/ensemble/_forest.py:396: FutureWarning: Criterion 'mse' was deprecated in v1.0 and will be removed in version 1.2. Use `criterion='squared_error'` which is equivalent.\n",
      "  warn(\n",
      "/home/ubuntu/anaconda3/lib/python3.9/site-packages/sklearn/ensemble/_forest.py:396: FutureWarning: Criterion 'mse' was deprecated in v1.0 and will be removed in version 1.2. Use `criterion='squared_error'` which is equivalent.\n",
      "  warn(\n",
      "/home/ubuntu/anaconda3/lib/python3.9/site-packages/sklearn/ensemble/_forest.py:396: FutureWarning: Criterion 'mse' was deprecated in v1.0 and will be removed in version 1.2. Use `criterion='squared_error'` which is equivalent.\n",
      "  warn(\n",
      "/home/ubuntu/anaconda3/lib/python3.9/site-packages/sklearn/ensemble/_forest.py:396: FutureWarning: Criterion 'mse' was deprecated in v1.0 and will be removed in version 1.2. Use `criterion='squared_error'` which is equivalent.\n",
      "  warn(\n",
      "/home/ubuntu/anaconda3/lib/python3.9/site-packages/sklearn/ensemble/_forest.py:396: FutureWarning: Criterion 'mse' was deprecated in v1.0 and will be removed in version 1.2. Use `criterion='squared_error'` which is equivalent.\n",
      "  warn(\n",
      "/home/ubuntu/anaconda3/lib/python3.9/site-packages/sklearn/ensemble/_forest.py:396: FutureWarning: Criterion 'mse' was deprecated in v1.0 and will be removed in version 1.2. Use `criterion='squared_error'` which is equivalent.\n",
      "  warn(\n",
      "/home/ubuntu/anaconda3/lib/python3.9/site-packages/sklearn/ensemble/_forest.py:396: FutureWarning: Criterion 'mse' was deprecated in v1.0 and will be removed in version 1.2. Use `criterion='squared_error'` which is equivalent.\n",
      "  warn(\n",
      "/home/ubuntu/anaconda3/lib/python3.9/site-packages/sklearn/ensemble/_forest.py:396: FutureWarning: Criterion 'mse' was deprecated in v1.0 and will be removed in version 1.2. Use `criterion='squared_error'` which is equivalent.\n",
      "  warn(\n",
      "/home/ubuntu/anaconda3/lib/python3.9/site-packages/sklearn/ensemble/_forest.py:396: FutureWarning: Criterion 'mse' was deprecated in v1.0 and will be removed in version 1.2. Use `criterion='squared_error'` which is equivalent.\n",
      "  warn(\n",
      "/home/ubuntu/anaconda3/lib/python3.9/site-packages/sklearn/ensemble/_forest.py:396: FutureWarning: Criterion 'mse' was deprecated in v1.0 and will be removed in version 1.2. Use `criterion='squared_error'` which is equivalent.\n",
      "  warn(\n",
      "/home/ubuntu/anaconda3/lib/python3.9/site-packages/sklearn/ensemble/_forest.py:396: FutureWarning: Criterion 'mse' was deprecated in v1.0 and will be removed in version 1.2. Use `criterion='squared_error'` which is equivalent.\n",
      "  warn(\n"
     ]
    },
    {
     "name": "stdout",
     "output_type": "stream",
     "text": [
      "Iteration: 5\n"
     ]
    },
    {
     "name": "stderr",
     "output_type": "stream",
     "text": [
      "/home/ubuntu/anaconda3/lib/python3.9/site-packages/sklearn/ensemble/_forest.py:396: FutureWarning: Criterion 'mse' was deprecated in v1.0 and will be removed in version 1.2. Use `criterion='squared_error'` which is equivalent.\n",
      "  warn(\n",
      "/home/ubuntu/anaconda3/lib/python3.9/site-packages/sklearn/ensemble/_forest.py:396: FutureWarning: Criterion 'mse' was deprecated in v1.0 and will be removed in version 1.2. Use `criterion='squared_error'` which is equivalent.\n",
      "  warn(\n",
      "/home/ubuntu/anaconda3/lib/python3.9/site-packages/sklearn/ensemble/_forest.py:396: FutureWarning: Criterion 'mse' was deprecated in v1.0 and will be removed in version 1.2. Use `criterion='squared_error'` which is equivalent.\n",
      "  warn(\n",
      "/home/ubuntu/anaconda3/lib/python3.9/site-packages/sklearn/ensemble/_forest.py:396: FutureWarning: Criterion 'mse' was deprecated in v1.0 and will be removed in version 1.2. Use `criterion='squared_error'` which is equivalent.\n",
      "  warn(\n",
      "/home/ubuntu/anaconda3/lib/python3.9/site-packages/sklearn/ensemble/_forest.py:396: FutureWarning: Criterion 'mse' was deprecated in v1.0 and will be removed in version 1.2. Use `criterion='squared_error'` which is equivalent.\n",
      "  warn(\n",
      "/home/ubuntu/anaconda3/lib/python3.9/site-packages/sklearn/ensemble/_forest.py:396: FutureWarning: Criterion 'mse' was deprecated in v1.0 and will be removed in version 1.2. Use `criterion='squared_error'` which is equivalent.\n",
      "  warn(\n",
      "/home/ubuntu/anaconda3/lib/python3.9/site-packages/sklearn/ensemble/_forest.py:396: FutureWarning: Criterion 'mse' was deprecated in v1.0 and will be removed in version 1.2. Use `criterion='squared_error'` which is equivalent.\n",
      "  warn(\n",
      "/home/ubuntu/anaconda3/lib/python3.9/site-packages/sklearn/ensemble/_forest.py:396: FutureWarning: Criterion 'mse' was deprecated in v1.0 and will be removed in version 1.2. Use `criterion='squared_error'` which is equivalent.\n",
      "  warn(\n",
      "/home/ubuntu/anaconda3/lib/python3.9/site-packages/sklearn/ensemble/_forest.py:396: FutureWarning: Criterion 'mse' was deprecated in v1.0 and will be removed in version 1.2. Use `criterion='squared_error'` which is equivalent.\n",
      "  warn(\n",
      "/home/ubuntu/anaconda3/lib/python3.9/site-packages/sklearn/ensemble/_forest.py:396: FutureWarning: Criterion 'mse' was deprecated in v1.0 and will be removed in version 1.2. Use `criterion='squared_error'` which is equivalent.\n",
      "  warn(\n",
      "/home/ubuntu/anaconda3/lib/python3.9/site-packages/sklearn/ensemble/_forest.py:396: FutureWarning: Criterion 'mse' was deprecated in v1.0 and will be removed in version 1.2. Use `criterion='squared_error'` which is equivalent.\n",
      "  warn(\n",
      "/home/ubuntu/anaconda3/lib/python3.9/site-packages/sklearn/ensemble/_forest.py:396: FutureWarning: Criterion 'mse' was deprecated in v1.0 and will be removed in version 1.2. Use `criterion='squared_error'` which is equivalent.\n",
      "  warn(\n",
      "/home/ubuntu/anaconda3/lib/python3.9/site-packages/sklearn/ensemble/_forest.py:396: FutureWarning: Criterion 'mse' was deprecated in v1.0 and will be removed in version 1.2. Use `criterion='squared_error'` which is equivalent.\n",
      "  warn(\n",
      "/home/ubuntu/anaconda3/lib/python3.9/site-packages/sklearn/ensemble/_forest.py:396: FutureWarning: Criterion 'mse' was deprecated in v1.0 and will be removed in version 1.2. Use `criterion='squared_error'` which is equivalent.\n",
      "  warn(\n",
      "/home/ubuntu/anaconda3/lib/python3.9/site-packages/sklearn/ensemble/_forest.py:396: FutureWarning: Criterion 'mse' was deprecated in v1.0 and will be removed in version 1.2. Use `criterion='squared_error'` which is equivalent.\n",
      "  warn(\n",
      "/home/ubuntu/anaconda3/lib/python3.9/site-packages/sklearn/ensemble/_forest.py:396: FutureWarning: Criterion 'mse' was deprecated in v1.0 and will be removed in version 1.2. Use `criterion='squared_error'` which is equivalent.\n",
      "  warn(\n",
      "/home/ubuntu/anaconda3/lib/python3.9/site-packages/sklearn/ensemble/_forest.py:396: FutureWarning: Criterion 'mse' was deprecated in v1.0 and will be removed in version 1.2. Use `criterion='squared_error'` which is equivalent.\n",
      "  warn(\n",
      "/home/ubuntu/anaconda3/lib/python3.9/site-packages/sklearn/ensemble/_forest.py:396: FutureWarning: Criterion 'mse' was deprecated in v1.0 and will be removed in version 1.2. Use `criterion='squared_error'` which is equivalent.\n",
      "  warn(\n",
      "/home/ubuntu/anaconda3/lib/python3.9/site-packages/sklearn/ensemble/_forest.py:396: FutureWarning: Criterion 'mse' was deprecated in v1.0 and will be removed in version 1.2. Use `criterion='squared_error'` which is equivalent.\n",
      "  warn(\n",
      "/home/ubuntu/anaconda3/lib/python3.9/site-packages/sklearn/ensemble/_forest.py:396: FutureWarning: Criterion 'mse' was deprecated in v1.0 and will be removed in version 1.2. Use `criterion='squared_error'` which is equivalent.\n",
      "  warn(\n",
      "/home/ubuntu/anaconda3/lib/python3.9/site-packages/sklearn/ensemble/_forest.py:396: FutureWarning: Criterion 'mse' was deprecated in v1.0 and will be removed in version 1.2. Use `criterion='squared_error'` which is equivalent.\n",
      "  warn(\n",
      "/home/ubuntu/anaconda3/lib/python3.9/site-packages/sklearn/ensemble/_forest.py:396: FutureWarning: Criterion 'mse' was deprecated in v1.0 and will be removed in version 1.2. Use `criterion='squared_error'` which is equivalent.\n",
      "  warn(\n",
      "/home/ubuntu/anaconda3/lib/python3.9/site-packages/sklearn/ensemble/_forest.py:396: FutureWarning: Criterion 'mse' was deprecated in v1.0 and will be removed in version 1.2. Use `criterion='squared_error'` which is equivalent.\n",
      "  warn(\n",
      "/home/ubuntu/anaconda3/lib/python3.9/site-packages/sklearn/ensemble/_forest.py:396: FutureWarning: Criterion 'mse' was deprecated in v1.0 and will be removed in version 1.2. Use `criterion='squared_error'` which is equivalent.\n",
      "  warn(\n",
      "/home/ubuntu/anaconda3/lib/python3.9/site-packages/sklearn/ensemble/_forest.py:396: FutureWarning: Criterion 'mse' was deprecated in v1.0 and will be removed in version 1.2. Use `criterion='squared_error'` which is equivalent.\n",
      "  warn(\n",
      "/home/ubuntu/anaconda3/lib/python3.9/site-packages/sklearn/ensemble/_forest.py:396: FutureWarning: Criterion 'mse' was deprecated in v1.0 and will be removed in version 1.2. Use `criterion='squared_error'` which is equivalent.\n",
      "  warn(\n",
      "/home/ubuntu/anaconda3/lib/python3.9/site-packages/sklearn/ensemble/_forest.py:396: FutureWarning: Criterion 'mse' was deprecated in v1.0 and will be removed in version 1.2. Use `criterion='squared_error'` which is equivalent.\n",
      "  warn(\n",
      "/home/ubuntu/anaconda3/lib/python3.9/site-packages/sklearn/ensemble/_forest.py:396: FutureWarning: Criterion 'mse' was deprecated in v1.0 and will be removed in version 1.2. Use `criterion='squared_error'` which is equivalent.\n",
      "  warn(\n",
      "/home/ubuntu/anaconda3/lib/python3.9/site-packages/sklearn/ensemble/_forest.py:396: FutureWarning: Criterion 'mse' was deprecated in v1.0 and will be removed in version 1.2. Use `criterion='squared_error'` which is equivalent.\n",
      "  warn(\n",
      "/home/ubuntu/anaconda3/lib/python3.9/site-packages/sklearn/ensemble/_forest.py:396: FutureWarning: Criterion 'mse' was deprecated in v1.0 and will be removed in version 1.2. Use `criterion='squared_error'` which is equivalent.\n",
      "  warn(\n"
     ]
    },
    {
     "name": "stdout",
     "output_type": "stream",
     "text": [
      "Iteration: 6\n"
     ]
    }
   ],
   "source": [
    "imputer = MissForest(random_state=1337) #miss forest\n",
    "X_imputed = imputer.fit_transform(X, cat_vars=np.array(range(58,72,1)))\n",
    "X_imputed = pd.DataFrame(X_imputed, columns=X.columns)"
   ]
  },
  {
   "cell_type": "code",
   "execution_count": 94,
   "id": "44400630",
   "metadata": {},
   "outputs": [],
   "source": [
    "X_imputed['object_id'] = MASTER_PROC['object_id']\n",
    "X_imputed['HAB_ID'] = MASTER_PROC['HAB_ID']\n",
    "X_imputed['revenue_cr'] = MASTER_PROC['revenue_cr']"
   ]
  },
  {
   "cell_type": "code",
   "execution_count": 133,
   "id": "e6f13830",
   "metadata": {},
   "outputs": [],
   "source": [
    "X_imputed.to_csv(sem_input+r'/SEM_Input_HabitationLevel_yearly_RFImputed.csv', index=False)"
   ]
  },
  {
   "cell_type": "code",
   "execution_count": 139,
   "id": "77990ce2",
   "metadata": {},
   "outputs": [],
   "source": [
    "# Imputed values for tenders are actually zeros.\n",
    "\n",
    "MASTER_Imputed = pd.read_csv(sem_input+r'/SEM_Input_HabitationLevel_yearly_RFImputed.csv')\n",
    "MASTER_Imputed.loc[[i for i, x in enumerate(MASTER_PROC.Sum_Total.isnull().to_list()) if x],['Count_Roads_Bridges_Embankments',\n",
    "       'Sum_Roads_Bridges_Embankments', 'Count_Erosion', 'Sum_Erosion',\n",
    "       'Count_IM', 'Sum_IM', 'Count_new_const', 'Sum_new_const',\n",
    "       'Count_repair_rest_imp', 'Sum_repair_rest_imp',\n",
    "       'Count_relief_preparation', 'Sum_relief_preparation', 'Count_goods',\n",
    "       'Sum_goods', 'Count_Total', 'Sum_Total', 'Count_SDRF', 'Sum_SDRF',\n",
    "       'Count_SOPD', 'Sum_SOPD', 'Count_CIDF', 'Sum_CIDF', 'Count_LTIF',\n",
    "       'Sum_LTIF', 'Count_RIDF', 'Sum_RIDF']] = 0\n"
   ]
  },
  {
   "cell_type": "code",
   "execution_count": 164,
   "id": "378bf09b",
   "metadata": {},
   "outputs": [
    {
     "name": "stderr",
     "output_type": "stream",
     "text": [
      "/tmp/ipykernel_1552342/386351915.py:2: FutureWarning: Indexing with multiple keys (implicitly converted to a tuple of keys) will be deprecated, use a list instead.\n",
      "  MASTER_FRIMS_PROC_CONSOLIDATED = MASTER_Imputed.groupby('HAB_ID')['population_affected','crop_area_affected',\n"
     ]
    }
   ],
   "source": [
    "# Consolidated SEM Input\n",
    "MASTER_FRIMS_PROC_CONSOLIDATED = MASTER_Imputed.groupby('HAB_ID')['population_affected','crop_area_affected',\n",
    "                                                                  'human_lives_lost', 'roads_dam', 'bridges_dam',\n",
    "                                                                  'embankment_total', 'Count_Roads_Bridges_Embankments',\n",
    "       'Sum_Roads_Bridges_Embankments', 'Count_Erosion', 'Sum_Erosion',\n",
    "       'Count_IM', 'Sum_IM', 'Count_new_const', 'Sum_new_const',\n",
    "       'Count_repair_rest_imp', 'Sum_repair_rest_imp',\n",
    "       'Count_relief_preparation', 'Sum_relief_preparation', 'Count_goods',\n",
    "       'Sum_goods', 'Count_Total', 'Sum_Total', 'Count_SDRF', 'Sum_SDRF',\n",
    "       'Count_SOPD', 'Sum_SOPD', 'Count_CIDF', 'Sum_CIDF', 'Count_LTIF',\n",
    "       'Sum_LTIF', 'Count_RIDF', 'Sum_RIDF'].sum()"
   ]
  },
  {
   "cell_type": "code",
   "execution_count": 165,
   "id": "7051b47b",
   "metadata": {},
   "outputs": [
    {
     "name": "stderr",
     "output_type": "stream",
     "text": [
      "/tmp/ipykernel_1552342/2111020253.py:1: FutureWarning: Indexing with multiple keys (implicitly converted to a tuple of keys) will be deprecated, use a list instead.\n",
      "  MASTER_DEMOG_INFRA_FLOOD_CONSOLIDATED = MASTER_Imputed.groupby('HAB_ID')['ind_ppp_UNadj', 'aged', 'young', 'sexratio', 'percaay', 'deprived',\n"
     ]
    }
   ],
   "source": [
    "MASTER_DEMOG_INFRA_FLOOD_CONSOLIDATED = MASTER_Imputed.groupby('HAB_ID')['ind_ppp_UNadj', 'aged', 'young', 'sexratio', 'percaay', 'deprived',\n",
    "       'nophone', 'noSanitation', 'nodrinkingWater', 'totLivestock', 'yr',\n",
    "       'proximity_hosptial_rd', 'proximity_embankment_rd', 'proximity_rail_rd',\n",
    "       'proximity_local_rd', 'proximity_arterial_rd', 'ndbi',\n",
    "       'gmted_drainage_density_without_1', 'srtm_filled_dem',\n",
    "       'GCN250_ARCIII_average', 'Inundation', 'sum',\n",
    "       'assam_dist_from_major_rivers_updated_3857',\n",
    "       'strm_filled_slope_degrees', 'ndvi', 'TOT_POPULA',\n",
    "       'assam_soil_loam, silt loam, silt, sandy loam',\n",
    "       'assam_soil_loamy sand, sand',\n",
    "       'assam_soil_rocky, other non-soil categories',\n",
    "       'assam_lith_neogene sedimentary rock',\n",
    "       'assam_lith_paleogene sedementary rock', 'assam_lith_paleozoic rock',\n",
    "       'assam_lith_quaternary sediments',\n",
    "       'assam_lith_tertiary sedimentary rocks',\n",
    "       'assam_lith_undeveloped precambrian rock', 'assam_lith_water',\n",
    "       'land use_built', 'land use_range land', 'land use_vegetation',\n",
    "       'land use_water'].median()"
   ]
  },
  {
   "cell_type": "code",
   "execution_count": 180,
   "id": "a7056b58",
   "metadata": {},
   "outputs": [],
   "source": [
    "MASTER_HABITATION = MASTER_DEMOG_INFRA_FLOOD_CONSOLIDATED.reset_index().merge(MASTER_FRIMS_PROC_CONSOLIDATED.reset_index(), on=\"HAB_ID\")"
   ]
  },
  {
   "cell_type": "code",
   "execution_count": 181,
   "id": "dabffe31",
   "metadata": {},
   "outputs": [],
   "source": [
    "MASTER_HABITATION = MASTER_HABITATION.merge(assam_habitations_rc_gdf[['HAB_ID', 'revenue_cr', 'district_3', 'HAB_NAME', 'object_id']],\n",
    "                        on='HAB_ID')"
   ]
  },
  {
   "cell_type": "code",
   "execution_count": 183,
   "id": "c26202b3",
   "metadata": {},
   "outputs": [],
   "source": [
    "MASTER_HABITATION.to_csv(sem_input+r'/SEM_Input_HabitationLevel_CONSOLIDATED.csv', index=False)"
   ]
  },
  {
   "cell_type": "code",
   "execution_count": null,
   "id": "d7a39f6e",
   "metadata": {},
   "outputs": [],
   "source": []
  },
  {
   "cell_type": "code",
   "execution_count": null,
   "id": "2bb5c450",
   "metadata": {},
   "outputs": [],
   "source": []
  },
  {
   "cell_type": "code",
   "execution_count": null,
   "id": "47be88e9",
   "metadata": {},
   "outputs": [],
   "source": []
  },
  {
   "cell_type": "code",
   "execution_count": null,
   "id": "bc376b98",
   "metadata": {},
   "outputs": [],
   "source": []
  },
  {
   "cell_type": "code",
   "execution_count": null,
   "id": "90118940",
   "metadata": {},
   "outputs": [],
   "source": []
  },
  {
   "cell_type": "code",
   "execution_count": null,
   "id": "89e75692",
   "metadata": {},
   "outputs": [],
   "source": [
    "MASTER_2018 = MASTER[MASTER['yr']>=2018]\n",
    "MASTER_2018.to_csv('D:/Projects/IDEA-FRM/InputData/SEM_Input_2018.csv',index=False)"
   ]
  },
  {
   "cell_type": "code",
   "execution_count": null,
   "id": "35faf6c3",
   "metadata": {},
   "outputs": [],
   "source": [
    "one_hot_encoded_data = pd.get_dummies(MASTER_2018,\n",
    "                                      columns = ['assam_soil', 'assam_lith','land use'],\n",
    "                                      dummy_na=True,\n",
    "                                      drop_first=True)\n",
    "one_hot_encoded_data"
   ]
  },
  {
   "cell_type": "code",
   "execution_count": null,
   "id": "20b8447e",
   "metadata": {},
   "outputs": [],
   "source": [
    "#Ensuring OHE data represents Null values. \n",
    "one_hot_encoded_data.loc[one_hot_encoded_data.assam_soil_nan == 1,\n",
    "                         \n",
    "                         [#\"assam_soil_clay, loamy clay, sandy clay, silty clay\", reference\n",
    "                          \"assam_soil_loamy sand, sand\",\n",
    "                         \"assam_soil_rocky, other non-soil categories\",\n",
    "                         \"assam_soil_loam, silt loam, silt, sandy loam\"]\n",
    "                         \n",
    "                        ] = np.nan\n",
    "\n",
    "del one_hot_encoded_data[\"assam_soil_nan\"]\n",
    "\n",
    "\n",
    "one_hot_encoded_data.loc[one_hot_encoded_data.assam_lith_nan == 1,\n",
    "                         \n",
    "                         [#\"assam_lith_metamorphic, mesozoic and paleozoic intusive\", reference\n",
    "                          \"assam_lith_neogene sedimentary rock\",\n",
    "                          \"assam_lith_paleogene sedementary rock\",\n",
    "                          \"assam_lith_paleozoic rock\",\n",
    "                          \"assam_lith_undeveloped precambrian rock\",\n",
    "                          \"assam_lith_quaternary sediments\",\n",
    "                          \"assam_lith_tertiary sedimentary rocks\",\n",
    "                          \"assam_lith_water\"\n",
    "                         ]\n",
    "                         \n",
    "                        ] = np.nan\n",
    "\n",
    "del one_hot_encoded_data[\"assam_lith_nan\"]\n",
    "\n",
    "one_hot_encoded_data.loc[one_hot_encoded_data['land use_nan'] == 1,\n",
    "                         \n",
    "                         [#\"land use_bare ground\",reference\n",
    "                          \"land use_built\",\n",
    "                          \"land use_range land\",\n",
    "                          \"land use_vegetation\",\n",
    "                          \"land use_water\"\n",
    "                         ]\n",
    "                         \n",
    "                        ] = np.nan\n",
    "del one_hot_encoded_data[\"land use_nan\"]"
   ]
  },
  {
   "cell_type": "code",
   "execution_count": null,
   "id": "e9f4357f",
   "metadata": {},
   "outputs": [],
   "source": [
    "X = one_hot_encoded_data.drop(['ID','yr','x','y'],axis=1)"
   ]
  },
  {
   "cell_type": "code",
   "execution_count": null,
   "id": "c0f1cba9",
   "metadata": {},
   "outputs": [],
   "source": []
  },
  {
   "cell_type": "code",
   "execution_count": null,
   "id": "6992e454",
   "metadata": {},
   "outputs": [],
   "source": [
    "import random\n",
    "import sklearn.neighbors._base \n",
    "import sys\n",
    "sys.modules['sklearn.neighbors.base'] = sklearn.neighbors._base\n",
    "from missingpy import MissForest\n",
    "\n",
    "imputer = MissForest(random_state=1337) #miss forest\n",
    "X_imputed = imputer.fit_transform(X,cat_vars=np.array(range(76,90,1)))\n",
    "X_imputed = pd.DataFrame(X_imputed, columns = X.columns)"
   ]
  },
  {
   "cell_type": "code",
   "execution_count": null,
   "id": "c3998831",
   "metadata": {},
   "outputs": [],
   "source": [
    "from sklearn.preprocessing import StandardScaler\n",
    "cat_columns = np.array(range(10,27,1))\n",
    "X_train_cat = X_imputed.iloc[:,10:]\n",
    "X_train_con = X_imputed.iloc[:,:10]\n",
    "X_train_con = X_train_con.drop(['ID','yr'],axis=1)\n",
    "\n",
    "standardized_data = StandardScaler().fit_transform(X_train_con)\n",
    "\n",
    "X_train_con = pd.DataFrame(standardized_data,columns=X_train_con.columns)\n",
    "X_train = pd.concat([X_train_con,X_train_cat.reset_index(drop=True)],axis=1)\n",
    "X_train"
   ]
  },
  {
   "cell_type": "code",
   "execution_count": null,
   "id": "fd010b29",
   "metadata": {},
   "outputs": [],
   "source": [
    "input_df = one_hot_encoded_data"
   ]
  },
  {
   "cell_type": "code",
   "execution_count": null,
   "id": "39bc0b8b",
   "metadata": {},
   "outputs": [],
   "source": [
    "columns = list(input_df.columns)\n",
    "columns.remove('ID')\n",
    "columns.remove('yr')"
   ]
  },
  {
   "cell_type": "code",
   "execution_count": null,
   "id": "b3214c9b",
   "metadata": {},
   "outputs": [],
   "source": [
    "#CORRELATION MATRIX\n",
    "rcParams['figure.figsize'] = 15,15\n",
    "\n",
    "heatmap = sns.heatmap(input_df[columns].corr().round(2),\n",
    "        cmap=\"YlGnBu\",\n",
    "        annot=True).get_figure()\n",
    "\n",
    "heatmap.savefig(\"CorrelationMatrix.png\")"
   ]
  },
  {
   "cell_type": "code",
   "execution_count": null,
   "id": "1b32957b",
   "metadata": {},
   "outputs": [],
   "source": [
    "from statsmodels.stats.outliers_influence import variance_inflation_factor"
   ]
  },
  {
   "cell_type": "code",
   "execution_count": null,
   "id": "3747665c",
   "metadata": {},
   "outputs": [],
   "source": [
    "X = input_df[columns]\n",
    "  \n",
    "# VIF dataframe\n",
    "vif_data = pd.DataFrame()\n",
    "vif_data[\"feature\"] = X.columns\n",
    "  \n",
    "# calculating VIF for each feature\n",
    "vif_data[\"VIF\"] = [variance_inflation_factor(X.values, i)\n",
    "                          for i in range(len(X.columns))]"
   ]
  },
  {
   "cell_type": "code",
   "execution_count": null,
   "id": "bd60196c",
   "metadata": {},
   "outputs": [],
   "source": [
    "from sklearn.decomposition import PCA\n",
    "pca = PCA(n_components=2)\n",
    "principalComponents = pca.fit_transform(input_df)\n",
    "principalDf = pd.DataFrame(data = principalComponents,\n",
    "                           columns = ['principal component 1', 'principal component 2'])"
   ]
  },
  {
   "cell_type": "code",
   "execution_count": null,
   "id": "0040935f",
   "metadata": {},
   "outputs": [],
   "source": []
  },
  {
   "cell_type": "code",
   "execution_count": null,
   "id": "76284d8f",
   "metadata": {},
   "outputs": [],
   "source": []
  },
  {
   "cell_type": "code",
   "execution_count": null,
   "id": "4eb91ede",
   "metadata": {},
   "outputs": [],
   "source": [
    "X_std_imputed = pd.read_csv('D:/Projects/IDEA-FRM2/InputData/SEM_X_Imputed_RemovedAnomalies.csv')"
   ]
  },
  {
   "cell_type": "code",
   "execution_count": null,
   "id": "71b7efb2",
   "metadata": {},
   "outputs": [],
   "source": [
    "X_std_imputed.columns"
   ]
  },
  {
   "cell_type": "code",
   "execution_count": null,
   "id": "e702c245",
   "metadata": {},
   "outputs": [],
   "source": []
  },
  {
   "cell_type": "code",
   "execution_count": null,
   "id": "a7bef65c",
   "metadata": {},
   "outputs": [],
   "source": [
    "points = gpd.GeoDataFrame(X_std_imputed_drop[['x','y','yr']],\n",
    "                          geometry=gpd.points_from_xy(X_std_imputed_drop[['x']], X_std_imputed_drop[['y']])\n",
    "                         ).set_crs('EPSG:4326')"
   ]
  },
  {
   "cell_type": "code",
   "execution_count": null,
   "id": "bf792ca6",
   "metadata": {},
   "outputs": [],
   "source": [
    "import geopandas as gpd\n",
    "object_id = gpd.read_file(r\"D:\\Projects\\assam-tender-scraper\\Assam_shapefiles\\Assam_RC/assam_revenue_circle_nov2022.shp\")"
   ]
  },
  {
   "cell_type": "code",
   "execution_count": null,
   "id": "29f10c95",
   "metadata": {},
   "outputs": [],
   "source": [
    "points = gpd.sjoin(points, gpd.GeoDataFrame(object_id).to_crs('EPSG:4326'),how='left',op='within')[['x','y','yr','object_id']]"
   ]
  },
  {
   "cell_type": "code",
   "execution_count": null,
   "id": "b6eeffd3",
   "metadata": {},
   "outputs": [],
   "source": [
    "tender_files = glob.glob(r\"D:\\Projects\\assam-tender-scraper\\flood_tenders_filter/test_group_2*\")\n",
    "tender_dfs = []\n",
    "#convert NA to 0\n",
    "for file in tender_files:\n",
    "    tender_dfs.append(pd.read_csv(file))\n",
    "tender_df = pd.concat(tender_dfs)\n",
    "tender_df = tender_df[tender_df.year>=2018]"
   ]
  },
  {
   "cell_type": "code",
   "execution_count": null,
   "id": "21e86d33",
   "metadata": {},
   "outputs": [],
   "source": [
    "tender_df_pts = points.merge(tender_df.drop(['revenue_ci','district'], axis=1),\n",
    "                     left_on=['object_id','yr'],\n",
    "                     right_on=['object_id','year'],\n",
    "                     how='left').fillna(0)\n",
    "tender_df_pts = tender_df_pts.drop(['year','object_id'],axis=1)"
   ]
  },
  {
   "cell_type": "code",
   "execution_count": null,
   "id": "33c36730",
   "metadata": {},
   "outputs": [],
   "source": [
    "tender_df_pts.columns"
   ]
  },
  {
   "cell_type": "code",
   "execution_count": null,
   "id": "1d239c98",
   "metadata": {},
   "outputs": [],
   "source": [
    "tender_cols = ['Count_Roads_Bridges_Embankments',\n",
    "       'Sum_Roads_Bridges_Embankments', 'Count_Erosion', 'Sum_Erosion',\n",
    "       'Count_IM', 'Sum_IM', 'Count_new_const', 'Sum_new_const',\n",
    "       'Count_repair_rest_imp', 'Sum_repair_rest_imp',\n",
    "       'Count_relief_preparation', 'Sum_relief_preparation', 'Count_goods',\n",
    "       'Sum_goods', 'Count_Total', 'Sum_Total', 'Count_SDRF', 'Sum_SDRF',\n",
    "       'Count_SOPD', 'Sum_SOPD', 'Count_CIDF', 'Sum_CIDF', 'Count_LTIF',\n",
    "       'Sum_LTIF', 'Count_RIDF', 'Sum_RIDF']"
   ]
  },
  {
   "cell_type": "code",
   "execution_count": null,
   "id": "d4346125",
   "metadata": {},
   "outputs": [],
   "source": [
    "len(tender_cols)"
   ]
  },
  {
   "cell_type": "code",
   "execution_count": null,
   "id": "28426c2b",
   "metadata": {},
   "outputs": [],
   "source": [
    "from sklearn.preprocessing import StandardScaler\n",
    "\n",
    "tenders_2018_2022_standardized = StandardScaler().fit_transform(tender_df_pts[tender_df_pts.yr>=2018][tender_cols])\n",
    "tenders_2018_2022_standardized = pd.DataFrame(tenders_2018_2022_standardized,columns =tender_cols )"
   ]
  },
  {
   "cell_type": "code",
   "execution_count": null,
   "id": "42c40e44",
   "metadata": {},
   "outputs": [],
   "source": [
    "tenders_2018_2022_standardized = pd.concat([tenders_2018_2022_standardized,tender_df_pts[tender_df_pts.yr>=2018][['x','y','yr']].reset_index(drop=True)],axis=1)"
   ]
  },
  {
   "cell_type": "code",
   "execution_count": null,
   "id": "2093f339",
   "metadata": {},
   "outputs": [],
   "source": [
    "X_std_imputed_drop = X_std_imputed.drop(['Count_Road', 'Sum_Roads',\n",
    "       'Count_Erosion', 'Sum_Erosion', 'Count_IM', 'Sum_IM', 'Count_new',\n",
    "       'Sum_new', 'Count_repair', 'Sum_repair', 'Count_relief', 'Sum_relief',\n",
    "       'Count_goods', 'Sum_goods', 'Count_Total', 'Sum_Total', 'Count_SDRF',\n",
    "       'Sum_SDRF', 'Count_SOPD', 'Sum_SOPD', 'Count_CIDF', 'Sum_CIDF',\n",
    "       'Count_LTIF', 'Sum_LTIF', 'Count_RIDF', 'Sum_RIDF'],axis=1)"
   ]
  },
  {
   "cell_type": "code",
   "execution_count": null,
   "id": "f5cd8845",
   "metadata": {},
   "outputs": [],
   "source": [
    "X_std_imputed_drop"
   ]
  },
  {
   "cell_type": "code",
   "execution_count": null,
   "id": "73ef88e5",
   "metadata": {},
   "outputs": [],
   "source": [
    "len(['Count_Road', 'Sum_Roads',\n",
    "       'Count_Erosion', 'Sum_Erosion', 'Count_IM', 'Sum_IM', 'Count_new',\n",
    "       'Sum_new', 'Count_repair', 'Sum_repair', 'Count_relief', 'Sum_relief',\n",
    "       'Count_goods', 'Sum_goods', 'Count_Total', 'Sum_Total', 'Count_SDRF',\n",
    "       'Sum_SDRF', 'Count_SOPD', 'Sum_SOPD', 'Count_CIDF', 'Sum_CIDF',\n",
    "       'Count_LTIF', 'Sum_LTIF', 'Count_RIDF', 'Sum_RIDF'])"
   ]
  },
  {
   "cell_type": "code",
   "execution_count": null,
   "id": "55054cfe",
   "metadata": {},
   "outputs": [],
   "source": [
    "X_std_imputed = X_std_imputed_drop.merge(tenders_2018_2022_standardized, on=['x','y','yr'])"
   ]
  },
  {
   "cell_type": "code",
   "execution_count": null,
   "id": "6c3cc0f8",
   "metadata": {},
   "outputs": [],
   "source": [
    "X_std_imputed  = X_std_imputed[['ind_ppp_UNadj', 'aged', 'young', 'sexratio', 'percaay', 'deprived',\n",
    "       'nophone', 'noSanitation', 'nodrinkingWater', 'totLivestock',\n",
    "       'damage_POPULATION_AFFECTED', 'damage_humanliveslost',\n",
    "       'damage_animalsaffectedtotal', 'damage_animalsaffectedpoultry',\n",
    "       'damage_animalsaffectedbig', 'damage_animalsaffectedsmall',\n",
    "       'damage_animals_washed_total', 'damage_animals_washed_poultry',\n",
    "       'damage_animals_washed_big', 'damage_animals_washed_small',\n",
    "       'damage_Houses_damaged_fully', 'damage_Houses_damaged_partially',\n",
    "       'damage_croparea_AFFECTED', 'Embankment', 'Other', 'Road', 'Bridge',\n",
    "       'Rice', 'Salt', 'Oil', 'Dal', 'response_inmatesinReliefCamps',\n",
    "       'Relief_cam', 'Relief_dis', 'proximity_hosptial_rd',\n",
    "       'proximity_embankment_rd', 'proximity_rail_rd', 'proximity_local_rd',\n",
    "       'proximity_arterial_rd', 'ndbi', 'gmted_drainage_density_without_1',\n",
    "       'srtm_filled_dem', 'GCN250_ARCIII_average', 'Inundation', 'sum',\n",
    "       'assam_dist_from_major_rivers_updated_3857',\n",
    "       'strm_filled_slope_degrees', 'ndvi','Count_Roads_Bridges_Embankments', 'Sum_Roads_Bridges_Embankments',\n",
    "       'Count_Erosion', 'Sum_Erosion', 'Count_IM', 'Sum_IM', 'Count_new_const',\n",
    "       'Sum_new_const', 'Count_repair_rest_imp', 'Sum_repair_rest_imp',\n",
    "       'Count_relief_preparation', 'Sum_relief_preparation', 'Count_goods',\n",
    "       'Sum_goods', 'Count_Total', 'Sum_Total', 'Count_SDRF', 'Sum_SDRF',\n",
    "       'Count_SOPD', 'Sum_SOPD', 'Count_CIDF', 'Sum_CIDF', 'Count_LTIF',\n",
    "       'Sum_LTIF', 'Count_RIDF', 'Sum_RIDF','assam_soil_loam_silt_loam_silt_sandy_loam',\n",
    "       'assam_soil_loamy_sand_sand',\n",
    "       'assam_soil_rocky_other_non-soil_categories',\n",
    "       'assam_lith_neogene_sedimentary_rock',\n",
    "       'assam_lith_paleogene_sedementary rock', 'assam_lith_paleozoic_rock',\n",
    "       'assam_lith_quaternary_sediments',\n",
    "       'assam_lith_tertiary_sedimentary_rocks',\n",
    "       'assam_lith_undeveloped_precambrian_rock', 'assam_lith_water',\n",
    "       'landuse_built', 'landuse_range_land', 'landuse_vegetation',\n",
    "       'landuse_water', 'x', 'y', 'yr', 'revenue_ci', 'revenue_ci_enc']]\n",
    "X_std_imputed.columns = rena_cols"
   ]
  },
  {
   "cell_type": "code",
   "execution_count": null,
   "id": "07604ead",
   "metadata": {},
   "outputs": [],
   "source": [
    "X_std_imputed.to_csv('D:/Projects/IDEA-FRM2/InputData/SEM_X_Imputed_RemovedAnomalies_new.csv',index=False)"
   ]
  },
  {
   "cell_type": "code",
   "execution_count": null,
   "id": "c7669014",
   "metadata": {},
   "outputs": [],
   "source": [
    "X_std_imputed.columns"
   ]
  },
  {
   "cell_type": "code",
   "execution_count": null,
   "id": "6f3d2e86",
   "metadata": {},
   "outputs": [],
   "source": [
    "con_col = ['ind_ppp_UNadj', 'aged', 'young', 'sexratio', 'percaay', 'deprived',\n",
    "       'nophone', 'noSanitation', 'nodrinkingWater', 'totLivestock',\n",
    "       'damage_POPULATION_AFFECTED', 'damage_humanliveslost',\n",
    "       'damage_animalsaffectedtotal', 'damage_animalsaffectedpoultry',\n",
    "       'damage_animalsaffectedbig', 'damage_animalsaffectedsmall',\n",
    "       'damage_animals_washed_total', 'damage_animals_washed_poultry',\n",
    "       'damage_animals_washed_big', 'damage_animals_washed_small',\n",
    "       'damage_Houses_damaged_fully', 'damage_Houses_damaged_partially',\n",
    "       'damage_croparea_AFFECTED', 'Embankment', 'Other', 'Road', 'Bridge',\n",
    "       'Rice', 'Salt', 'Oil', 'Dal', 'response_inmatesinReliefCamps',\n",
    "       'Relief_cam', 'Relief_dis', 'proximity_hosptial_rd',\n",
    "       'proximity_embankment_rd', 'proximity_rail_rd', 'proximity_local_rd',\n",
    "       'proximity_arterial_rd', 'ndbi', 'gmted_drainage_density_without_1',\n",
    "       'srtm_filled_dem', 'GCN250_ARCIII_average', 'Inundation', 'sum',\n",
    "       'assam_dist_from_major_rivers_updated_3857',\n",
    "       'strm_filled_slope_degrees', 'ndvi', 'Count_Road', 'Sum_Roads',\n",
    "       'Count_Erosion', 'Sum_Erosion', 'Count_IM', 'Sum_IM', 'Count_new',\n",
    "       'Sum_new', 'Count_repair', 'Sum_repair', 'Count_relief', 'Sum_relief',\n",
    "       'Count_goods', 'Sum_goods', 'Count_Total', 'Sum_Total', 'Count_SDRF',\n",
    "       'Sum_SDRF', 'Count_SOPD', 'Sum_SOPD', 'Count_CIDF', 'Sum_CIDF',\n",
    "       'Count_LTIF', 'Sum_LTIF', 'Count_RIDF', 'Sum_RIDF']\n",
    "cat_col = ['assam_soil_loam_silt_loam_silt_sandy_loam',\n",
    "       'assam_soil_loamy_sand_sand',\n",
    "       'assam_soil_rocky_other_non-soil_categories',\n",
    "       'assam_lith_neogene_sedimentary_rock',\n",
    "       'assam_lith_paleogene_sedementary rock', 'assam_lith_paleozoic_rock',\n",
    "       'assam_lith_quaternary_sediments',\n",
    "       'assam_lith_tertiary_sedimentary_rocks',\n",
    "       'assam_lith_undeveloped_precambrian_rock', 'assam_lith_water',\n",
    "       'landuse_built', 'landuse_range_land', 'landuse_vegetation',\n",
    "       'landuse_water']"
   ]
  },
  {
   "cell_type": "code",
   "execution_count": null,
   "id": "28cac1c8",
   "metadata": {},
   "outputs": [],
   "source": [
    "X_std_imputed.groupby(['revenue_ci_enc','revenue_ci','yr']).agg({['ind_ppp_UNadj','aged']: ['mean']})\n"
   ]
  },
  {
   "cell_type": "code",
   "execution_count": null,
   "id": "6fc558c3",
   "metadata": {},
   "outputs": [],
   "source": [
    "rena_cols = ['ind_ppp_UNadj', 'aged', 'young', 'sexratio', 'percaay', 'deprived',\n",
    "       'nophone', 'noSanitation', 'nodrinkingWater', 'totLivestock',\n",
    "       'damage_POPULATION_AFFECTED', 'damage_humanliveslost',\n",
    "       'damage_animalsaffectedtotal', 'damage_animalsaffectedpoultry',\n",
    "       'damage_animalsaffectedbig', 'damage_animalsaffectedsmall',\n",
    "       'damage_animals_washed_total', 'damage_animals_washed_poultry',\n",
    "       'damage_animals_washed_big', 'damage_animals_washed_small',\n",
    "       'damage_Houses_damaged_fully', 'damage_Houses_damaged_partially',\n",
    "       'damage_croparea_AFFECTED', 'Embankment', 'Other', 'Road', 'Bridge',\n",
    "       'Rice', 'Salt', 'Oil', 'Dal', 'response_inmatesinReliefCamps',\n",
    "       'Relief_cam', 'Relief_dis', 'proximity_hosptial_rd',\n",
    "       'proximity_embankment_rd', 'proximity_rail_rd', 'proximity_local_rd',\n",
    "       'proximity_arterial_rd', 'ndbi', 'gmted_drainage_density_without_1',\n",
    "       'srtm_filled_dem', 'GCN250_ARCIII_average', 'Inundation', 'sum',\n",
    "       'assam_dist_from_major_rivers_updated_3857',\n",
    "       'strm_filled_slope_degrees', 'ndvi', 'Count_Road', 'Sum_Roads',\n",
    "       'Count_Erosion', 'Sum_Erosion', 'Count_IM', 'Sum_IM', 'Count_new',\n",
    "       'Sum_new', 'Count_repair', 'Sum_repair', 'Count_relief', 'Sum_relief',\n",
    "       'Count_goods', 'Sum_goods', 'Count_Total', 'Sum_Total', 'Count_SDRF',\n",
    "       'Sum_SDRF', 'Count_SOPD', 'Sum_SOPD', 'Count_CIDF', 'Sum_CIDF',\n",
    "       'Count_LTIF', 'Sum_LTIF', 'Count_RIDF', 'Sum_RIDF',\n",
    "       'assam_soil_loam_silt_loam_silt_sandy_loam',\n",
    "       'assam_soil_loamy_sand_sand',\n",
    "       'assam_soil_rocky_other_non-soil_categories',\n",
    "       'assam_lith_neogene_sedimentary_rock',\n",
    "       'assam_lith_paleogene_sedementary rock', 'assam_lith_paleozoic_rock',\n",
    "       'assam_lith_quaternary_sediments',\n",
    "       'assam_lith_tertiary_sedimentary_rocks',\n",
    "       'assam_lith_undeveloped_precambrian_rock', 'assam_lith_water',\n",
    "       'landuse_built', 'landuse_range_land', 'landuse_vegetation',\n",
    "       'landuse_water', 'x', 'y', 'yr', 'revenue_ci', 'revenue_ci_enc']"
   ]
  },
  {
   "cell_type": "code",
   "execution_count": null,
   "id": "38e9de46",
   "metadata": {},
   "outputs": [],
   "source": [
    "len(rena_cols)"
   ]
  },
  {
   "cell_type": "code",
   "execution_count": null,
   "id": "bc88363c",
   "metadata": {},
   "outputs": [],
   "source": [
    "## CUMULATIVE"
   ]
  },
  {
   "cell_type": "code",
   "execution_count": null,
   "id": "65d2d6ec",
   "metadata": {},
   "outputs": [],
   "source": [
    "demog_cols = ['ind_ppp_UNadj', 'aged', 'young', 'sexratio', 'percaay', 'deprived',\n",
    "       'nophone', 'noSanitation', 'nodrinkingWater', 'totLivestock','x', 'y', 'yr', 'revenue_ci', 'revenue_ci_enc','object_id']\n",
    "\n",
    "damage_cols = ['damage_POPULATION_AFFECTED', 'damage_humanliveslost',\n",
    "       'damage_animalsaffectedtotal', 'damage_animalsaffectedpoultry',\n",
    "       'damage_animalsaffectedbig', 'damage_animalsaffectedsmall',\n",
    "       'damage_animals_washed_total', 'damage_animals_washed_poultry',\n",
    "       'damage_animals_washed_big', 'damage_animals_washed_small',\n",
    "       'damage_Houses_damaged_fully', 'damage_Houses_damaged_partially',\n",
    "       'damage_croparea_AFFECTED', 'Embankment', 'Other', 'Road', 'Bridge','x', 'y', 'yr', 'revenue_ci', 'revenue_ci_enc','object_id']\n",
    "\n",
    "infa_cols = [ 'proximity_hosptial_rd',\n",
    "       'proximity_embankment_rd', 'proximity_rail_rd', 'proximity_local_rd',\n",
    "       'proximity_arterial_rd', 'ndbi','x', 'y', 'yr', 'revenue_ci', 'revenue_ci_enc','object_id']\n",
    "\n",
    "fld_cols = ['gmted_drainage_density_without_1',\n",
    "       'srtm_filled_dem', 'GCN250_ARCIII_average', 'Inundation', 'sum',\n",
    "       'assam_dist_from_major_rivers_updated_3857',\n",
    "       'strm_filled_slope_degrees', 'ndvi','x', 'y', 'yr', 'revenue_ci', 'revenue_ci_enc','object_id']\n",
    "\n",
    "fld_cols_cat = ['assam_soil_loam_silt_loam_silt_sandy_loam',\n",
    "       'assam_soil_loamy_sand_sand',\n",
    "       'assam_soil_rocky_other_non-soil_categories',\n",
    "       'assam_lith_neogene_sedimentary_rock',\n",
    "       'assam_lith_paleogene_sedementary rock', 'assam_lith_paleozoic_rock',\n",
    "       'assam_lith_quaternary_sediments',\n",
    "       'assam_lith_tertiary_sedimentary_rocks',\n",
    "       'assam_lith_undeveloped_precambrian_rock', 'assam_lith_water',\n",
    "       'landuse_built', 'landuse_range_land', 'landuse_vegetation',\n",
    "       'landuse_water','x', 'y', 'yr', 'revenue_ci', 'revenue_ci_enc','object_id']\n",
    "\n",
    "tender_cols = ['Count_Road', 'Sum_Roads',\n",
    "       'Count_Erosion', 'Sum_Erosion', 'Count_IM', 'Sum_IM', 'Count_new',\n",
    "       'Sum_new', 'Count_repair', 'Sum_repair', 'Count_relief', 'Sum_relief',\n",
    "       'Count_goods', 'Sum_goods', 'Count_Total', 'Sum_Total', 'Count_SDRF',\n",
    "       'Sum_SDRF', 'Count_SOPD', 'Sum_SOPD', 'Count_CIDF', 'Sum_CIDF',\n",
    "       'Count_LTIF', 'Sum_LTIF', 'Count_RIDF', 'Sum_RIDF','x', 'y', 'yr', 'revenue_ci', 'revenue_ci_enc','object_id']"
   ]
  },
  {
   "cell_type": "code",
   "execution_count": null,
   "id": "a7af4186",
   "metadata": {},
   "outputs": [],
   "source": [
    "MASTER = pd.read_csv('D:/Projects/IDEA-FRM2/InputData/SEM_Input.csv')"
   ]
  },
  {
   "cell_type": "code",
   "execution_count": null,
   "id": "706bf201",
   "metadata": {},
   "outputs": [],
   "source": [
    "MASTER = MASTER[MASTER.yr>=2018]"
   ]
  },
  {
   "cell_type": "code",
   "execution_count": null,
   "id": "acce092a",
   "metadata": {},
   "outputs": [],
   "source": [
    "points = gpd.GeoDataFrame(MASTER[['x','y','yr']],\n",
    "                          geometry=gpd.points_from_xy(MASTER[['x']], MASTER[['y']])\n",
    "                         ).set_crs('EPSG:4326')"
   ]
  },
  {
   "cell_type": "code",
   "execution_count": null,
   "id": "18b04408",
   "metadata": {},
   "outputs": [],
   "source": [
    "points = gpd.sjoin(points, gpd.GeoDataFrame(object_id).to_crs('EPSG:4326'),how='left',op='within')"
   ]
  },
  {
   "cell_type": "code",
   "execution_count": null,
   "id": "a267eb4e",
   "metadata": {},
   "outputs": [],
   "source": [
    "points = points.drop_duplicates(['x','y','yr'])[['x','y','yr','revenue_ci','district_3','object_id','HQ']]"
   ]
  },
  {
   "cell_type": "code",
   "execution_count": null,
   "id": "7c048b4f",
   "metadata": {},
   "outputs": [],
   "source": [
    "MASTER2 = MASTER.merge(points,on=['x','y','yr'])"
   ]
  },
  {
   "cell_type": "code",
   "execution_count": null,
   "id": "8761804e",
   "metadata": {},
   "outputs": [],
   "source": [
    "MASTER2.groupby(['object_id','yr'])[['ind_ppp_UNadj', 'aged', 'young', 'percaay', 'deprived',\n",
    "       'nophone', 'noSanitation', 'nodrinkingWater', 'totLivestock']].sum().reset_index().to_csv('D:\\Projects\\IDEA-FRM2\\InputData\\Cumulative\\demographicvulnerability.csv',index=False)"
   ]
  },
  {
   "cell_type": "code",
   "execution_count": null,
   "id": "f023158d",
   "metadata": {},
   "outputs": [],
   "source": [
    "MASTER2.groupby(['object_id','yr'])[['proximity_hosptial_rd',\n",
    "       'proximity_embankment_rd', 'proximity_rail_rd', 'proximity_local_rd',\n",
    "       'proximity_arterial_rd', 'ndbi']].mean().reset_index().to_csv('D:\\Projects\\IDEA-FRM2\\InputData\\Cumulative\\infra_access.csv',index=False)"
   ]
  },
  {
   "cell_type": "code",
   "execution_count": null,
   "id": "4ccf3965",
   "metadata": {},
   "outputs": [],
   "source": [
    "floodproneness_cum = MASTER2.groupby(['object_id','yr'])[['gmted_drainage_density_without_1',\n",
    "       'srtm_filled_dem', 'GCN250_ARCIII_average', 'Inundation', 'sum',\n",
    "       'assam_dist_from_major_rivers_updated_3857',\n",
    "       'strm_filled_slope_degrees', 'ndvi']].mean().reset_index()\n",
    "\n",
    "floodproneness_cum['assam_soil'] = MASTER2.groupby(['object_id','yr'])['assam_soil'].apply(pd.Series.mode).reset_index()['assam_soil']\n",
    "floodproneness_cum['assam_lith'] = MASTER2.groupby(['object_id','yr'])['assam_lith'].apply(pd.Series.mode).reset_index()['assam_lith']\n",
    "floodproneness_cum['landuse'] = MASTER2.groupby(['object_id','yr'])['land use'].apply(pd.Series.mode).reset_index()['land use']\n",
    "floodproneness_cum.to_csv(r'D:\\Projects\\IDEA-FRM2\\InputData\\Cumulative\\floodproneness.csv',index=False)"
   ]
  },
  {
   "cell_type": "code",
   "execution_count": null,
   "id": "06ef8448",
   "metadata": {},
   "outputs": [],
   "source": [
    "MASTER2.groupby(['object_id', 'yr']).Inundation.mean().value_counts()"
   ]
  },
  {
   "cell_type": "code",
   "execution_count": null,
   "id": "b2dad15b",
   "metadata": {},
   "outputs": [],
   "source": []
  },
  {
   "cell_type": "code",
   "execution_count": null,
   "id": "ed7a936a",
   "metadata": {},
   "outputs": [],
   "source": [
    "assam_rcs_gdf[['']]"
   ]
  },
  {
   "cell_type": "code",
   "execution_count": null,
   "id": "68de4f2d",
   "metadata": {},
   "outputs": [],
   "source": []
  }
 ],
 "metadata": {
  "kernelspec": {
   "display_name": "Python 3 (ipykernel)",
   "language": "python",
   "name": "python3"
  },
  "language_info": {
   "codemirror_mode": {
    "name": "ipython",
    "version": 3
   },
   "file_extension": ".py",
   "mimetype": "text/x-python",
   "name": "python",
   "nbconvert_exporter": "python",
   "pygments_lexer": "ipython3",
   "version": "3.9.13"
  }
 },
 "nbformat": 4,
 "nbformat_minor": 5
}
