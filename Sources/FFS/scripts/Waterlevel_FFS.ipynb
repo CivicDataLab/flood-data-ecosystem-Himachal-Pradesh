{
 "cells": [
  {
   "cell_type": "markdown",
   "id": "08aa69d1",
   "metadata": {
    "collapsed": true
   },
   "source": [
    "# Scraping Waterlevel data from Flood forecast Stations\n",
    "\n",
    "The Central Water Commission (CWC) collects and maintains water level data from Flood forecast stations. This data is made available by the CWC here - [Link](https://ffs.india-water.gov.in/). This notebook scrapes data from flood forecast stations in Assam from this website."
   ]
  },
  {
   "cell_type": "code",
   "execution_count": 3,
   "id": "2d4c0a07",
   "metadata": {},
   "outputs": [
    {
     "name": "stdout",
     "output_type": "stream",
     "text": [
      "https://ffs.india-water.gov.in/iam/api/layer-station//all/0035-CDBNG,029CDBNG,009%20%20%20%20%20-srdcbe,011-UBDDIB,015-LGDHYD,009-CDBNG,028-LGDHYD,027-LGDHYD,017-LGDHYD,049-CDBNG,031-MGD1LKN,023-mgd4ptn,006-UKDPUNE,013-lkdhyd,011-SRDCBE,022-CDBNG,014-lgdhyd,006-MGD1LKN,016-LGDHYD,013-lgdhyd,027-cdbng,0044-CDBNG,011-mgd4ptn,CW1WAR000056,012-TDSURAT,002-mgd2lkn,007-MGD1LKN,004-CDBNG,037-LKDHYD,010-MGD1LKn,039-TDSURAT,020-mgd4ptn,013-SRDCBE,003-SWRDKOCHI\n"
     ]
    }
   ],
   "source": [
    "master_url='https://ffs.india-water.gov.in/iam/api/layer-station//all/0035-CDBNG,029CDBNG,009%20%20%20%20%20-srdcbe,011-UBDDIB,015-LGDHYD,009-CDBNG,028-LGDHYD,027-LGDHYD,017-LGDHYD,049-CDBNG,031-MGD1LKN,023-mgd4ptn,006-UKDPUNE,013-lkdhyd,011-SRDCBE,022-CDBNG,014-lgdhyd,006-MGD1LKN,016-LGDHYD,013-lgdhyd,027-cdbng,0044-CDBNG,011-mgd4ptn,CW1WAR000056,012-TDSURAT,002-mgd2lkn,007-MGD1LKN,004-CDBNG,037-LKDHYD,010-MGD1LKn,039-TDSURAT,020-mgd4ptn,013-SRDCBE,003-SWRDKOCHI'\n",
    "print(master_url)"
   ]
  },
  {
   "cell_type": "code",
   "execution_count": 1,
   "id": "e1280571",
   "metadata": {},
   "outputs": [
    {
     "name": "stdout",
     "output_type": "stream",
     "text": [
      "https://ffs.india-water.gov.in/iam/api/flood-forecast-static/specification/?specification=%7B%22where%22:%7B%22expression%22:%7B%22valueIsRelationField%22:false,%22fieldName%22:%22type%22,%22operator%22:%22eq%22,%22value%22:%22Level%22%7D%7D,%22or%22:%7B%22expression%22:%7B%22valueIsRelationField%22:false,%22fieldName%22:%22type%22,%22operator%22:%22eq%22,%22value%22:%22Inflow%22%7D%7D%7D\n"
     ]
    }
   ],
   "source": [
    "station_more_details_url = 'https://ffs.india-water.gov.in/iam/api/flood-forecast-static/specification/?specification=%7B%22where%22:%7B%22expression%22:%7B%22valueIsRelationField%22:false,%22fieldName%22:%22type%22,%22operator%22:%22eq%22,%22value%22:%22Level%22%7D%7D,%22or%22:%7B%22expression%22:%7B%22valueIsRelationField%22:false,%22fieldName%22:%22type%22,%22operator%22:%22eq%22,%22value%22:%22Inflow%22%7D%7D%7D'\n",
    "print(station_more_details_url)"
   ]
  },
  {
   "cell_type": "code",
   "execution_count": 7,
   "id": "c4cad104",
   "metadata": {},
   "outputs": [],
   "source": [
    "\n",
    "# When you have the station id.\n",
    "station_address_details_url = 'https://ffs.india-water.gov.in/iam/api/layer-station/029-LBDJPG'"
   ]
  },
  {
   "cell_type": "code",
   "execution_count": 3,
   "id": "3598df26",
   "metadata": {},
   "outputs": [],
   "source": [
    "import requests\n",
    "import pandas as pd\n",
    "import geopandas as gpd\n",
    "from shapely.geometry import Point # Shapely for converting latitude/longtitude to geometry"
   ]
  },
  {
   "cell_type": "code",
   "execution_count": 3,
   "id": "9f011652",
   "metadata": {},
   "outputs": [
    {
     "name": "stderr",
     "output_type": "stream",
     "text": [
      "/home/krishna/anaconda3/lib/python3.9/site-packages/urllib3/connectionpool.py:1045: InsecureRequestWarning: Unverified HTTPS request is being made to host 'ffs.india-water.gov.in'. Adding certificate verification is strongly advised. See: https://urllib3.readthedocs.io/en/1.26.x/advanced-usage.html#ssl-warnings\n",
      "  warnings.warn(\n"
     ]
    },
    {
     "data": {
      "text/html": [
       "<div>\n",
       "<style scoped>\n",
       "    .dataframe tbody tr th:only-of-type {\n",
       "        vertical-align: middle;\n",
       "    }\n",
       "\n",
       "    .dataframe tbody tr th {\n",
       "        vertical-align: top;\n",
       "    }\n",
       "\n",
       "    .dataframe thead th {\n",
       "        text-align: right;\n",
       "    }\n",
       "</style>\n",
       "<table border=\"1\" class=\"dataframe\">\n",
       "  <thead>\n",
       "    <tr style=\"text-align: right;\">\n",
       "      <th></th>\n",
       "      <th>name</th>\n",
       "      <th>stationCode</th>\n",
       "      <th>lat</th>\n",
       "      <th>lon</th>\n",
       "    </tr>\n",
       "  </thead>\n",
       "  <tbody>\n",
       "    <tr>\n",
       "      <th>1516</th>\n",
       "      <td>LOHARA</td>\n",
       "      <td>036-TDSURAT</td>\n",
       "      <td>20.816389</td>\n",
       "      <td>76.763889</td>\n",
       "    </tr>\n",
       "    <tr>\n",
       "      <th>1517</th>\n",
       "      <td>Sitarganj</td>\n",
       "      <td>061-mgd2lkn</td>\n",
       "      <td>29.041667</td>\n",
       "      <td>79.766389</td>\n",
       "    </tr>\n",
       "    <tr>\n",
       "      <th>1518</th>\n",
       "      <td>KURANKHEDA</td>\n",
       "      <td>038-TDSURAT</td>\n",
       "      <td>20.703056</td>\n",
       "      <td>77.242778</td>\n",
       "    </tr>\n",
       "    <tr>\n",
       "      <th>1519</th>\n",
       "      <td>MAHUWA</td>\n",
       "      <td>034-TDSURAT</td>\n",
       "      <td>21.014444</td>\n",
       "      <td>73.140278</td>\n",
       "    </tr>\n",
       "    <tr>\n",
       "      <th>1520</th>\n",
       "      <td>GADAT</td>\n",
       "      <td>024-TDSURAT</td>\n",
       "      <td>20.856111</td>\n",
       "      <td>72.984722</td>\n",
       "    </tr>\n",
       "  </tbody>\n",
       "</table>\n",
       "</div>"
      ],
      "text/plain": [
       "            name  stationCode        lat        lon\n",
       "1516      LOHARA  036-TDSURAT  20.816389  76.763889\n",
       "1517   Sitarganj  061-mgd2lkn  29.041667  79.766389\n",
       "1518  KURANKHEDA  038-TDSURAT  20.703056  77.242778\n",
       "1519      MAHUWA  034-TDSURAT  21.014444  73.140278\n",
       "1520       GADAT  024-TDSURAT  20.856111  72.984722"
      ]
     },
     "execution_count": 3,
     "metadata": {},
     "output_type": "execute_result"
    }
   ],
   "source": [
    "#URL containing FFS Station locations\n",
    "station_location_url = 'https://ffs.india-water.gov.in/iam/api/layer-station-geo/specification/?specification=%7B%22where%22:%7B%22expression%22:%7B%22valueIsRelationField%22:false,%22fieldName%22:%22layerStationStationCode.floodForecastStaticStationCode.type%22,%22operator%22:%22eq%22,%22value%22:%22Level%22%7D%7D,%22or%22:%7B%22expression%22:%7B%22valueIsRelationField%22:false,%22fieldName%22:%22layerStationStationCode.floodForecastStaticStationCode.type%22,%22operator%22:%22eq%22,%22value%22:%22Inflow%22%7D%7D%7D'\n",
    "\n",
    "r = requests.get(station_location_url,verify=False)\n",
    "txt = r.json()\n",
    "station_locations_df = pd.DataFrame(txt)\n",
    "station_locations_df = station_locations_df[['name','stationCode', 'lat', 'lon']]\n",
    "station_locations_df.tail()"
   ]
  },
  {
   "cell_type": "code",
   "execution_count": 4,
   "id": "c7b49004",
   "metadata": {},
   "outputs": [],
   "source": [
    "station_locations_df.to_csv('/home/krishna/IDS-DRR-Data-Pipeline/Sources/FFS/data/station_coordinates.csv',\n",
    "                            index=False)"
   ]
  },
  {
   "cell_type": "code",
   "execution_count": 4,
   "id": "fb7cdfa5",
   "metadata": {},
   "outputs": [
    {
     "name": "stderr",
     "output_type": "stream",
     "text": [
      "/home/krishna/anaconda3/lib/python3.9/site-packages/urllib3/connectionpool.py:1045: InsecureRequestWarning: Unverified HTTPS request is being made to host 'ffs.india-water.gov.in'. Adding certificate verification is strongly advised. See: https://urllib3.readthedocs.io/en/1.26.x/advanced-usage.html#ssl-warnings\n",
      "  warnings.warn(\n"
     ]
    },
    {
     "data": {
      "text/html": [
       "<div>\n",
       "<style scoped>\n",
       "    .dataframe tbody tr th:only-of-type {\n",
       "        vertical-align: middle;\n",
       "    }\n",
       "\n",
       "    .dataframe tbody tr th {\n",
       "        vertical-align: top;\n",
       "    }\n",
       "\n",
       "    .dataframe thead th {\n",
       "        text-align: right;\n",
       "    }\n",
       "</style>\n",
       "<table border=\"1\" class=\"dataframe\">\n",
       "  <thead>\n",
       "    <tr style=\"text-align: right;\">\n",
       "      <th></th>\n",
       "      <th>@class</th>\n",
       "      <th>stationCode</th>\n",
       "      <th>accessibility</th>\n",
       "      <th>address</th>\n",
       "      <th>airport</th>\n",
       "      <th>altitude</th>\n",
       "      <th>bank</th>\n",
       "      <th>busStand</th>\n",
       "      <th>catchmentArea</th>\n",
       "      <th>combinedWith</th>\n",
       "      <th>...</th>\n",
       "      <th>stationTypeId</th>\n",
       "      <th>streamLocalriverId</th>\n",
       "      <th>subdivisionalOfficeId</th>\n",
       "      <th>tahsilId</th>\n",
       "      <th>villageId</th>\n",
       "      <th>wellPurposeExplorationStationCode</th>\n",
       "      <th>wellPurposeId</th>\n",
       "      <th>wellSubtypeId</th>\n",
       "      <th>wellTypeId</th>\n",
       "      <th>wellUseId</th>\n",
       "    </tr>\n",
       "  </thead>\n",
       "  <tbody>\n",
       "    <tr>\n",
       "      <th>0</th>\n",
       "      <td>com.eptisa.dto.SimpleLayerStationDto</td>\n",
       "      <td>038-CDJAPR</td>\n",
       "      <td></td>\n",
       "      <td></td>\n",
       "      <td></td>\n",
       "      <td>NaN</td>\n",
       "      <td>None</td>\n",
       "      <td></td>\n",
       "      <td>NaN</td>\n",
       "      <td>None</td>\n",
       "      <td>...</td>\n",
       "      <td>1</td>\n",
       "      <td>146.0</td>\n",
       "      <td>144</td>\n",
       "      <td>1081191004</td>\n",
       "      <td>NaN</td>\n",
       "      <td>None</td>\n",
       "      <td>None</td>\n",
       "      <td>None</td>\n",
       "      <td>None</td>\n",
       "      <td>None</td>\n",
       "    </tr>\n",
       "    <tr>\n",
       "      <th>1</th>\n",
       "      <td>com.eptisa.dto.SimpleLayerStationDto</td>\n",
       "      <td>018-UGDHYD</td>\n",
       "      <td></td>\n",
       "      <td></td>\n",
       "      <td></td>\n",
       "      <td>500.00</td>\n",
       "      <td>None</td>\n",
       "      <td></td>\n",
       "      <td>16907.0</td>\n",
       "      <td>None</td>\n",
       "      <td>...</td>\n",
       "      <td>1</td>\n",
       "      <td>226.0</td>\n",
       "      <td>61</td>\n",
       "      <td>1361261001</td>\n",
       "      <td>NaN</td>\n",
       "      <td>None</td>\n",
       "      <td>None</td>\n",
       "      <td>None</td>\n",
       "      <td>None</td>\n",
       "      <td>None</td>\n",
       "    </tr>\n",
       "    <tr>\n",
       "      <th>2</th>\n",
       "      <td>com.eptisa.dto.SimpleLayerStationDto</td>\n",
       "      <td>041-CDJAPR</td>\n",
       "      <td></td>\n",
       "      <td></td>\n",
       "      <td></td>\n",
       "      <td>NaN</td>\n",
       "      <td>None</td>\n",
       "      <td></td>\n",
       "      <td>NaN</td>\n",
       "      <td>None</td>\n",
       "      <td>...</td>\n",
       "      <td>1</td>\n",
       "      <td>1796.0</td>\n",
       "      <td>143</td>\n",
       "      <td>1081221015</td>\n",
       "      <td>NaN</td>\n",
       "      <td>None</td>\n",
       "      <td>None</td>\n",
       "      <td>None</td>\n",
       "      <td>None</td>\n",
       "      <td>None</td>\n",
       "    </tr>\n",
       "    <tr>\n",
       "      <th>3</th>\n",
       "      <td>com.eptisa.dto.SimpleLayerStationDto</td>\n",
       "      <td>018MAHGAND</td>\n",
       "      <td></td>\n",
       "      <td></td>\n",
       "      <td></td>\n",
       "      <td>158.50</td>\n",
       "      <td>Right</td>\n",
       "      <td></td>\n",
       "      <td>5475.0</td>\n",
       "      <td>None</td>\n",
       "      <td>...</td>\n",
       "      <td>1</td>\n",
       "      <td>380.0</td>\n",
       "      <td>287</td>\n",
       "      <td>1241041004</td>\n",
       "      <td>NaN</td>\n",
       "      <td>None</td>\n",
       "      <td>None</td>\n",
       "      <td>None</td>\n",
       "      <td>None</td>\n",
       "      <td>None</td>\n",
       "    </tr>\n",
       "    <tr>\n",
       "      <th>4</th>\n",
       "      <td>com.eptisa.dto.SimpleLayerStationDto</td>\n",
       "      <td>017-WGDNGP</td>\n",
       "      <td></td>\n",
       "      <td></td>\n",
       "      <td></td>\n",
       "      <td>171.28</td>\n",
       "      <td>Left</td>\n",
       "      <td></td>\n",
       "      <td>46020.0</td>\n",
       "      <td>None</td>\n",
       "      <td>...</td>\n",
       "      <td>1</td>\n",
       "      <td>243.0</td>\n",
       "      <td>119</td>\n",
       "      <td>1271131003</td>\n",
       "      <td>NaN</td>\n",
       "      <td>None</td>\n",
       "      <td>None</td>\n",
       "      <td>None</td>\n",
       "      <td>None</td>\n",
       "      <td>None</td>\n",
       "    </tr>\n",
       "  </tbody>\n",
       "</table>\n",
       "<p>5 rows × 68 columns</p>\n",
       "</div>"
      ],
      "text/plain": [
       "                                 @class stationCode accessibility address  \\\n",
       "0  com.eptisa.dto.SimpleLayerStationDto  038-CDJAPR                         \n",
       "1  com.eptisa.dto.SimpleLayerStationDto  018-UGDHYD                         \n",
       "2  com.eptisa.dto.SimpleLayerStationDto  041-CDJAPR                         \n",
       "3  com.eptisa.dto.SimpleLayerStationDto  018MAHGAND                         \n",
       "4  com.eptisa.dto.SimpleLayerStationDto  017-WGDNGP                         \n",
       "\n",
       "  airport  altitude   bank busStand  catchmentArea combinedWith  ...  \\\n",
       "0               NaN   None                     NaN         None  ...   \n",
       "1            500.00   None                 16907.0         None  ...   \n",
       "2               NaN   None                     NaN         None  ...   \n",
       "3            158.50  Right                  5475.0         None  ...   \n",
       "4            171.28   Left                 46020.0         None  ...   \n",
       "\n",
       "  stationTypeId streamLocalriverId subdivisionalOfficeId    tahsilId  \\\n",
       "0             1              146.0                   144  1081191004   \n",
       "1             1              226.0                    61  1361261001   \n",
       "2             1             1796.0                   143  1081221015   \n",
       "3             1              380.0                   287  1241041004   \n",
       "4             1              243.0                   119  1271131003   \n",
       "\n",
       "  villageId wellPurposeExplorationStationCode wellPurposeId wellSubtypeId  \\\n",
       "0       NaN                              None          None          None   \n",
       "1       NaN                              None          None          None   \n",
       "2       NaN                              None          None          None   \n",
       "3       NaN                              None          None          None   \n",
       "4       NaN                              None          None          None   \n",
       "\n",
       "  wellTypeId wellUseId  \n",
       "0       None      None  \n",
       "1       None      None  \n",
       "2       None      None  \n",
       "3       None      None  \n",
       "4       None      None  \n",
       "\n",
       "[5 rows x 68 columns]"
      ]
     },
     "execution_count": 4,
     "metadata": {},
     "output_type": "execute_result"
    }
   ],
   "source": [
    "#URL containing FFS Station details\n",
    "\n",
    "station_details_url = 'https://ffs.india-water.gov.in/iam/api/layer-station/specification/?specification=%7B%22where%22:%7B%22expression%22:%7B%22valueIsRelationField%22:false,%22fieldName%22:%22floodForecastStaticStationCode.type%22,%22operator%22:%22eq%22,%22value%22:%22Level%22%7D%7D,%22or%22:%7B%22expression%22:%7B%22valueIsRelationField%22:false,%22fieldName%22:%22floodForecastStaticStationCode.type%22,%22operator%22:%22eq%22,%22value%22:%22Inflow%22%7D%7D%7D'\n",
    "\n",
    "r = requests.get(station_details_url,verify=False)\n",
    "txt = r.json()\n",
    "station_details_df = pd.DataFrame(txt)\n",
    "station_details_df.head()"
   ]
  },
  {
   "cell_type": "code",
   "execution_count": null,
   "id": "5c746a7e",
   "metadata": {},
   "outputs": [],
   "source": [
    "station_details_df.to_csv('/home/krishna/IDS-DRR-Data-Pipeline/Sources/FFS/data/station_details.csv',index=False)"
   ]
  },
  {
   "cell_type": "code",
   "execution_count": 5,
   "id": "607c0cc3",
   "metadata": {},
   "outputs": [
    {
     "name": "stderr",
     "output_type": "stream",
     "text": [
      "/home/krishna/anaconda3/lib/python3.9/site-packages/urllib3/connectionpool.py:1045: InsecureRequestWarning: Unverified HTTPS request is being made to host 'ffs.india-water.gov.in'. Adding certificate verification is strongly advised. See: https://urllib3.readthedocs.io/en/1.26.x/advanced-usage.html#ssl-warnings\n",
      "  warnings.warn(\n"
     ]
    },
    {
     "data": {
      "text/html": [
       "<div>\n",
       "<style scoped>\n",
       "    .dataframe tbody tr th:only-of-type {\n",
       "        vertical-align: middle;\n",
       "    }\n",
       "\n",
       "    .dataframe tbody tr th {\n",
       "        vertical-align: top;\n",
       "    }\n",
       "\n",
       "    .dataframe thead th {\n",
       "        text-align: right;\n",
       "    }\n",
       "</style>\n",
       "<table border=\"1\" class=\"dataframe\">\n",
       "  <thead>\n",
       "    <tr style=\"text-align: right;\">\n",
       "      <th></th>\n",
       "      <th>@class</th>\n",
       "      <th>stationCode</th>\n",
       "      <th>dangerLevel</th>\n",
       "      <th>dlEndDate</th>\n",
       "      <th>dlStartDate</th>\n",
       "      <th>frl</th>\n",
       "      <th>frlEndDate</th>\n",
       "      <th>frlStartDate</th>\n",
       "      <th>highestFlowLevel</th>\n",
       "      <th>highestFlowLevelDate</th>\n",
       "      <th>...</th>\n",
       "      <th>mwlStartDate</th>\n",
       "      <th>nearestTown</th>\n",
       "      <th>savedAt</th>\n",
       "      <th>type</th>\n",
       "      <th>warningLevel</th>\n",
       "      <th>wlEndDate</th>\n",
       "      <th>wlStartDate</th>\n",
       "      <th>floodForecastStaticBangladeshReportStationCode</th>\n",
       "      <th>layerStationStationCode</th>\n",
       "      <th>meteorologicalSubdivisionId</th>\n",
       "    </tr>\n",
       "  </thead>\n",
       "  <tbody>\n",
       "    <tr>\n",
       "      <th>0</th>\n",
       "      <td>com.eptisa.dto.SimpleFloodForecastStaticDto</td>\n",
       "      <td>038-CDJAPR</td>\n",
       "      <td>NaN</td>\n",
       "      <td>None</td>\n",
       "      <td>None</td>\n",
       "      <td>316.00</td>\n",
       "      <td>None</td>\n",
       "      <td>None</td>\n",
       "      <td>NaN</td>\n",
       "      <td>None</td>\n",
       "      <td>...</td>\n",
       "      <td>None</td>\n",
       "      <td></td>\n",
       "      <td>2018-06-04</td>\n",
       "      <td>Inflow</td>\n",
       "      <td>NaN</td>\n",
       "      <td>None</td>\n",
       "      <td>None</td>\n",
       "      <td>None</td>\n",
       "      <td>038-CDJAPR</td>\n",
       "      <td>NaN</td>\n",
       "    </tr>\n",
       "    <tr>\n",
       "      <th>1</th>\n",
       "      <td>com.eptisa.dto.SimpleFloodForecastStaticDto</td>\n",
       "      <td>018-UGDHYD</td>\n",
       "      <td>NaN</td>\n",
       "      <td>None</td>\n",
       "      <td>None</td>\n",
       "      <td>523.60</td>\n",
       "      <td>None</td>\n",
       "      <td>None</td>\n",
       "      <td>NaN</td>\n",
       "      <td>None</td>\n",
       "      <td>...</td>\n",
       "      <td>None</td>\n",
       "      <td>Sangareddy</td>\n",
       "      <td>2014-05-20</td>\n",
       "      <td>Inflow</td>\n",
       "      <td>NaN</td>\n",
       "      <td>None</td>\n",
       "      <td>None</td>\n",
       "      <td>None</td>\n",
       "      <td>018-UGDHYD</td>\n",
       "      <td>17.0</td>\n",
       "    </tr>\n",
       "    <tr>\n",
       "      <th>2</th>\n",
       "      <td>com.eptisa.dto.SimpleFloodForecastStaticDto</td>\n",
       "      <td>041-CDJAPR</td>\n",
       "      <td>NaN</td>\n",
       "      <td>None</td>\n",
       "      <td>None</td>\n",
       "      <td>258.62</td>\n",
       "      <td>None</td>\n",
       "      <td>None</td>\n",
       "      <td>NaN</td>\n",
       "      <td>None</td>\n",
       "      <td>...</td>\n",
       "      <td>None</td>\n",
       "      <td></td>\n",
       "      <td>2018-06-04</td>\n",
       "      <td>Inflow</td>\n",
       "      <td>NaN</td>\n",
       "      <td>None</td>\n",
       "      <td>None</td>\n",
       "      <td>None</td>\n",
       "      <td>041-CDJAPR</td>\n",
       "      <td>NaN</td>\n",
       "    </tr>\n",
       "    <tr>\n",
       "      <th>3</th>\n",
       "      <td>com.eptisa.dto.SimpleFloodForecastStaticDto</td>\n",
       "      <td>018MAHGAND</td>\n",
       "      <td>192.24</td>\n",
       "      <td>None</td>\n",
       "      <td>None</td>\n",
       "      <td>189.59</td>\n",
       "      <td>None</td>\n",
       "      <td>None</td>\n",
       "      <td>NaN</td>\n",
       "      <td>None</td>\n",
       "      <td>...</td>\n",
       "      <td>None</td>\n",
       "      <td></td>\n",
       "      <td>2014-06-04</td>\n",
       "      <td>Inflow</td>\n",
       "      <td>187.06</td>\n",
       "      <td>None</td>\n",
       "      <td>None</td>\n",
       "      <td>None</td>\n",
       "      <td>018MAHGAND</td>\n",
       "      <td>2.0</td>\n",
       "    </tr>\n",
       "    <tr>\n",
       "      <th>4</th>\n",
       "      <td>com.eptisa.dto.SimpleFloodForecastStaticDto</td>\n",
       "      <td>017-WGDNGP</td>\n",
       "      <td>174.00</td>\n",
       "      <td>None</td>\n",
       "      <td>None</td>\n",
       "      <td>NaN</td>\n",
       "      <td>None</td>\n",
       "      <td>None</td>\n",
       "      <td>176.45</td>\n",
       "      <td>1986-08-14</td>\n",
       "      <td>...</td>\n",
       "      <td>None</td>\n",
       "      <td>Balharsha</td>\n",
       "      <td>2014-05-21</td>\n",
       "      <td>Level</td>\n",
       "      <td>171.50</td>\n",
       "      <td>None</td>\n",
       "      <td>2013-07-17</td>\n",
       "      <td>None</td>\n",
       "      <td>017-WGDNGP</td>\n",
       "      <td>33.0</td>\n",
       "    </tr>\n",
       "  </tbody>\n",
       "</table>\n",
       "<p>5 rows × 24 columns</p>\n",
       "</div>"
      ],
      "text/plain": [
       "                                        @class stationCode  dangerLevel  \\\n",
       "0  com.eptisa.dto.SimpleFloodForecastStaticDto  038-CDJAPR          NaN   \n",
       "1  com.eptisa.dto.SimpleFloodForecastStaticDto  018-UGDHYD          NaN   \n",
       "2  com.eptisa.dto.SimpleFloodForecastStaticDto  041-CDJAPR          NaN   \n",
       "3  com.eptisa.dto.SimpleFloodForecastStaticDto  018MAHGAND       192.24   \n",
       "4  com.eptisa.dto.SimpleFloodForecastStaticDto  017-WGDNGP       174.00   \n",
       "\n",
       "  dlEndDate dlStartDate     frl frlEndDate frlStartDate  highestFlowLevel  \\\n",
       "0      None        None  316.00       None         None               NaN   \n",
       "1      None        None  523.60       None         None               NaN   \n",
       "2      None        None  258.62       None         None               NaN   \n",
       "3      None        None  189.59       None         None               NaN   \n",
       "4      None        None     NaN       None         None            176.45   \n",
       "\n",
       "  highestFlowLevelDate  ... mwlStartDate nearestTown     savedAt    type  \\\n",
       "0                 None  ...         None              2018-06-04  Inflow   \n",
       "1                 None  ...         None  Sangareddy  2014-05-20  Inflow   \n",
       "2                 None  ...         None              2018-06-04  Inflow   \n",
       "3                 None  ...         None              2014-06-04  Inflow   \n",
       "4           1986-08-14  ...         None   Balharsha  2014-05-21   Level   \n",
       "\n",
       "  warningLevel wlEndDate wlStartDate  \\\n",
       "0          NaN      None        None   \n",
       "1          NaN      None        None   \n",
       "2          NaN      None        None   \n",
       "3       187.06      None        None   \n",
       "4       171.50      None  2013-07-17   \n",
       "\n",
       "  floodForecastStaticBangladeshReportStationCode  layerStationStationCode  \\\n",
       "0                                           None               038-CDJAPR   \n",
       "1                                           None               018-UGDHYD   \n",
       "2                                           None               041-CDJAPR   \n",
       "3                                           None               018MAHGAND   \n",
       "4                                           None               017-WGDNGP   \n",
       "\n",
       "  meteorologicalSubdivisionId  \n",
       "0                         NaN  \n",
       "1                        17.0  \n",
       "2                         NaN  \n",
       "3                         2.0  \n",
       "4                        33.0  \n",
       "\n",
       "[5 rows x 24 columns]"
      ]
     },
     "execution_count": 5,
     "metadata": {},
     "output_type": "execute_result"
    }
   ],
   "source": [
    "r = requests.get(station_more_details_url,verify=False)\n",
    "txt = r.json()\n",
    "station_more_details_df = pd.DataFrame(txt)\n",
    "station_more_details_df.head()"
   ]
  },
  {
   "cell_type": "code",
   "execution_count": 6,
   "id": "b68b35ed",
   "metadata": {},
   "outputs": [],
   "source": [
    "station_more_details_df.to_csv('/home/krishna/IDS-DRR-Data-Pipeline/Sources/FFS/data/station_more_details.csv',index=False)"
   ]
  },
  {
   "cell_type": "code",
   "execution_count": 10,
   "id": "e4eeb555",
   "metadata": {},
   "outputs": [],
   "source": [
    "assam_polygon = gpd.read_file('/home/krishna/IDS-DRR-Data-Pipeline/Sources/FFS/data/Assam.geojson')"
   ]
  },
  {
   "cell_type": "code",
   "execution_count": 17,
   "id": "e57f6c42",
   "metadata": {},
   "outputs": [
    {
     "name": "stderr",
     "output_type": "stream",
     "text": [
      "/home/krishna/anaconda3/lib/python3.9/site-packages/pyproj/crs/crs.py:141: FutureWarning: '+init=<authority>:<code>' syntax is deprecated. '<authority>:<code>' is the preferred initialization method. When making the change, be mindful of axis order changes: https://pyproj4.github.io/pyproj/stable/gotchas.html#axis-order-changes-in-proj-6\n",
      "  in_crs_string = _prepare_from_proj_string(in_crs_string)\n"
     ]
    }
   ],
   "source": [
    "stations = pd.read_csv('/home/krishna/IDS-DRR-Data-Pipeline/Sources/FFS/data/station_coordinates.csv')\n",
    "\n",
    "# creating a geometry column \n",
    "geometry = [Point(xy) for xy in zip(stations['lon'], stations['lat'])]# Coordinate reference system : WGS84\n",
    "crs = {'init': 'epsg:4326'}# Creating a Geographic data frame \n",
    "stations_gdf = gpd.GeoDataFrame(stations, crs=crs, geometry=geometry)\n",
    "\n",
    "#Spatial join with assam state\n",
    "gpd.sjoin(stations_gdf.to_crs('EPSG:4326'),\n",
    "          assam_polygon.to_crs('EPSG:4326'),\n",
    "          how=\"inner\"\n",
    "         ).to_file('/home/krishna/IDS-DRR-Data-Pipeline/Sources/FFS/data/assam_stations.geojson',driver='GeoJSON')"
   ]
  },
  {
   "cell_type": "code",
   "execution_count": null,
   "id": "fe54c420",
   "metadata": {},
   "outputs": [],
   "source": [
    "assam_stations_gdf = gpd.read_file('/home/krishna/IDS-DRR-Data-Pipeline/Sources/FFS/data/assam_stations.geojson')\n"
   ]
  },
  {
   "cell_type": "code",
   "execution_count": 34,
   "id": "dda2e106",
   "metadata": {},
   "outputs": [
    {
     "name": "stdout",
     "output_type": "stream",
     "text": [
      "01-11-01-002\n"
     ]
    },
    {
     "name": "stderr",
     "output_type": "stream",
     "text": [
      "C:\\Users\\saikr\\anaconda3\\lib\\site-packages\\urllib3\\connectionpool.py:1013: InsecureRequestWarning: Unverified HTTPS request is being made to host 'ffs.india-water.gov.in'. Adding certificate verification is strongly advised. See: https://urllib3.readthedocs.io/en/1.26.x/advanced-usage.html#ssl-warnings\n",
      "  warnings.warn(\n"
     ]
    },
    {
     "name": "stdout",
     "output_type": "stream",
     "text": [
      "01-11-01-008\n"
     ]
    },
    {
     "name": "stderr",
     "output_type": "stream",
     "text": [
      "C:\\Users\\saikr\\anaconda3\\lib\\site-packages\\urllib3\\connectionpool.py:1013: InsecureRequestWarning: Unverified HTTPS request is being made to host 'ffs.india-water.gov.in'. Adding certificate verification is strongly advised. See: https://urllib3.readthedocs.io/en/1.26.x/advanced-usage.html#ssl-warnings\n",
      "  warnings.warn(\n"
     ]
    },
    {
     "name": "stdout",
     "output_type": "stream",
     "text": [
      "BV000FS\n"
     ]
    },
    {
     "name": "stderr",
     "output_type": "stream",
     "text": [
      "C:\\Users\\saikr\\anaconda3\\lib\\site-packages\\urllib3\\connectionpool.py:1013: InsecureRequestWarning: Unverified HTTPS request is being made to host 'ffs.india-water.gov.in'. Adding certificate verification is strongly advised. See: https://urllib3.readthedocs.io/en/1.26.x/advanced-usage.html#ssl-warnings\n",
      "  warnings.warn(\n"
     ]
    },
    {
     "name": "stdout",
     "output_type": "stream",
     "text": [
      "01-11-01-007\n"
     ]
    },
    {
     "name": "stderr",
     "output_type": "stream",
     "text": [
      "C:\\Users\\saikr\\anaconda3\\lib\\site-packages\\urllib3\\connectionpool.py:1013: InsecureRequestWarning: Unverified HTTPS request is being made to host 'ffs.india-water.gov.in'. Adding certificate verification is strongly advised. See: https://urllib3.readthedocs.io/en/1.26.x/advanced-usage.html#ssl-warnings\n",
      "  warnings.warn(\n"
     ]
    },
    {
     "name": "stdout",
     "output_type": "stream",
     "text": [
      "01-11-01-006\n"
     ]
    },
    {
     "name": "stderr",
     "output_type": "stream",
     "text": [
      "C:\\Users\\saikr\\anaconda3\\lib\\site-packages\\urllib3\\connectionpool.py:1013: InsecureRequestWarning: Unverified HTTPS request is being made to host 'ffs.india-water.gov.in'. Adding certificate verification is strongly advised. See: https://urllib3.readthedocs.io/en/1.26.x/advanced-usage.html#ssl-warnings\n",
      "  warnings.warn(\n"
     ]
    },
    {
     "name": "stdout",
     "output_type": "stream",
     "text": [
      "01-11-13-001\n"
     ]
    },
    {
     "name": "stderr",
     "output_type": "stream",
     "text": [
      "C:\\Users\\saikr\\anaconda3\\lib\\site-packages\\urllib3\\connectionpool.py:1013: InsecureRequestWarning: Unverified HTTPS request is being made to host 'ffs.india-water.gov.in'. Adding certificate verification is strongly advised. See: https://urllib3.readthedocs.io/en/1.26.x/advanced-usage.html#ssl-warnings\n",
      "  warnings.warn(\n"
     ]
    },
    {
     "name": "stdout",
     "output_type": "stream",
     "text": [
      "bv000f5\n"
     ]
    },
    {
     "name": "stderr",
     "output_type": "stream",
     "text": [
      "C:\\Users\\saikr\\anaconda3\\lib\\site-packages\\urllib3\\connectionpool.py:1013: InsecureRequestWarning: Unverified HTTPS request is being made to host 'ffs.india-water.gov.in'. Adding certificate verification is strongly advised. See: https://urllib3.readthedocs.io/en/1.26.x/advanced-usage.html#ssl-warnings\n",
      "  warnings.warn(\n"
     ]
    },
    {
     "name": "stdout",
     "output_type": "stream",
     "text": [
      "01-10-23-001\n"
     ]
    },
    {
     "name": "stderr",
     "output_type": "stream",
     "text": [
      "C:\\Users\\saikr\\anaconda3\\lib\\site-packages\\urllib3\\connectionpool.py:1013: InsecureRequestWarning: Unverified HTTPS request is being made to host 'ffs.india-water.gov.in'. Adding certificate verification is strongly advised. See: https://urllib3.readthedocs.io/en/1.26.x/advanced-usage.html#ssl-warnings\n",
      "  warnings.warn(\n"
     ]
    },
    {
     "name": "stdout",
     "output_type": "stream",
     "text": [
      "BKA00D7\n"
     ]
    },
    {
     "name": "stderr",
     "output_type": "stream",
     "text": [
      "C:\\Users\\saikr\\anaconda3\\lib\\site-packages\\urllib3\\connectionpool.py:1013: InsecureRequestWarning: Unverified HTTPS request is being made to host 'ffs.india-water.gov.in'. Adding certificate verification is strongly advised. See: https://urllib3.readthedocs.io/en/1.26.x/advanced-usage.html#ssl-warnings\n",
      "  warnings.warn(\n"
     ]
    },
    {
     "name": "stdout",
     "output_type": "stream",
     "text": [
      "057-UBDDIB\n"
     ]
    },
    {
     "name": "stderr",
     "output_type": "stream",
     "text": [
      "C:\\Users\\saikr\\anaconda3\\lib\\site-packages\\urllib3\\connectionpool.py:1013: InsecureRequestWarning: Unverified HTTPS request is being made to host 'ffs.india-water.gov.in'. Adding certificate verification is strongly advised. See: https://urllib3.readthedocs.io/en/1.26.x/advanced-usage.html#ssl-warnings\n",
      "  warnings.warn(\n"
     ]
    },
    {
     "name": "stdout",
     "output_type": "stream",
     "text": [
      "021-MDSIL\n"
     ]
    },
    {
     "name": "stderr",
     "output_type": "stream",
     "text": [
      "C:\\Users\\saikr\\anaconda3\\lib\\site-packages\\urllib3\\connectionpool.py:1013: InsecureRequestWarning: Unverified HTTPS request is being made to host 'ffs.india-water.gov.in'. Adding certificate verification is strongly advised. See: https://urllib3.readthedocs.io/en/1.26.x/advanced-usage.html#ssl-warnings\n",
      "  warnings.warn(\n"
     ]
    },
    {
     "name": "stdout",
     "output_type": "stream",
     "text": [
      "009-mdsil\n"
     ]
    },
    {
     "name": "stderr",
     "output_type": "stream",
     "text": [
      "C:\\Users\\saikr\\anaconda3\\lib\\site-packages\\urllib3\\connectionpool.py:1013: InsecureRequestWarning: Unverified HTTPS request is being made to host 'ffs.india-water.gov.in'. Adding certificate verification is strongly advised. See: https://urllib3.readthedocs.io/en/1.26.x/advanced-usage.html#ssl-warnings\n",
      "  warnings.warn(\n"
     ]
    },
    {
     "name": "stdout",
     "output_type": "stream",
     "text": [
      "018-MDSIL\n"
     ]
    },
    {
     "name": "stderr",
     "output_type": "stream",
     "text": [
      "C:\\Users\\saikr\\anaconda3\\lib\\site-packages\\urllib3\\connectionpool.py:1013: InsecureRequestWarning: Unverified HTTPS request is being made to host 'ffs.india-water.gov.in'. Adding certificate verification is strongly advised. See: https://urllib3.readthedocs.io/en/1.26.x/advanced-usage.html#ssl-warnings\n",
      "  warnings.warn(\n"
     ]
    },
    {
     "name": "stdout",
     "output_type": "stream",
     "text": [
      "019-MDSIL\n"
     ]
    },
    {
     "name": "stderr",
     "output_type": "stream",
     "text": [
      "C:\\Users\\saikr\\anaconda3\\lib\\site-packages\\urllib3\\connectionpool.py:1013: InsecureRequestWarning: Unverified HTTPS request is being made to host 'ffs.india-water.gov.in'. Adding certificate verification is strongly advised. See: https://urllib3.readthedocs.io/en/1.26.x/advanced-usage.html#ssl-warnings\n",
      "  warnings.warn(\n"
     ]
    },
    {
     "name": "stdout",
     "output_type": "stream",
     "text": [
      "024- MDSIL\n"
     ]
    },
    {
     "name": "stderr",
     "output_type": "stream",
     "text": [
      "C:\\Users\\saikr\\anaconda3\\lib\\site-packages\\urllib3\\connectionpool.py:1013: InsecureRequestWarning: Unverified HTTPS request is being made to host 'ffs.india-water.gov.in'. Adding certificate verification is strongly advised. See: https://urllib3.readthedocs.io/en/1.26.x/advanced-usage.html#ssl-warnings\n",
      "  warnings.warn(\n"
     ]
    },
    {
     "name": "stdout",
     "output_type": "stream",
     "text": [
      "027- MDSIL\n"
     ]
    },
    {
     "name": "stderr",
     "output_type": "stream",
     "text": [
      "C:\\Users\\saikr\\anaconda3\\lib\\site-packages\\urllib3\\connectionpool.py:1013: InsecureRequestWarning: Unverified HTTPS request is being made to host 'ffs.india-water.gov.in'. Adding certificate verification is strongly advised. See: https://urllib3.readthedocs.io/en/1.26.x/advanced-usage.html#ssl-warnings\n",
      "  warnings.warn(\n"
     ]
    },
    {
     "name": "stdout",
     "output_type": "stream",
     "text": [
      "028- MDSIL\n"
     ]
    },
    {
     "name": "stderr",
     "output_type": "stream",
     "text": [
      "C:\\Users\\saikr\\anaconda3\\lib\\site-packages\\urllib3\\connectionpool.py:1013: InsecureRequestWarning: Unverified HTTPS request is being made to host 'ffs.india-water.gov.in'. Adding certificate verification is strongly advised. See: https://urllib3.readthedocs.io/en/1.26.x/advanced-usage.html#ssl-warnings\n",
      "  warnings.warn(\n"
     ]
    },
    {
     "name": "stdout",
     "output_type": "stream",
     "text": [
      "016-MBDGHY\n"
     ]
    },
    {
     "name": "stderr",
     "output_type": "stream",
     "text": [
      "C:\\Users\\saikr\\anaconda3\\lib\\site-packages\\urllib3\\connectionpool.py:1013: InsecureRequestWarning: Unverified HTTPS request is being made to host 'ffs.india-water.gov.in'. Adding certificate verification is strongly advised. See: https://urllib3.readthedocs.io/en/1.26.x/advanced-usage.html#ssl-warnings\n",
      "  warnings.warn(\n"
     ]
    },
    {
     "name": "stdout",
     "output_type": "stream",
     "text": [
      "01-11-06-003\n"
     ]
    },
    {
     "name": "stderr",
     "output_type": "stream",
     "text": [
      "C:\\Users\\saikr\\anaconda3\\lib\\site-packages\\urllib3\\connectionpool.py:1013: InsecureRequestWarning: Unverified HTTPS request is being made to host 'ffs.india-water.gov.in'. Adding certificate verification is strongly advised. See: https://urllib3.readthedocs.io/en/1.26.x/advanced-usage.html#ssl-warnings\n",
      "  warnings.warn(\n"
     ]
    },
    {
     "name": "stdout",
     "output_type": "stream",
     "text": [
      "01-11-03-001\n"
     ]
    },
    {
     "name": "stderr",
     "output_type": "stream",
     "text": [
      "C:\\Users\\saikr\\anaconda3\\lib\\site-packages\\urllib3\\connectionpool.py:1013: InsecureRequestWarning: Unverified HTTPS request is being made to host 'ffs.india-water.gov.in'. Adding certificate verification is strongly advised. See: https://urllib3.readthedocs.io/en/1.26.x/advanced-usage.html#ssl-warnings\n",
      "  warnings.warn(\n"
     ]
    },
    {
     "name": "stdout",
     "output_type": "stream",
     "text": [
      "012-MBDGHY\n"
     ]
    },
    {
     "name": "stderr",
     "output_type": "stream",
     "text": [
      "C:\\Users\\saikr\\anaconda3\\lib\\site-packages\\urllib3\\connectionpool.py:1013: InsecureRequestWarning: Unverified HTTPS request is being made to host 'ffs.india-water.gov.in'. Adding certificate verification is strongly advised. See: https://urllib3.readthedocs.io/en/1.26.x/advanced-usage.html#ssl-warnings\n",
      "  warnings.warn(\n"
     ]
    },
    {
     "data": {
      "text/html": [
       "<div>\n",
       "<style scoped>\n",
       "    .dataframe tbody tr th:only-of-type {\n",
       "        vertical-align: middle;\n",
       "    }\n",
       "\n",
       "    .dataframe tbody tr th {\n",
       "        vertical-align: top;\n",
       "    }\n",
       "\n",
       "    .dataframe thead th {\n",
       "        text-align: right;\n",
       "    }\n",
       "</style>\n",
       "<table border=\"1\" class=\"dataframe\">\n",
       "  <thead>\n",
       "    <tr style=\"text-align: right;\">\n",
       "      <th></th>\n",
       "      <th>stationCode</th>\n",
       "      <th>Date</th>\n",
       "      <th>Time</th>\n",
       "      <th>dataValue</th>\n",
       "      <th>datatypeCode</th>\n",
       "    </tr>\n",
       "  </thead>\n",
       "  <tbody>\n",
       "    <tr>\n",
       "      <th>0</th>\n",
       "      <td>010-MBDGHY</td>\n",
       "      <td>2016-04-07</td>\n",
       "      <td>00:00:00</td>\n",
       "      <td>17.47</td>\n",
       "      <td>HHS</td>\n",
       "    </tr>\n",
       "    <tr>\n",
       "      <th>1</th>\n",
       "      <td>010-MBDGHY</td>\n",
       "      <td>2016-04-07</td>\n",
       "      <td>01:00:00</td>\n",
       "      <td>17.44</td>\n",
       "      <td>HHS</td>\n",
       "    </tr>\n",
       "    <tr>\n",
       "      <th>2</th>\n",
       "      <td>010-MBDGHY</td>\n",
       "      <td>2016-04-07</td>\n",
       "      <td>02:00:00</td>\n",
       "      <td>17.40</td>\n",
       "      <td>HHS</td>\n",
       "    </tr>\n",
       "    <tr>\n",
       "      <th>3</th>\n",
       "      <td>010-MBDGHY</td>\n",
       "      <td>2016-04-07</td>\n",
       "      <td>03:00:00</td>\n",
       "      <td>17.36</td>\n",
       "      <td>HHS</td>\n",
       "    </tr>\n",
       "    <tr>\n",
       "      <th>4</th>\n",
       "      <td>010-MBDGHY</td>\n",
       "      <td>2016-04-07</td>\n",
       "      <td>04:00:00</td>\n",
       "      <td>17.32</td>\n",
       "      <td>HHS</td>\n",
       "    </tr>\n",
       "    <tr>\n",
       "      <th>...</th>\n",
       "      <td>...</td>\n",
       "      <td>...</td>\n",
       "      <td>...</td>\n",
       "      <td>...</td>\n",
       "      <td>...</td>\n",
       "    </tr>\n",
       "    <tr>\n",
       "      <th>2124068</th>\n",
       "      <td>012-MBDGHY</td>\n",
       "      <td>2022-07-26</td>\n",
       "      <td>17:00:00</td>\n",
       "      <td>25.04</td>\n",
       "      <td>HHS</td>\n",
       "    </tr>\n",
       "    <tr>\n",
       "      <th>2124069</th>\n",
       "      <td>012-MBDGHY</td>\n",
       "      <td>2022-07-26</td>\n",
       "      <td>18:00:00</td>\n",
       "      <td>25.03</td>\n",
       "      <td>HHS</td>\n",
       "    </tr>\n",
       "    <tr>\n",
       "      <th>2124070</th>\n",
       "      <td>012-MBDGHY</td>\n",
       "      <td>2022-07-26</td>\n",
       "      <td>19:00:00</td>\n",
       "      <td>25.03</td>\n",
       "      <td>HHS</td>\n",
       "    </tr>\n",
       "    <tr>\n",
       "      <th>2124071</th>\n",
       "      <td>012-MBDGHY</td>\n",
       "      <td>2022-07-26</td>\n",
       "      <td>20:00:00</td>\n",
       "      <td>25.03</td>\n",
       "      <td>HHS</td>\n",
       "    </tr>\n",
       "    <tr>\n",
       "      <th>2124072</th>\n",
       "      <td>012-MBDGHY</td>\n",
       "      <td>2022-07-26</td>\n",
       "      <td>21:00:00</td>\n",
       "      <td>25.03</td>\n",
       "      <td>HHS</td>\n",
       "    </tr>\n",
       "  </tbody>\n",
       "</table>\n",
       "<p>2124073 rows × 5 columns</p>\n",
       "</div>"
      ],
      "text/plain": [
       "        stationCode        Date      Time  dataValue datatypeCode\n",
       "0        010-MBDGHY  2016-04-07  00:00:00      17.47          HHS\n",
       "1        010-MBDGHY  2016-04-07  01:00:00      17.44          HHS\n",
       "2        010-MBDGHY  2016-04-07  02:00:00      17.40          HHS\n",
       "3        010-MBDGHY  2016-04-07  03:00:00      17.36          HHS\n",
       "4        010-MBDGHY  2016-04-07  04:00:00      17.32          HHS\n",
       "...             ...         ...       ...        ...          ...\n",
       "2124068  012-MBDGHY  2022-07-26  17:00:00      25.04          HHS\n",
       "2124069  012-MBDGHY  2022-07-26  18:00:00      25.03          HHS\n",
       "2124070  012-MBDGHY  2022-07-26  19:00:00      25.03          HHS\n",
       "2124071  012-MBDGHY  2022-07-26  20:00:00      25.03          HHS\n",
       "2124072  012-MBDGHY  2022-07-26  21:00:00      25.03          HHS\n",
       "\n",
       "[2124073 rows x 5 columns]"
      ]
     },
     "execution_count": 34,
     "metadata": {},
     "output_type": "execute_result"
    }
   ],
   "source": [
    "startDate = '2016-01-01'\n",
    "endDate = '2022-07-30'\n",
    "\n",
    "master_df = pd.read_csv('Waterlevel_assam_stations.csv')\n",
    "\n",
    "for stationCode in list(assam_stations_df.stationCode):\n",
    "    print(stationCode)\n",
    "    dynamic_url = 'https://ffs.india-water.gov.in/iam/api/new-entry-data/specification/sorted?sort-criteria=%7B%22sortOrderDtos%22:%5B%7B%22sortDirection%22:%22ASC%22,%22field%22:%22id.dataTime%22%7D%5D%7D&specification=%7B%22where%22:%7B%22where%22:%7B%22where%22:%7B%22expression%22:%7B%22valueIsRelationField%22:false,%22fieldName%22:%22id.stationCode%22,%22operator%22:%22eq%22,%22value%22:%22'+stationCode+'%22%7D%7D,%22and%22:%7B%22expression%22:%7B%22valueIsRelationField%22:false,%22fieldName%22:%22id.datatypeCode%22,%22operator%22:%22eq%22,%22value%22:%22HHS%22%7D%7D%7D,%22and%22:%7B%22expression%22:%7B%22valueIsRelationField%22:false,%22fieldName%22:%22dataValue%22,%22operator%22:%22null%22,%22value%22:%22false%22%7D%7D%7D,%22and%22:%7B%22expression%22:%7B%22valueIsRelationField%22:false,%22fieldName%22:%22id.dataTime%22,%22operator%22:%22btn%22,%22value%22:%22'+startDate+'T16:49:44.574,'+endDate+'T16:49:44.574%22%7D%7D%7D'\n",
    "    r = requests.get(dynamic_url,verify=False)\n",
    "    txt = r.json()\n",
    "    df = pd.DataFrame(txt)\n",
    "    df['Date'] = df.id.apply(lambda x: x['dataTime'].split('T')[0])\n",
    "    df['Time'] = df.id.apply(lambda x: x['dataTime'].split('T')[1])\n",
    "    df = df[['stationCode','Date','Time','dataValue','datatypeCode']]\n",
    "    master_df = pd.concat([master_df,df],ignore_index=True)\n",
    "    master_df.to_csv('Waterlevel_assam_stations.csv',index=False)\n",
    "\n",
    "\n",
    "master_df\n"
   ]
  },
  {
   "cell_type": "markdown",
   "id": "269a3296",
   "metadata": {},
   "source": [
    "## References:\n",
    "1. https://pib.gov.in/newsite/PrintRelease.aspx?relid=181066\n",
    "2. http://jalshakti-dowr.gov.in/schemes-projects-programmes/schemes/flood-forecasting\n",
    "3. https://indiawris.gov.in/wiki/doku.php?id=cwc_national_flood_forecasting_network\n",
    "4. http://iced.cag.gov.in/wp-content/uploads/2016-17/NTP%2002/VD%20Roy.pdf\n",
    "5. http://cwc.gov.in/sites/default/files/final-appraisal-report-2020-publication-no..pdf"
   ]
  },
  {
   "cell_type": "markdown",
   "id": "d2b2d788",
   "metadata": {},
   "source": [
    "There are three divisions in Assam:\n",
    "1. Upper Brahmaputra Division, Dibrugarh (UBDDIB): As per 2020, 19 stations\n",
    "2. Middle Brahmaputra Divison, Guwahati (MBDGHY): As per 2020, 15 stations\n",
    "3. Lower Brahmaputra Division, Jalpaiguri (LBDJPG): As per 2020, 8 stations"
   ]
  },
  {
   "cell_type": "code",
   "execution_count": 12,
   "id": "df473c56",
   "metadata": {},
   "outputs": [
    {
     "data": {
      "text/html": [
       "<div>\n",
       "<style scoped>\n",
       "    .dataframe tbody tr th:only-of-type {\n",
       "        vertical-align: middle;\n",
       "    }\n",
       "\n",
       "    .dataframe tbody tr th {\n",
       "        vertical-align: top;\n",
       "    }\n",
       "\n",
       "    .dataframe thead th {\n",
       "        text-align: right;\n",
       "    }\n",
       "</style>\n",
       "<table border=\"1\" class=\"dataframe\">\n",
       "  <thead>\n",
       "    <tr style=\"text-align: right;\">\n",
       "      <th></th>\n",
       "      <th>stationCode</th>\n",
       "      <th>Date</th>\n",
       "      <th>Time</th>\n",
       "      <th>dataValue</th>\n",
       "      <th>datatypeCode</th>\n",
       "    </tr>\n",
       "  </thead>\n",
       "  <tbody>\n",
       "    <tr>\n",
       "      <th>0</th>\n",
       "      <td>010-MBDGHY</td>\n",
       "      <td>2016-04-07</td>\n",
       "      <td>00:00:00</td>\n",
       "      <td>17.47</td>\n",
       "      <td>HHS</td>\n",
       "    </tr>\n",
       "    <tr>\n",
       "      <th>1</th>\n",
       "      <td>010-MBDGHY</td>\n",
       "      <td>2016-04-07</td>\n",
       "      <td>01:00:00</td>\n",
       "      <td>17.44</td>\n",
       "      <td>HHS</td>\n",
       "    </tr>\n",
       "    <tr>\n",
       "      <th>2</th>\n",
       "      <td>010-MBDGHY</td>\n",
       "      <td>2016-04-07</td>\n",
       "      <td>02:00:00</td>\n",
       "      <td>17.40</td>\n",
       "      <td>HHS</td>\n",
       "    </tr>\n",
       "    <tr>\n",
       "      <th>3</th>\n",
       "      <td>010-MBDGHY</td>\n",
       "      <td>2016-04-07</td>\n",
       "      <td>03:00:00</td>\n",
       "      <td>17.36</td>\n",
       "      <td>HHS</td>\n",
       "    </tr>\n",
       "    <tr>\n",
       "      <th>4</th>\n",
       "      <td>010-MBDGHY</td>\n",
       "      <td>2016-04-07</td>\n",
       "      <td>04:00:00</td>\n",
       "      <td>17.32</td>\n",
       "      <td>HHS</td>\n",
       "    </tr>\n",
       "    <tr>\n",
       "      <th>...</th>\n",
       "      <td>...</td>\n",
       "      <td>...</td>\n",
       "      <td>...</td>\n",
       "      <td>...</td>\n",
       "      <td>...</td>\n",
       "    </tr>\n",
       "    <tr>\n",
       "      <th>2124068</th>\n",
       "      <td>012-MBDGHY</td>\n",
       "      <td>2022-07-26</td>\n",
       "      <td>17:00:00</td>\n",
       "      <td>25.04</td>\n",
       "      <td>HHS</td>\n",
       "    </tr>\n",
       "    <tr>\n",
       "      <th>2124069</th>\n",
       "      <td>012-MBDGHY</td>\n",
       "      <td>2022-07-26</td>\n",
       "      <td>18:00:00</td>\n",
       "      <td>25.03</td>\n",
       "      <td>HHS</td>\n",
       "    </tr>\n",
       "    <tr>\n",
       "      <th>2124070</th>\n",
       "      <td>012-MBDGHY</td>\n",
       "      <td>2022-07-26</td>\n",
       "      <td>19:00:00</td>\n",
       "      <td>25.03</td>\n",
       "      <td>HHS</td>\n",
       "    </tr>\n",
       "    <tr>\n",
       "      <th>2124071</th>\n",
       "      <td>012-MBDGHY</td>\n",
       "      <td>2022-07-26</td>\n",
       "      <td>20:00:00</td>\n",
       "      <td>25.03</td>\n",
       "      <td>HHS</td>\n",
       "    </tr>\n",
       "    <tr>\n",
       "      <th>2124072</th>\n",
       "      <td>012-MBDGHY</td>\n",
       "      <td>2022-07-26</td>\n",
       "      <td>21:00:00</td>\n",
       "      <td>25.03</td>\n",
       "      <td>HHS</td>\n",
       "    </tr>\n",
       "  </tbody>\n",
       "</table>\n",
       "<p>2124073 rows × 5 columns</p>\n",
       "</div>"
      ],
      "text/plain": [
       "        stationCode        Date      Time  dataValue datatypeCode\n",
       "0        010-MBDGHY  2016-04-07  00:00:00      17.47          HHS\n",
       "1        010-MBDGHY  2016-04-07  01:00:00      17.44          HHS\n",
       "2        010-MBDGHY  2016-04-07  02:00:00      17.40          HHS\n",
       "3        010-MBDGHY  2016-04-07  03:00:00      17.36          HHS\n",
       "4        010-MBDGHY  2016-04-07  04:00:00      17.32          HHS\n",
       "...             ...         ...       ...        ...          ...\n",
       "2124068  012-MBDGHY  2022-07-26  17:00:00      25.04          HHS\n",
       "2124069  012-MBDGHY  2022-07-26  18:00:00      25.03          HHS\n",
       "2124070  012-MBDGHY  2022-07-26  19:00:00      25.03          HHS\n",
       "2124071  012-MBDGHY  2022-07-26  20:00:00      25.03          HHS\n",
       "2124072  012-MBDGHY  2022-07-26  21:00:00      25.03          HHS\n",
       "\n",
       "[2124073 rows x 5 columns]"
      ]
     },
     "execution_count": 12,
     "metadata": {},
     "output_type": "execute_result"
    }
   ],
   "source": [
    "master_df = pd.read_csv('Waterlevel_assam_stations.csv')\n",
    "master_df"
   ]
  }
 ],
 "metadata": {
  "kernelspec": {
   "display_name": "Python 3 (ipykernel)",
   "language": "python",
   "name": "python3"
  },
  "language_info": {
   "codemirror_mode": {
    "name": "ipython",
    "version": 3
   },
   "file_extension": ".py",
   "mimetype": "text/x-python",
   "name": "python",
   "nbconvert_exporter": "python",
   "pygments_lexer": "ipython3",
   "version": "3.9.13"
  }
 },
 "nbformat": 4,
 "nbformat_minor": 5
}
