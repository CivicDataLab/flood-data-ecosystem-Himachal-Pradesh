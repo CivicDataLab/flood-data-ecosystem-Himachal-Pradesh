{
 "cells": [
  {
   "cell_type": "code",
   "execution_count": 1,
   "id": "c5a30383",
   "metadata": {},
   "outputs": [],
   "source": [
    "import pandas as pd\n",
    "import os"
   ]
  },
  {
   "cell_type": "code",
   "execution_count": 2,
   "id": "06681810",
   "metadata": {},
   "outputs": [],
   "source": [
    "data_path = '/home/krishna/IDS-DRR-Data-Pipeline/Sources/FRIMS/data/raw_data/'\n",
    "cleaned_data_path = '/home/krishna/IDS-DRR-Data-Pipeline/Sources/FRIMS/data/cleaned_data/'\n",
    "variables_path = '/home/krishna/IDS-DRR-Data-Pipeline/Sources/FRIMS/data/variables/'"
   ]
  },
  {
   "cell_type": "code",
   "execution_count": 3,
   "id": "b4177686",
   "metadata": {},
   "outputs": [],
   "source": [
    "frims_rc_id_mapping = pd.read_csv('/home/krishna/IDS-DRR-Data-Pipeline/Sources/FRIMS/data/frims_rc_id_mapping.csv')\n",
    "frims_rc_id_mapping = frims_rc_id_mapping[['object_id','RC_Id']]"
   ]
  },
  {
   "cell_type": "code",
   "execution_count": 17,
   "id": "4c8b15d1",
   "metadata": {},
   "outputs": [],
   "source": [
    "df = pd.read_excel(data_path+'FRIMS_Inf_Damage_Data_21_july_2023.xlsx',\n",
    "                   sheet_name=0)\n",
    "df = df.rename(columns = {'Revenue Circle Id': 'RC_Id'})"
   ]
  },
  {
   "cell_type": "code",
   "execution_count": 10,
   "id": "a15a816e",
   "metadata": {},
   "outputs": [
    {
     "data": {
      "text/html": [
       "<div>\n",
       "<style scoped>\n",
       "    .dataframe tbody tr th:only-of-type {\n",
       "        vertical-align: middle;\n",
       "    }\n",
       "\n",
       "    .dataframe tbody tr th {\n",
       "        vertical-align: top;\n",
       "    }\n",
       "\n",
       "    .dataframe thead th {\n",
       "        text-align: right;\n",
       "    }\n",
       "</style>\n",
       "<table border=\"1\" class=\"dataframe\">\n",
       "  <thead>\n",
       "    <tr style=\"text-align: right;\">\n",
       "      <th></th>\n",
       "      <th>Report_Date</th>\n",
       "      <th>District_Id</th>\n",
       "      <th>District_Name</th>\n",
       "      <th>DFC_Id</th>\n",
       "      <th>RC_Id</th>\n",
       "      <th>Block_Name</th>\n",
       "      <th>Infrastructure_Damage_Type</th>\n",
       "      <th>Name</th>\n",
       "      <th>Location</th>\n",
       "      <th>Longitude</th>\n",
       "      <th>Latitude</th>\n",
       "      <th>Remark</th>\n",
       "      <th>Department</th>\n",
       "    </tr>\n",
       "  </thead>\n",
       "  <tbody>\n",
       "    <tr>\n",
       "      <th>0</th>\n",
       "      <td>2021-05-15</td>\n",
       "      <td>2</td>\n",
       "      <td>Baksa</td>\n",
       "      <td>30</td>\n",
       "      <td>18.0</td>\n",
       "      <td>Jalah</td>\n",
       "      <td>NaN</td>\n",
       "      <td>NaN</td>\n",
       "      <td>NaN</td>\n",
       "      <td>NaN</td>\n",
       "      <td>NaN</td>\n",
       "      <td>NaN</td>\n",
       "      <td>NaN</td>\n",
       "    </tr>\n",
       "    <tr>\n",
       "      <th>1</th>\n",
       "      <td>2021-05-15</td>\n",
       "      <td>15</td>\n",
       "      <td>Nalbari</td>\n",
       "      <td>14</td>\n",
       "      <td>145.0</td>\n",
       "      <td>Barkhetri</td>\n",
       "      <td>NaN</td>\n",
       "      <td>NaN</td>\n",
       "      <td>NaN</td>\n",
       "      <td>NaN</td>\n",
       "      <td>NaN</td>\n",
       "      <td>NaN</td>\n",
       "      <td>NaN</td>\n",
       "    </tr>\n",
       "    <tr>\n",
       "      <th>2</th>\n",
       "      <td>2021-05-15</td>\n",
       "      <td>34</td>\n",
       "      <td>Chirang</td>\n",
       "      <td>105</td>\n",
       "      <td>45.0</td>\n",
       "      <td>Bengtal</td>\n",
       "      <td>NaN</td>\n",
       "      <td>NaN</td>\n",
       "      <td>NaN</td>\n",
       "      <td>NaN</td>\n",
       "      <td>NaN</td>\n",
       "      <td>NaN</td>\n",
       "      <td>NaN</td>\n",
       "    </tr>\n",
       "    <tr>\n",
       "      <th>3</th>\n",
       "      <td>2021-05-15</td>\n",
       "      <td>15</td>\n",
       "      <td>Nalbari</td>\n",
       "      <td>140</td>\n",
       "      <td>144.0</td>\n",
       "      <td>Nalbari</td>\n",
       "      <td>NaN</td>\n",
       "      <td>NaN</td>\n",
       "      <td>NaN</td>\n",
       "      <td>NaN</td>\n",
       "      <td>NaN</td>\n",
       "      <td>NaN</td>\n",
       "      <td>NaN</td>\n",
       "    </tr>\n",
       "    <tr>\n",
       "      <th>4</th>\n",
       "      <td>2021-05-15</td>\n",
       "      <td>2</td>\n",
       "      <td>Baksa</td>\n",
       "      <td>28</td>\n",
       "      <td>178.0</td>\n",
       "      <td>Barnagar RC part</td>\n",
       "      <td>NaN</td>\n",
       "      <td>NaN</td>\n",
       "      <td>NaN</td>\n",
       "      <td>NaN</td>\n",
       "      <td>NaN</td>\n",
       "      <td>NaN</td>\n",
       "      <td>NaN</td>\n",
       "    </tr>\n",
       "  </tbody>\n",
       "</table>\n",
       "</div>"
      ],
      "text/plain": [
       "  Report_Date  District_Id District_Name  DFC_Id  RC_Id        Block_Name  \\\n",
       "0  2021-05-15            2         Baksa      30   18.0             Jalah   \n",
       "1  2021-05-15           15       Nalbari      14  145.0         Barkhetri   \n",
       "2  2021-05-15           34       Chirang     105   45.0           Bengtal   \n",
       "3  2021-05-15           15       Nalbari     140  144.0           Nalbari   \n",
       "4  2021-05-15            2         Baksa      28  178.0  Barnagar RC part   \n",
       "\n",
       "  Infrastructure_Damage_Type Name Location  Longitude  Latitude Remark  \\\n",
       "0                        NaN  NaN      NaN        NaN       NaN    NaN   \n",
       "1                        NaN  NaN      NaN        NaN       NaN    NaN   \n",
       "2                        NaN  NaN      NaN        NaN       NaN    NaN   \n",
       "3                        NaN  NaN      NaN        NaN       NaN    NaN   \n",
       "4                        NaN  NaN      NaN        NaN       NaN    NaN   \n",
       "\n",
       "  Department  \n",
       "0        NaN  \n",
       "1        NaN  \n",
       "2        NaN  \n",
       "3        NaN  \n",
       "4        NaN  "
      ]
     },
     "execution_count": 10,
     "metadata": {},
     "output_type": "execute_result"
    }
   ],
   "source": [
    "# Updated dataset\n",
    "df = pd.read_csv(data_path + 'Infrastructure Damage.csv')\n",
    "df['Report_Date'] = pd.to_datetime(df['Report_Date'])\n",
    "df.head()"
   ]
  },
  {
   "cell_type": "code",
   "execution_count": 11,
   "id": "67151f79",
   "metadata": {},
   "outputs": [],
   "source": [
    "df = df.merge(frims_rc_id_mapping, on='RC_Id', how='left')"
   ]
  },
  {
   "cell_type": "code",
   "execution_count": 12,
   "id": "2330e576",
   "metadata": {},
   "outputs": [
    {
     "data": {
      "text/plain": [
       "set()"
      ]
     },
     "execution_count": 12,
     "metadata": {},
     "output_type": "execute_result"
    }
   ],
   "source": [
    "unmapped_rcs = set(df[df['object_id'].isnull()]['RC_Id'].dropna().to_list())\n",
    "unmapped_rcs"
   ]
  },
  {
   "cell_type": "code",
   "execution_count": 13,
   "id": "a724f18f",
   "metadata": {},
   "outputs": [],
   "source": [
    "df['month'] = df['Report_Date'].dt.month\n",
    "df['month'] = df.month.map(\"{:02}\".format)\n",
    "df['year'] = df['Report_Date'].dt.year"
   ]
  },
  {
   "cell_type": "code",
   "execution_count": 16,
   "id": "7f906f9f",
   "metadata": {},
   "outputs": [],
   "source": [
    "infra_damages_df = df.groupby(['year', 'month', 'object_id', 'Infrastructure_Damage_Type'])[['RC_Id']].count().reset_index()"
   ]
  },
  {
   "cell_type": "code",
   "execution_count": 17,
   "id": "54bbd220",
   "metadata": {},
   "outputs": [],
   "source": [
    "infra_damages_df.columns = ['year', 'month', 'object_id', 'Type', 'num_damages']"
   ]
  },
  {
   "cell_type": "code",
   "execution_count": 18,
   "id": "004999f7",
   "metadata": {},
   "outputs": [],
   "source": [
    "infra_damages_df['year_month'] = infra_damages_df['year'].astype(str) + '_' + infra_damages_df['month'].astype(str)"
   ]
  },
  {
   "cell_type": "code",
   "execution_count": 19,
   "id": "6412961b",
   "metadata": {},
   "outputs": [],
   "source": [
    "variables = infra_damages_df.Type.unique()"
   ]
  },
  {
   "cell_type": "code",
   "execution_count": 22,
   "id": "5fa7abb3",
   "metadata": {
    "scrolled": true
   },
   "outputs": [],
   "source": [
    "for variable in variables:\n",
    "    variable_df = infra_damages_df[infra_damages_df['Type'] == variable]\n",
    "    \n",
    "    for year_month in variable_df['year_month'].unique():\n",
    "        variable_df_monthly = variable_df[variable_df['year_month']==year_month]  \n",
    "        \n",
    "        variable_df_monthly = variable_df_monthly.rename(columns = {'num_damages': variable})\n",
    "        variable_df_monthly = variable_df_monthly[['object_id', variable]]\n",
    "        if os.path.exists(variables_path+variable):\n",
    "            variable_df_monthly.to_csv(variables_path+variable+'/{}_{}.csv'.format(variable, year_month), index=False)\n",
    "        else:\n",
    "            os.mkdir(variables_path+variable)\n",
    "            variable_df_monthly.to_csv(variables_path+variable+'/{}_{}.csv'.format(variable, year_month), index=False)"
   ]
  },
  {
   "cell_type": "code",
   "execution_count": null,
   "id": "df09f45f",
   "metadata": {},
   "outputs": [],
   "source": [
    "df[df['Revenue Circle Id']==61]"
   ]
  },
  {
   "cell_type": "code",
   "execution_count": null,
   "id": "d92cf8b3",
   "metadata": {},
   "outputs": [],
   "source": [
    "frims_rc_id_mapping[frims_rc_id_mapping['RC_Id']==169]"
   ]
  },
  {
   "cell_type": "code",
   "execution_count": 23,
   "id": "ceea980a",
   "metadata": {},
   "outputs": [
    {
     "data": {
      "text/plain": [
       "array(['Roads', 'Embankments affected', 'Bridge', 'Embankment breached'],\n",
       "      dtype=object)"
      ]
     },
     "execution_count": 23,
     "metadata": {},
     "output_type": "execute_result"
    }
   ],
   "source": [
    "variables"
   ]
  },
  {
   "cell_type": "code",
   "execution_count": null,
   "id": "cea49db7",
   "metadata": {},
   "outputs": [],
   "source": []
  }
 ],
 "metadata": {
  "kernelspec": {
   "display_name": "Python 3 (ipykernel)",
   "language": "python",
   "name": "python3"
  },
  "language_info": {
   "codemirror_mode": {
    "name": "ipython",
    "version": 3
   },
   "file_extension": ".py",
   "mimetype": "text/x-python",
   "name": "python",
   "nbconvert_exporter": "python",
   "pygments_lexer": "ipython3",
   "version": "3.9.13"
  }
 },
 "nbformat": 4,
 "nbformat_minor": 5
}
