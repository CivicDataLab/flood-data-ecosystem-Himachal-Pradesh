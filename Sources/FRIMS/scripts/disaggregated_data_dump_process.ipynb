{
 "cells": [
  {
   "cell_type": "code",
   "execution_count": 1,
   "id": "8515bf9c",
   "metadata": {},
   "outputs": [],
   "source": [
    "import pandas as pd\n",
    "import os"
   ]
  },
  {
   "cell_type": "code",
   "execution_count": 2,
   "id": "db9e9b08",
   "metadata": {},
   "outputs": [],
   "source": [
    "data_path = '/home/krishna/IDS-DRR-Data-Pipeline/Sources/FRIMS/data/raw_data/'\n",
    "cleaned_data_path = '/home/krishna/IDS-DRR-Data-Pipeline/Sources/FRIMS/data/cleaned_data/'\n",
    "variables_path = '/home/krishna/IDS-DRR-Data-Pipeline/Sources/FRIMS/data/variables/'"
   ]
  },
  {
   "cell_type": "code",
   "execution_count": 52,
   "id": "fd8db343",
   "metadata": {},
   "outputs": [],
   "source": [
    "xl = pd.ExcelFile(data_path+'Data_as_per_requested_till_31st_Aug_2023.xlsx')\n",
    "res = len(xl.sheet_names) #Number of sheets\n",
    "\n",
    "df = pd.read_excel(data_path+'Data_as_per_requested_till_31st_Aug_2023.xlsx',\n",
    "                   sheet_name=0)"
   ]
  },
  {
   "cell_type": "code",
   "execution_count": 22,
   "id": "db8c70a2",
   "metadata": {},
   "outputs": [
    {
     "data": {
      "text/html": [
       "<div>\n",
       "<style scoped>\n",
       "    .dataframe tbody tr th:only-of-type {\n",
       "        vertical-align: middle;\n",
       "    }\n",
       "\n",
       "    .dataframe tbody tr th {\n",
       "        vertical-align: top;\n",
       "    }\n",
       "\n",
       "    .dataframe thead th {\n",
       "        text-align: right;\n",
       "    }\n",
       "</style>\n",
       "<table border=\"1\" class=\"dataframe\">\n",
       "  <thead>\n",
       "    <tr style=\"text-align: right;\">\n",
       "      <th></th>\n",
       "      <th>Report_Date</th>\n",
       "      <th>District_Id</th>\n",
       "      <th>District_Name</th>\n",
       "      <th>DFC_Id</th>\n",
       "      <th>RC_Id</th>\n",
       "      <th>District_Name.1</th>\n",
       "      <th>Crop_Area</th>\n",
       "    </tr>\n",
       "  </thead>\n",
       "  <tbody>\n",
       "    <tr>\n",
       "      <th>0</th>\n",
       "      <td>2021-05-15</td>\n",
       "      <td>22</td>\n",
       "      <td>Karbi Anglong West</td>\n",
       "      <td>21</td>\n",
       "      <td>113.0</td>\n",
       "      <td>Donkamokam</td>\n",
       "      <td>0.0</td>\n",
       "    </tr>\n",
       "    <tr>\n",
       "      <th>1</th>\n",
       "      <td>2021-05-15</td>\n",
       "      <td>23</td>\n",
       "      <td>Tinsukia</td>\n",
       "      <td>8</td>\n",
       "      <td>165.0</td>\n",
       "      <td>Sadiya</td>\n",
       "      <td>0.0</td>\n",
       "    </tr>\n",
       "    <tr>\n",
       "      <th>2</th>\n",
       "      <td>2021-05-15</td>\n",
       "      <td>27</td>\n",
       "      <td>Hojai</td>\n",
       "      <td>25</td>\n",
       "      <td>88.0</td>\n",
       "      <td>Lanka</td>\n",
       "      <td>0.0</td>\n",
       "    </tr>\n",
       "    <tr>\n",
       "      <th>3</th>\n",
       "      <td>2021-05-15</td>\n",
       "      <td>3</td>\n",
       "      <td>Barpeta</td>\n",
       "      <td>32</td>\n",
       "      <td>21.0</td>\n",
       "      <td>Chenga</td>\n",
       "      <td>0.0</td>\n",
       "    </tr>\n",
       "    <tr>\n",
       "      <th>4</th>\n",
       "      <td>2021-05-15</td>\n",
       "      <td>33</td>\n",
       "      <td>Dhubri</td>\n",
       "      <td>40</td>\n",
       "      <td>60.0</td>\n",
       "      <td>Gauripur</td>\n",
       "      <td>0.0</td>\n",
       "    </tr>\n",
       "  </tbody>\n",
       "</table>\n",
       "</div>"
      ],
      "text/plain": [
       "  Report_Date  District_Id       District_Name  DFC_Id  RC_Id District_Name.1  \\\n",
       "0  2021-05-15           22  Karbi Anglong West      21  113.0      Donkamokam   \n",
       "1  2021-05-15           23            Tinsukia       8  165.0          Sadiya   \n",
       "2  2021-05-15           27               Hojai      25   88.0           Lanka   \n",
       "3  2021-05-15            3             Barpeta      32   21.0          Chenga   \n",
       "4  2021-05-15           33              Dhubri      40   60.0        Gauripur   \n",
       "\n",
       "   Crop_Area  \n",
       "0        0.0  \n",
       "1        0.0  \n",
       "2        0.0  \n",
       "3        0.0  \n",
       "4        0.0  "
      ]
     },
     "execution_count": 22,
     "metadata": {},
     "output_type": "execute_result"
    }
   ],
   "source": [
    "## Use this data frame for Crop area variable\n",
    "df = pd.read_csv(data_path + 'Frims crop area.csv')\n",
    "df['Report_Date'] = pd.to_datetime(df['Report_Date'])\n",
    "df['Crop_Area'] = df['Crop_Area'].fillna(0)\n",
    "df.head()"
   ]
  },
  {
   "cell_type": "code",
   "execution_count": 23,
   "id": "c084e814",
   "metadata": {},
   "outputs": [],
   "source": [
    "frims_rc_id_mapping = pd.read_csv('/home/krishna/IDS-DRR-Data-Pipeline/Sources/FRIMS/data/frims_rc_id_mapping.csv')\n",
    "frims_rc_id_mapping = frims_rc_id_mapping[['object_id','RC_Id']]"
   ]
  },
  {
   "cell_type": "code",
   "execution_count": 24,
   "id": "a263accf",
   "metadata": {},
   "outputs": [],
   "source": [
    "df = df.merge(frims_rc_id_mapping, on='RC_Id', how='left')"
   ]
  },
  {
   "cell_type": "code",
   "execution_count": 25,
   "id": "c524d639",
   "metadata": {},
   "outputs": [
    {
     "data": {
      "text/plain": [
       "set()"
      ]
     },
     "execution_count": 25,
     "metadata": {},
     "output_type": "execute_result"
    }
   ],
   "source": [
    "unmapped_rcs = set(df[df['object_id'].isnull()]['RC_Id'].dropna().to_list())\n",
    "unmapped_rcs"
   ]
  },
  {
   "cell_type": "code",
   "execution_count": 26,
   "id": "93f5e86a",
   "metadata": {},
   "outputs": [],
   "source": [
    "cols = df.columns.to_list()"
   ]
  },
  {
   "cell_type": "code",
   "execution_count": 27,
   "id": "f8356434",
   "metadata": {},
   "outputs": [],
   "source": [
    "cols_to_remove_for_aggregation = ['Id','Report_Date','Report Date',\n",
    "                                  'District_Id','District Id',\n",
    "                                  'Revenue_Name','Revenue Circle Name',\n",
    "                                  'RC_Id', 'Revenue Circle Id', \n",
    "                                  'District_Name', 'District Name',\n",
    "                                  'DFC_Id','DCF_Id', 'object_id',\n",
    "                                  'Block_Name',\n",
    "                                  'Type', 'Name','Location',''\n",
    "                                 'Relief_Distribution_Center_Name', 'Child_friendly_Space',\n",
    "                                 'Latitude', 'Longitude',\n",
    "                                  'Relief_Distribution_Other_Item_Name', 'Relief_Distribution_Other_Item_Qty',\n",
    "                                 'Relief_Distribution_Other_Item_Unit',\n",
    "                                 'Human_Live_Lost_Type']\n",
    "\n",
    "for col_to_remove in cols_to_remove_for_aggregation:\n",
    "    try:\n",
    "        cols.remove(col_to_remove)\n",
    "    except:\n",
    "        continue"
   ]
  },
  {
   "cell_type": "code",
   "execution_count": 28,
   "id": "0dca18b9",
   "metadata": {},
   "outputs": [
    {
     "data": {
      "text/html": [
       "<div>\n",
       "<style scoped>\n",
       "    .dataframe tbody tr th:only-of-type {\n",
       "        vertical-align: middle;\n",
       "    }\n",
       "\n",
       "    .dataframe tbody tr th {\n",
       "        vertical-align: top;\n",
       "    }\n",
       "\n",
       "    .dataframe thead th {\n",
       "        text-align: right;\n",
       "    }\n",
       "</style>\n",
       "<table border=\"1\" class=\"dataframe\">\n",
       "  <thead>\n",
       "    <tr style=\"text-align: right;\">\n",
       "      <th></th>\n",
       "      <th></th>\n",
       "      <th>Crop_Area</th>\n",
       "    </tr>\n",
       "    <tr>\n",
       "      <th>Report_Date</th>\n",
       "      <th>object_id</th>\n",
       "      <th></th>\n",
       "    </tr>\n",
       "  </thead>\n",
       "  <tbody>\n",
       "    <tr>\n",
       "      <th rowspan=\"5\" valign=\"top\">2021-05-15</th>\n",
       "      <th>101.0</th>\n",
       "      <td>0.0</td>\n",
       "    </tr>\n",
       "    <tr>\n",
       "      <th>102.0</th>\n",
       "      <td>0.0</td>\n",
       "    </tr>\n",
       "    <tr>\n",
       "      <th>103.0</th>\n",
       "      <td>0.0</td>\n",
       "    </tr>\n",
       "    <tr>\n",
       "      <th>104.0</th>\n",
       "      <td>0.0</td>\n",
       "    </tr>\n",
       "    <tr>\n",
       "      <th>105.0</th>\n",
       "      <td>0.0</td>\n",
       "    </tr>\n",
       "    <tr>\n",
       "      <th>...</th>\n",
       "      <th>...</th>\n",
       "      <td>...</td>\n",
       "    </tr>\n",
       "    <tr>\n",
       "      <th rowspan=\"5\" valign=\"top\">2023-08-30</th>\n",
       "      <th>277.0</th>\n",
       "      <td>0.0</td>\n",
       "    </tr>\n",
       "    <tr>\n",
       "      <th>278.0</th>\n",
       "      <td>0.0</td>\n",
       "    </tr>\n",
       "    <tr>\n",
       "      <th>279.0</th>\n",
       "      <td>0.0</td>\n",
       "    </tr>\n",
       "    <tr>\n",
       "      <th>280.0</th>\n",
       "      <td>443.0</td>\n",
       "    </tr>\n",
       "    <tr>\n",
       "      <th>281.0</th>\n",
       "      <td>3338.0</td>\n",
       "    </tr>\n",
       "  </tbody>\n",
       "</table>\n",
       "<p>67427 rows × 1 columns</p>\n",
       "</div>"
      ],
      "text/plain": [
       "                       Crop_Area\n",
       "Report_Date object_id           \n",
       "2021-05-15  101.0            0.0\n",
       "            102.0            0.0\n",
       "            103.0            0.0\n",
       "            104.0            0.0\n",
       "            105.0            0.0\n",
       "...                          ...\n",
       "2023-08-30  277.0            0.0\n",
       "            278.0            0.0\n",
       "            279.0            0.0\n",
       "            280.0          443.0\n",
       "            281.0         3338.0\n",
       "\n",
       "[67427 rows x 1 columns]"
      ]
     },
     "execution_count": 28,
     "metadata": {},
     "output_type": "execute_result"
    }
   ],
   "source": [
    "grouped_df = df.groupby(['Report_Date', 'object_id'])[cols].sum()\n",
    "grouped_df"
   ]
  },
  {
   "cell_type": "code",
   "execution_count": 29,
   "id": "e4cdee19",
   "metadata": {},
   "outputs": [],
   "source": [
    "variables = grouped_df.columns"
   ]
  },
  {
   "cell_type": "code",
   "execution_count": 30,
   "id": "49bd543d",
   "metadata": {},
   "outputs": [],
   "source": [
    "\n",
    "for variable in variables:\n",
    "    variable_df = grouped_df[variable].reset_index()\n",
    "    variable_df['year'] = variable_df.Report_Date.dt.year\n",
    "    variable_df['month'] = variable_df.Report_Date.dt.month\n",
    "    variable_df['month'] = variable_df.month.map(\"{:02}\".format)\n",
    "    variable_df = variable_df.groupby(['year','month','object_id'])[variable].sum().reset_index()\n",
    "    variable_df['year_month'] = variable_df['year'].astype(str) + '_' + variable_df['month'].astype(str)\n",
    "    \n",
    "    for year_month in variable_df['year_month'].unique():\n",
    "        variable_df_monthly = variable_df[variable_df['year_month']==year_month]        \n",
    "        \n",
    "        variable_df_monthly = variable_df_monthly[['object_id', variable]]\n",
    "        if os.path.exists(variables_path+variable):\n",
    "            variable_df_monthly.to_csv(variables_path+variable+'/{}_{}.csv'.format(variable, year_month), index=False)\n",
    "        else:\n",
    "            os.mkdir(variables_path+variable)\n",
    "            variable_df_monthly.to_csv(variables_path+variable+'/{}_{}.csv'.format(variable, year_month), index=False)"
   ]
  },
  {
   "cell_type": "code",
   "execution_count": null,
   "id": "e7674fe5",
   "metadata": {},
   "outputs": [],
   "source": [
    "df[df['RC_Id']==188]"
   ]
  },
  {
   "cell_type": "code",
   "execution_count": null,
   "id": "87c9a479",
   "metadata": {},
   "outputs": [],
   "source": []
  },
  {
   "cell_type": "code",
   "execution_count": null,
   "id": "cf4d689b",
   "metadata": {},
   "outputs": [],
   "source": []
  },
  {
   "cell_type": "code",
   "execution_count": null,
   "id": "3fc0873c",
   "metadata": {},
   "outputs": [],
   "source": []
  },
  {
   "cell_type": "code",
   "execution_count": null,
   "id": "4aee8115",
   "metadata": {},
   "outputs": [],
   "source": []
  },
  {
   "cell_type": "code",
   "execution_count": null,
   "id": "24b3ab71",
   "metadata": {},
   "outputs": [],
   "source": []
  },
  {
   "cell_type": "code",
   "execution_count": null,
   "id": "913e52a6",
   "metadata": {},
   "outputs": [],
   "source": [
    "# FRIMS RC ID MAPPING"
   ]
  },
  {
   "cell_type": "code",
   "execution_count": null,
   "id": "e848c2b6",
   "metadata": {},
   "outputs": [],
   "source": [
    "import geopandas as gpd\n",
    "rc_gdf = gpd.read_file('/home/krishna/IDS-DRR-Data-Pipeline/Maps/Assam_Revenue_Circles/assam_revenue_circle_nov2022.geojson')"
   ]
  },
  {
   "cell_type": "code",
   "execution_count": null,
   "id": "348ebe67",
   "metadata": {},
   "outputs": [],
   "source": [
    "rc_gdf = rc_gdf[['revenue_ci', 'object_id','district_3']]"
   ]
  },
  {
   "cell_type": "code",
   "execution_count": null,
   "id": "7f78c170",
   "metadata": {},
   "outputs": [],
   "source": [
    "frims_rcs = df[['Revenue_Name','RC_Id','District_Name']].drop_duplicates()\n",
    "frims_rcs"
   ]
  },
  {
   "cell_type": "code",
   "execution_count": null,
   "id": "2fddaeb9",
   "metadata": {},
   "outputs": [],
   "source": [
    "def fuzzy_merge(df_1, df_2, key1, key2, threshold=90, limit=2):\n",
    "    \"\"\"\n",
    "    :param df_1: the left table to join\n",
    "    :param df_2: the right table to join\n",
    "    :param key1: key column of the left table\n",
    "    :param key2: key column of the right table\n",
    "    :param threshold: how close the matches should be to return a match, based on Levenshtein distance\n",
    "    :param limit: the amount of matches that will get returned, these are sorted high to low\n",
    "    :return: dataframe with boths keys and matches\n",
    "    \"\"\"\n",
    "    s = df_2[key2].tolist()\n",
    "\n",
    "    m = df_1[key1].apply(lambda x: process.extract(x, s, limit=limit))    \n",
    "    df_1['matches'] = m\n",
    "\n",
    "    m2 = df_1['matches'].apply(lambda x: ', '.join([i[0] for i in x if i[1] >= threshold]))\n",
    "    df_1['matches'] = m2\n",
    "\n",
    "    return df_1"
   ]
  },
  {
   "cell_type": "code",
   "execution_count": null,
   "id": "7c8231f3",
   "metadata": {},
   "outputs": [],
   "source": [
    "from fuzzywuzzy import fuzz\n",
    "from fuzzywuzzy import process"
   ]
  },
  {
   "cell_type": "code",
   "execution_count": null,
   "id": "714eab8a",
   "metadata": {},
   "outputs": [],
   "source": [
    "fuzzymatch = fuzzy_merge(rc_gdf, frims_rcs, 'revenue_ci', 'Revenue_Name', threshold=80,limit=1)\n",
    "fuzzymatch"
   ]
  },
  {
   "cell_type": "code",
   "execution_count": null,
   "id": "016036a7",
   "metadata": {},
   "outputs": [],
   "source": [
    "fuzzymatch.merge(frims_rcs, left_on='matches', right_on='Revenue_Name').to_csv('frims_rc_id_mapping.csv', index=False)"
   ]
  },
  {
   "cell_type": "code",
   "execution_count": null,
   "id": "f05faa73",
   "metadata": {},
   "outputs": [],
   "source": []
  }
 ],
 "metadata": {
  "kernelspec": {
   "display_name": "Python 3 (ipykernel)",
   "language": "python",
   "name": "python3"
  },
  "language_info": {
   "codemirror_mode": {
    "name": "ipython",
    "version": 3
   },
   "file_extension": ".py",
   "mimetype": "text/x-python",
   "name": "python",
   "nbconvert_exporter": "python",
   "pygments_lexer": "ipython3",
   "version": "3.9.13"
  }
 },
 "nbformat": 4,
 "nbformat_minor": 5
}
